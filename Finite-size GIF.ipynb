{
 "cells": [
  {
   "cell_type": "code",
   "execution_count": 1,
   "metadata": {
    "collapsed": false
   },
   "outputs": [
    {
     "name": "stderr",
     "output_type": "stream",
     "text": [
      "WARNING (theano.sandbox.cuda): The cuda backend is deprecated and will be removed in the next release (v0.10).  Please switch to the gpuarray backend. You can get more information about how to switch at this URL:\n",
      " https://github.com/Theano/Theano/wiki/Converting-to-the-new-gpu-back-end%28gpuarray%29\n",
      "\n",
      "ERROR (theano.sandbox.cuda): nvcc compiler not found on $PATH. Check your nvcc installation and try again.\n",
      "[monochrome_palette]: value was greater than 1 and was clipped.\n"
     ]
    }
   ],
   "source": [
    "import numpy as np\n",
    "import matplotlib.pyplot as plt\n",
    "import theano\n",
    "import theano.tensor as T\n",
    "\n",
    "import theano_shim as shim\n",
    "import sinn\n",
    "from sinn.histories import Spiketrain, Series\n",
    "import sinn.iotools as io\n",
    "import sinn.analyze as anlz\n",
    "\n",
    "import main\n",
    "import fsgif_model as fsgif\n",
    "\n",
    "np.set_printoptions(precision=3, suppress=True)\n",
    "%matplotlib inline"
   ]
  },
  {
   "cell_type": "code",
   "execution_count": 2,
   "metadata": {
    "collapsed": true
   },
   "outputs": [],
   "source": [
    "Ahist = Series.from_raw(io.loadraw(\"I-sin_mf_raw.dat\"))\n",
    "Ihist = Series.from_raw(io.loadraw(\"I-sin_input_raw.dat\"))"
   ]
  },
  {
   "cell_type": "code",
   "execution_count": 3,
   "metadata": {
    "collapsed": false
   },
   "outputs": [],
   "source": [
    "model_params, memory_time = main.get_params()\n",
    "mfmodel = fsgif.GIF_mean_field(model_params, Ahist, Ihist)"
   ]
  },
  {
   "cell_type": "code",
   "execution_count": 4,
   "metadata": {
    "collapsed": false
   },
   "outputs": [
    {
     "data": {
      "text/plain": [
       "<matplotlib.axes._subplots.AxesSubplot at 0x7f39740bda20>"
      ]
     },
     "execution_count": 4,
     "metadata": {},
     "output_type": "execute_result"
    },
    {
     "data": {
      "image/png": "[encoded data removed]",
      "text/plain": [
       "<matplotlib.figure.Figure at 0x7f39740bd208>"
      ]
     },
     "metadata": {},
     "output_type": "display_data"
    }
   ],
   "source": [
    "anlz.plot(Ahist)"
   ]
  },
  {
   "cell_type": "code",
   "execution_count": 5,
   "metadata": {
    "collapsed": false
   },
   "outputs": [
    {
     "data": {
      "text/plain": [
       "<matplotlib.axes._subplots.AxesSubplot at 0x7f3973fcd0b8>"
      ]
     },
     "execution_count": 5,
     "metadata": {},
     "output_type": "execute_result"
    },
    {
     "data": {
      "image/png": "[encoded data removed]",
      "text/plain": [
       "<matplotlib.figure.Figure at 0x7f39740bd9b0>"
      ]
     },
     "metadata": {},
     "output_type": "display_data"
    }
   ],
   "source": [
    "anlz.plot(mfmodel.n)"
   ]
  },
  {
   "cell_type": "code",
   "execution_count": 6,
   "metadata": {
    "collapsed": false,
    "scrolled": false
   },
   "outputs": [
    {
     "data": {
      "text/plain": [
       "ShimmedShared(-5942564.490928166)"
      ]
     },
     "execution_count": 6,
     "metadata": {},
     "output_type": "execute_result"
    }
   ],
   "source": [
    "mfmodel.loglikelihood(1.0, 3.0)"
   ]
  },
  {
   "cell_type": "code",
   "execution_count": null,
   "metadata": {
    "collapsed": false
   },
   "outputs": [
    {
     "name": "stdout",
     "output_type": "stream",
     "text": [
      "> \u001b[0;32m/home/rene/Recherche/macke_lab/code/theano_shim/theano_shim/core.py\u001b[0m(1085)\u001b[0;36mlog\u001b[0;34m()\u001b[0m\n",
      "\u001b[0;32m   1083 \u001b[0;31m    \u001b[0;32mif\u001b[0m \u001b[0mis_theano_object\u001b[0m\u001b[0;34m(\u001b[0m\u001b[0mx\u001b[0m\u001b[0;34m)\u001b[0m\u001b[0;34m:\u001b[0m\u001b[0;34m\u001b[0m\u001b[0m\n",
      "\u001b[0m\u001b[0;32m   1084 \u001b[0;31m        \u001b[0;32mreturn\u001b[0m \u001b[0mT\u001b[0m\u001b[0;34m.\u001b[0m\u001b[0mlog\u001b[0m\u001b[0;34m(\u001b[0m\u001b[0mx\u001b[0m\u001b[0;34m)\u001b[0m\u001b[0;34m\u001b[0m\u001b[0m\n",
      "\u001b[0m\u001b[0;32m-> 1085 \u001b[0;31m    \u001b[0;32melse\u001b[0m\u001b[0;34m:\u001b[0m\u001b[0;34m\u001b[0m\u001b[0m\n",
      "\u001b[0m\u001b[0;32m   1086 \u001b[0;31m        \u001b[0;32mreturn\u001b[0m \u001b[0mnp\u001b[0m\u001b[0;34m.\u001b[0m\u001b[0mlog\u001b[0m\u001b[0;34m(\u001b[0m\u001b[0mx\u001b[0m\u001b[0;34m)\u001b[0m\u001b[0;34m\u001b[0m\u001b[0m\n",
      "\u001b[0m\u001b[0;32m   1087 \u001b[0;31m\u001b[0;32mdef\u001b[0m \u001b[0mlog10\u001b[0m\u001b[0;34m(\u001b[0m\u001b[0mx\u001b[0m\u001b[0;34m)\u001b[0m\u001b[0;34m:\u001b[0m\u001b[0;34m\u001b[0m\u001b[0m\n",
      "\u001b[0m\n",
      "ipdb> up\n",
      "> \u001b[0;32m/home/rene/Recherche/macke_lab/code/sinn/sinn/models/common.py\u001b[0m(315)\u001b[0;36mloglikelihood\u001b[0;34m()\u001b[0m\n",
      "\u001b[0;32m    313 \u001b[0;31m                l = shim.sum( -shim.log(shim.factorial(n_arr, exact=True))\n",
      "\u001b[0m\u001b[0;32m    314 \u001b[0;31m                              \u001b[0;34m-\u001b[0m\u001b[0;34m(\u001b[0m\u001b[0mN\u001b[0m\u001b[0;34m-\u001b[0m\u001b[0mn_arr\u001b[0m\u001b[0;34m)\u001b[0m\u001b[0;34m*\u001b[0m\u001b[0mshim\u001b[0m\u001b[0;34m.\u001b[0m\u001b[0mlog\u001b[0m\u001b[0;34m(\u001b[0m\u001b[0mN\u001b[0m \u001b[0;34m-\u001b[0m \u001b[0mn_arr\u001b[0m\u001b[0;34m)\u001b[0m \u001b[0;34m+\u001b[0m \u001b[0mN\u001b[0m\u001b[0;34m-\u001b[0m\u001b[0mn_arr\u001b[0m \u001b[0;34m+\u001b[0m \u001b[0mn_arr\u001b[0m\u001b[0;34m*\u001b[0m\u001b[0mshim\u001b[0m\u001b[0;34m.\u001b[0m\u001b[0mlog\u001b[0m\u001b[0;34m(\u001b[0m\u001b[0mp_arr\u001b[0m\u001b[0;34m)\u001b[0m\u001b[0;34m\u001b[0m\u001b[0m\n",
      "\u001b[0m\u001b[0;32m--> 315 \u001b[0;31m                              + (N-n_arr)*shim.log(1-p_arr) )\n",
      "\u001b[0m\u001b[0;32m    316 \u001b[0;31m                    \u001b[0;31m# with exact=True, factorial is computed only once for whole array\u001b[0m\u001b[0;34m\u001b[0m\u001b[0;34m\u001b[0m\u001b[0m\n",
      "\u001b[0m\u001b[0;32m    317 \u001b[0;31m            \u001b[0;32melse\u001b[0m\u001b[0;34m:\u001b[0m\u001b[0;34m\u001b[0m\u001b[0m\n",
      "\u001b[0m\n",
      "ipdb> shim.isshared(n_arr)\n",
      "False\n",
      "ipdb> shim.cf._Terminating_types\n",
      "*** AttributeError: module 'theano_shim.config' has no attribute '_Terminating_types'\n",
      "ipdb> shim.cf._TerminatingTypes\n",
      "(<class 'scipy.sparse.base.spmatrix'>, <class 'theano_shim.core.ShimmedShared'>, <class 'str'>)\n",
      "ipdb> break 365\n",
      "End of file\n",
      "ipdb> d\n",
      "> \u001b[0;32m/home/rene/Recherche/macke_lab/code/theano_shim/theano_shim/core.py\u001b[0m(1085)\u001b[0;36mlog\u001b[0;34m()\u001b[0m\n",
      "\u001b[0;32m   1083 \u001b[0;31m    \u001b[0;32mif\u001b[0m \u001b[0mis_theano_object\u001b[0m\u001b[0;34m(\u001b[0m\u001b[0mx\u001b[0m\u001b[0;34m)\u001b[0m\u001b[0;34m:\u001b[0m\u001b[0;34m\u001b[0m\u001b[0m\n",
      "\u001b[0m\u001b[0;32m   1084 \u001b[0;31m        \u001b[0;32mreturn\u001b[0m \u001b[0mT\u001b[0m\u001b[0;34m.\u001b[0m\u001b[0mlog\u001b[0m\u001b[0;34m(\u001b[0m\u001b[0mx\u001b[0m\u001b[0;34m)\u001b[0m\u001b[0;34m\u001b[0m\u001b[0m\n",
      "\u001b[0m\u001b[0;32m-> 1085 \u001b[0;31m    \u001b[0;32melse\u001b[0m\u001b[0;34m:\u001b[0m\u001b[0;34m\u001b[0m\u001b[0m\n",
      "\u001b[0m\u001b[0;32m   1086 \u001b[0;31m        \u001b[0;32mreturn\u001b[0m \u001b[0mnp\u001b[0m\u001b[0;34m.\u001b[0m\u001b[0mlog\u001b[0m\u001b[0;34m(\u001b[0m\u001b[0mx\u001b[0m\u001b[0;34m)\u001b[0m\u001b[0;34m\u001b[0m\u001b[0m\n",
      "\u001b[0m\u001b[0;32m   1087 \u001b[0;31m\u001b[0;32mdef\u001b[0m \u001b[0mlog10\u001b[0m\u001b[0;34m(\u001b[0m\u001b[0mx\u001b[0m\u001b[0;34m)\u001b[0m\u001b[0;34m:\u001b[0m\u001b[0;34m\u001b[0m\u001b[0m\n",
      "\u001b[0m\n",
      "ipdb> break 365\n",
      "Breakpoint 1 at /home/rene/Recherche/macke_lab/code/theano_shim/theano_shim/core.py:365\n",
      "ipdb> up\n",
      "> \u001b[0;32m/home/rene/Recherche/macke_lab/code/sinn/sinn/models/common.py\u001b[0m(315)\u001b[0;36mloglikelihood\u001b[0;34m()\u001b[0m\n",
      "\u001b[0;32m    313 \u001b[0;31m                l = shim.sum( -shim.log(shim.factorial(n_arr, exact=True))\n",
      "\u001b[0m\u001b[0;32m    314 \u001b[0;31m                              \u001b[0;34m-\u001b[0m\u001b[0;34m(\u001b[0m\u001b[0mN\u001b[0m\u001b[0;34m-\u001b[0m\u001b[0mn_arr\u001b[0m\u001b[0;34m)\u001b[0m\u001b[0;34m*\u001b[0m\u001b[0mshim\u001b[0m\u001b[0;34m.\u001b[0m\u001b[0mlog\u001b[0m\u001b[0;34m(\u001b[0m\u001b[0mN\u001b[0m \u001b[0;34m-\u001b[0m \u001b[0mn_arr\u001b[0m\u001b[0;34m)\u001b[0m \u001b[0;34m+\u001b[0m \u001b[0mN\u001b[0m\u001b[0;34m-\u001b[0m\u001b[0mn_arr\u001b[0m \u001b[0;34m+\u001b[0m \u001b[0mn_arr\u001b[0m\u001b[0;34m*\u001b[0m\u001b[0mshim\u001b[0m\u001b[0;34m.\u001b[0m\u001b[0mlog\u001b[0m\u001b[0;34m(\u001b[0m\u001b[0mp_arr\u001b[0m\u001b[0;34m)\u001b[0m\u001b[0;34m\u001b[0m\u001b[0m\n",
      "\u001b[0m\u001b[0;32m--> 315 \u001b[0;31m                              + (N-n_arr)*shim.log(1-p_arr) )\n",
      "\u001b[0m\u001b[0;32m    316 \u001b[0;31m                    \u001b[0;31m# with exact=True, factorial is computed only once for whole array\u001b[0m\u001b[0;34m\u001b[0m\u001b[0;34m\u001b[0m\u001b[0m\n",
      "\u001b[0m\u001b[0;32m    317 \u001b[0;31m            \u001b[0;32melse\u001b[0m\u001b[0;34m:\u001b[0m\u001b[0;34m\u001b[0m\u001b[0m\n",
      "\u001b[0m\n",
      "ipdb> shim.isshared(n_arr)\n",
      "False\n",
      "ipdb> n_arr\n",
      "array([[ 6,  2],\n",
      "       [ 7,  2],\n",
      "       [13,  0],\n",
      "       ..., \n",
      "       [ 9,  2],\n",
      "       [ 6,  3],\n",
      "       [ 3,  0]], dtype=int32)\n",
      "ipdb> shim.factorial(n_arr)\n",
      "array([[  7.200e+02,   2.000e+00],\n",
      "       [  5.040e+03,   2.000e+00],\n",
      "       [  6.227e+09,   1.000e+00],\n",
      "       ..., \n",
      "       [  3.629e+05,   2.000e+00],\n",
      "       [  7.200e+02,   6.000e+00],\n",
      "       [  6.000e+00,   1.000e+00]])\n",
      "ipdb> shim.factorial(n_arr, True)\n",
      "array([[720, 2],\n",
      "       [5040, 2],\n",
      "       [6227020800, 1],\n",
      "       ..., \n",
      "       [362880, 2],\n",
      "       [720, 6],\n",
      "       [6, 1]], dtype=object)\n",
      "ipdb> shim.factorial(n_arr, True).max()\n",
      "620448401733239439360000\n",
      "ipdb> n_arr.max()\n",
      "24\n",
      "ipdb> np.log(24)\n",
      "3.1780538303479458\n",
      "ipdb> np.log(shim.factorial(n_arr, True))\n",
      "*** AttributeError: 'int' object has no attribute 'log'\n",
      "ipdb> np.log(shim.factorial(n_arr, False))\n",
      "array([[  6.579,   0.693],\n",
      "       [  8.525,   0.693],\n",
      "       [ 22.552,   0.   ],\n",
      "       ..., \n",
      "       [ 12.802,   0.693],\n",
      "       [  6.579,   1.792],\n",
      "       [  1.792,   0.   ]])\n"
     ]
    }
   ],
   "source": [
    "%debug"
   ]
  },
  {
   "cell_type": "code",
   "execution_count": 7,
   "metadata": {
    "collapsed": false
   },
   "outputs": [
    {
     "data": {
      "text/plain": [
       "(0.004, 0.004)"
      ]
     },
     "execution_count": 7,
     "metadata": {},
     "output_type": "execute_result"
    }
   ],
   "source": [
    "model_params.t_ref"
   ]
  },
  {
   "cell_type": "code",
   "execution_count": null,
   "metadata": {
    "collapsed": true
   },
   "outputs": [],
   "source": []
  }
 ],
 "metadata": {
  "kernelspec": {
   "display_name": "Python (mackelab)",
   "language": "python",
   "name": "mackelab"
  },
  "language_info": {
   "codemirror_mode": {
    "name": "ipython",
    "version": 3
   },
   "file_extension": ".py",
   "mimetype": "text/x-python",
   "name": "python",
   "nbconvert_exporter": "python",
   "pygments_lexer": "ipython3",
   "version": "3.5.2"
  },
  "latex_envs": {
   "LaTeX_envs_menu_present": true,
   "bibliofile": "biblio.bib",
   "cite_by": "apalike",
   "current_citInitial": 1,
   "eqLabelWithNumbers": true,
   "eqNumInitial": 1,
   "labels_anchors": false,
   "latex_user_defs": false,
   "report_style_numbering": false,
   "user_envs_cfg": false
  }
 },
 "nbformat": 4,
 "nbformat_minor": 2
}
