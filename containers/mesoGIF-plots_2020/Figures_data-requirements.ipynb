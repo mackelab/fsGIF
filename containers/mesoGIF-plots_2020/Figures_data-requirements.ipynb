{
 "cells": [
  {
   "cell_type": "code",
   "execution_count": 1,
   "metadata": {},
   "outputs": [
    {
     "name": "stderr",
     "output_type": "stream",
     "text": [
      "WARNING (theano.tensor.blas): Using NumPy C-API based implementation for BLAS functions.\n",
      "[monochrome_palette]: value was greater than 1 and was clipped.\n"
     ]
    },
    {
     "name": "stdout",
     "output_type": "stream",
     "text": [
      "\n",
      "import copy\n",
      "import os.path\n",
      "import itertools\n",
      "from collections import Iterable, OrderedDict, namedtuple, deque\n",
      "import numpy as np\n",
      "import scipy as sp\n",
      "import scipy.stats\n",
      "import matplotlib as mpl\n",
      "import matplotlib.pyplot as plt\n",
      "import matplotlib.image\n",
      "from matplotlib.gridspec import GridSpec\n",
      "import pymc3 as pymc\n",
      "import pandas as pd\n",
      "from pandas import DataFrame\n",
      "from parameters import ParameterSet\n",
      "\n",
      "from importlib import reload\n",
      "\n",
      "import theano_shim as shim\n",
      "\n",
      "import mackelab as ml\n",
      "import mackelab.smttk as smttk\n",
      "import mackelab.iotools\n",
      "import mackelab.pymc3\n",
      "import mackelab.parameters\n",
      "import mackelab.plot\n",
      "ml.parameters.Transform.namespaces['shim'] = shim\n",
      "\n",
      "import sinn\n",
      "import sinn.histories as histories\n",
      "import sinn.models\n",
      "from sinn.optimize.gradient_descent import FitCollection\n",
      "import sinn.analyze as anlz\n",
      "from sinn.analyze.axisdata import LogLikelihood, Likelihood, Probability\n",
      "from sinn.analyze.axis import Axis\n",
      "\n",
      "import fsGIF.core as core\n",
      "import fsGIF.fsgif_model as fsgif_model\n",
      "from fsGIF.fsgif_model import GIF_mean_field, GIF_spiking\n",
      "from fsGIF.nblogger import logger\n",
      "\n",
      "HOME = \"/home/alex/Recherche/macke_lab\"\n",
      "DATADIR = \"/home/alex/Recherche/data/mackelab/sim/fsGIF/\"\n",
      "DUMPDIR = os.path.join(DATADIR, \"run_dump\")\n",
      "\n",
      "recordstore = smttk.RecordStore(os.path.join(HOME, \"containers/fsGIF/run/.smt/records\"))\n",
      "#records = smttk.get_records(recordstore, 'fsGIF')\n",
      "\n",
      "\n",
      "from fsGIF.init import *\n",
      "from odictliteral import odict\n",
      "from operator import sub\n",
      "from warnings import warn\n",
      "from scipy import stats\n",
      "from tqdm import tqdm as tqdm\n",
      "from attrdict import AttrDict\n",
      "\n",
      "import logging\n",
      "logging.getLogger().setLevel('ERROR')\n",
      "\n",
      "from mpl_toolkits.axes_grid1.inset_locator import inset_axes\n",
      "pd.set_option('display.max_rows', 25)\n",
      "\n",
      "Defined:\n",
      "    inject_vars()\n"
     ]
    }
   ],
   "source": [
    "from etc.init import *\n",
    "import etc.figureslib as lib\n",
    "\n",
    "import NotebookScripter\n",
    "from NotebookScripter import run_notebook, receive_parameter\n",
    "NotebookScripter.set_notebook_option(with_matplotlib_backend=None)\n",
    "savefig = receive_parameter(savefig=False)\n",
    "saveext = receive_parameter(saveext='pdf')\n",
    "try:\n",
    "    data\n",
    "except NameError:\n",
    "    data = receive_parameter(data=None)\n",
    "\n",
    "if data is None:\n",
    "    data = run_notebook(\"Figures_load_data.ipynb\")\n",
    "records = data.records"
   ]
  },
  {
   "cell_type": "code",
   "execution_count": 2,
   "metadata": {},
   "outputs": [],
   "source": [
    "import seaborn as sns"
   ]
  },
  {
   "cell_type": "code",
   "execution_count": 3,
   "metadata": {},
   "outputs": [],
   "source": [
    "mplconfig = run_notebook(\"Figures_matplotlib_config.ipynb\")\n",
    "inject_vars(mplconfig, globals())"
   ]
  },
  {
   "cell_type": "code",
   "execution_count": 4,
   "metadata": {},
   "outputs": [],
   "source": [
    "outputname = \"Fig3\""
   ]
  },
  {
   "cell_type": "code",
   "execution_count": 5,
   "metadata": {},
   "outputs": [
    {
     "data": {
      "text/html": [
       "<div>\n",
       "<style scoped>\n",
       "    .dataframe tbody tr th:only-of-type {\n",
       "        vertical-align: middle;\n",
       "    }\n",
       "\n",
       "    .dataframe tbody tr th {\n",
       "        vertical-align: top;\n",
       "    }\n",
       "\n",
       "    .dataframe thead th {\n",
       "        text-align: right;\n",
       "    }\n",
       "</style>\n",
       "<table border=\"1\" class=\"dataframe\">\n",
       "  <thead>\n",
       "    <tr style=\"text-align: right;\">\n",
       "      <th></th>\n",
       "      <th># records</th>\n",
       "      <th>reason</th>\n",
       "      <th>outcome</th>\n",
       "      <th>tags</th>\n",
       "      <th>main_file</th>\n",
       "      <th>avg\n",
       ". duration</th>\n",
       "    </tr>\n",
       "  </thead>\n",
       "  <tbody>\n",
       "    <tr>\n",
       "      <th>20180922-143526</th>\n",
       "      <td>12</td>\n",
       "      <td>sgd_homo_sine-wn_36-cycles_L:9.0</td>\n",
       "      <td></td>\n",
       "      <td></td>\n",
       "      <td>fsGIF/fsGIF/gradient_descent.py</td>\n",
       "      <td>5h 26m 52s</td>\n",
       "    </tr>\n",
       "    <tr>\n",
       "      <th>20180922-143312</th>\n",
       "      <td>6</td>\n",
       "      <td>sgd_homo_sine-wn_22-cycles-L:5.5</td>\n",
       "      <td></td>\n",
       "      <td></td>\n",
       "      <td>fsGIF/fsGIF/gradient_descent.py</td>\n",
       "      <td>7h 00m 47s</td>\n",
       "    </tr>\n",
       "    <tr>\n",
       "      <th>20180922-143222</th>\n",
       "      <td>6</td>\n",
       "      <td>sgd_homo_sine-wn_18-cycles-L:4.5</td>\n",
       "      <td></td>\n",
       "      <td></td>\n",
       "      <td>fsGIF/fsGIF/gradient_descent.py</td>\n",
       "      <td>8h 04m 53s</td>\n",
       "    </tr>\n",
       "    <tr>\n",
       "      <th>20180921-124505</th>\n",
       "      <td>6</td>\n",
       "      <td>sgd_homo_sine-wn_14-cycles-L:3.5</td>\n",
       "      <td></td>\n",
       "      <td></td>\n",
       "      <td>fsGIF/fsGIF/gradient_descent.py</td>\n",
       "      <td>9h 13m 45s</td>\n",
       "    </tr>\n",
       "    <tr>\n",
       "      <th>20180921-124225</th>\n",
       "      <td>6</td>\n",
       "      <td>sgd_homo_sine-wn_6-cycles-L:1.5</td>\n",
       "      <td></td>\n",
       "      <td></td>\n",
       "      <td>fsGIF/fsGIF/gradient_descent.py</td>\n",
       "      <td>19h 18m 29s</td>\n",
       "    </tr>\n",
       "    <tr>\n",
       "      <th>20180920-002152</th>\n",
       "      <td>11</td>\n",
       "      <td>sgd_homo_sine-wn_18-cycles-L:4.5</td>\n",
       "      <td>Wrong data (inconsistent fit and data inputs)</td>\n",
       "      <td></td>\n",
       "      <td>fsGIF/fsGIF/gradient_descent.py</td>\n",
       "      <td>7h 48m 20s</td>\n",
       "    </tr>\n",
       "    <tr>\n",
       "      <th>20180920-002136</th>\n",
       "      <td>11</td>\n",
       "      <td>sgd_homo_sine-wn_22-cycles-L:5.5</td>\n",
       "      <td>Wrong data (inconsistent fit and data inputs)</td>\n",
       "      <td></td>\n",
       "      <td>fsGIF/fsGIF/gradient_descent.py</td>\n",
       "      <td>6h 47m 55s</td>\n",
       "    </tr>\n",
       "    <tr>\n",
       "      <th>20180919-232959</th>\n",
       "      <td>12</td>\n",
       "      <td>sgd_hetero_input-single-step</td>\n",
       "      <td></td>\n",
       "      <td></td>\n",
       "      <td>fsGIF/fsGIF/gradient_descent.py</td>\n",
       "      <td>5h 16m 17s</td>\n",
       "    </tr>\n",
       "    <tr>\n",
       "      <th>20180919-014456</th>\n",
       "      <td>8</td>\n",
       "      <td>sgd_homo_sine-wn_14-cycles-L:3.5</td>\n",
       "      <td></td>\n",
       "      <td></td>\n",
       "      <td>fsGIF/fsGIF/gradient_descent.py</td>\n",
       "      <td>9h 46m 23s</td>\n",
       "    </tr>\n",
       "    <tr>\n",
       "      <th>20180919-012742</th>\n",
       "      <td>6</td>\n",
       "      <td>sgd_homo_sine-wn_6-cycles:L-1.5</td>\n",
       "      <td></td>\n",
       "      <td></td>\n",
       "      <td>fsGIF/fsGIF/gradient_descent.py</td>\n",
       "      <td>20h 24m 22s</td>\n",
       "    </tr>\n",
       "    <tr>\n",
       "      <th>20180917-102645</th>\n",
       "      <td>12</td>\n",
       "      <td>sgd_homo_sine-wn_two-cycles-L-2.5</td>\n",
       "      <td></td>\n",
       "      <td></td>\n",
       "      <td>fsGIF/fsGIF/gradient_descent.py</td>\n",
       "      <td>12h 09m 02s</td>\n",
       "    </tr>\n",
       "    <tr>\n",
       "      <th>20180917-005042</th>\n",
       "      <td>6</td>\n",
       "      <td>sgd_homo_sine-wn_one-cycle:L-1.25</td>\n",
       "      <td></td>\n",
       "      <td></td>\n",
       "      <td>fsGIF/fsGIF/gradient_descent.py</td>\n",
       "      <td>24h 53m 12s</td>\n",
       "    </tr>\n",
       "  </tbody>\n",
       "</table>\n",
       "</div>"
      ],
      "text/plain": [
       "                # records                             reason  \\\n",
       "20180922-143526        12   sgd_homo_sine-wn_36-cycles_L:9.0   \n",
       "20180922-143312         6   sgd_homo_sine-wn_22-cycles-L:5.5   \n",
       "20180922-143222         6   sgd_homo_sine-wn_18-cycles-L:4.5   \n",
       "20180921-124505         6   sgd_homo_sine-wn_14-cycles-L:3.5   \n",
       "20180921-124225         6    sgd_homo_sine-wn_6-cycles-L:1.5   \n",
       "20180920-002152        11   sgd_homo_sine-wn_18-cycles-L:4.5   \n",
       "20180920-002136        11   sgd_homo_sine-wn_22-cycles-L:5.5   \n",
       "20180919-232959        12       sgd_hetero_input-single-step   \n",
       "20180919-014456         8   sgd_homo_sine-wn_14-cycles-L:3.5   \n",
       "20180919-012742         6    sgd_homo_sine-wn_6-cycles:L-1.5   \n",
       "20180917-102645        12  sgd_homo_sine-wn_two-cycles-L-2.5   \n",
       "20180917-005042         6  sgd_homo_sine-wn_one-cycle:L-1.25   \n",
       "\n",
       "                                                       outcome tags  \\\n",
       "20180922-143526                                                       \n",
       "20180922-143312                                                       \n",
       "20180922-143222                                                       \n",
       "20180921-124505                                                       \n",
       "20180921-124225                                                       \n",
       "20180920-002152  Wrong data (inconsistent fit and data inputs)        \n",
       "20180920-002136  Wrong data (inconsistent fit and data inputs)        \n",
       "20180919-232959                                                       \n",
       "20180919-014456                                                       \n",
       "20180919-012742                                                       \n",
       "20180917-102645                                                       \n",
       "20180917-005042                                                       \n",
       "\n",
       "                                       main_file avg\\n. duration  \n",
       "20180922-143526  fsGIF/fsGIF/gradient_descent.py      5h 26m 52s  \n",
       "20180922-143312  fsGIF/fsGIF/gradient_descent.py      7h 00m 47s  \n",
       "20180922-143222  fsGIF/fsGIF/gradient_descent.py      8h 04m 53s  \n",
       "20180921-124505  fsGIF/fsGIF/gradient_descent.py      9h 13m 45s  \n",
       "20180921-124225  fsGIF/fsGIF/gradient_descent.py     19h 18m 29s  \n",
       "20180920-002152  fsGIF/fsGIF/gradient_descent.py      7h 48m 20s  \n",
       "20180920-002136  fsGIF/fsGIF/gradient_descent.py      6h 47m 55s  \n",
       "20180919-232959  fsGIF/fsGIF/gradient_descent.py      5h 16m 17s  \n",
       "20180919-014456  fsGIF/fsGIF/gradient_descent.py      9h 46m 23s  \n",
       "20180919-012742  fsGIF/fsGIF/gradient_descent.py     20h 24m 22s  \n",
       "20180917-102645  fsGIF/fsGIF/gradient_descent.py     12h 09m 02s  \n",
       "20180917-005042  fsGIF/fsGIF/gradient_descent.py     24h 53m 12s  "
      ]
     },
     "execution_count": 5,
     "metadata": {},
     "output_type": "execute_result"
    }
   ],
   "source": [
    "records.filter.script('gradient').filter.after(20180917).filter.before(20180923).summary.head(15)"
   ]
  },
  {
   "cell_type": "code",
   "execution_count": 6,
   "metadata": {},
   "outputs": [
    {
     "data": {
      "text/html": [
       "<div>\n",
       "<style scoped>\n",
       "    .dataframe tbody tr th:only-of-type {\n",
       "        vertical-align: middle;\n",
       "    }\n",
       "\n",
       "    .dataframe tbody tr th {\n",
       "        vertical-align: top;\n",
       "    }\n",
       "\n",
       "    .dataframe thead th {\n",
       "        text-align: right;\n",
       "    }\n",
       "</style>\n",
       "<table border=\"1\" class=\"dataframe\">\n",
       "  <thead>\n",
       "    <tr style=\"text-align: right;\">\n",
       "      <th></th>\n",
       "      <th># records</th>\n",
       "      <th>reason</th>\n",
       "      <th>outcome</th>\n",
       "      <th>tags</th>\n",
       "      <th>main_file</th>\n",
       "      <th>avg\n",
       ". duration</th>\n",
       "    </tr>\n",
       "  </thead>\n",
       "  <tbody>\n",
       "    <tr>\n",
       "      <th>20200302-021305</th>\n",
       "      <td>8</td>\n",
       "      <td>sgd_test_R</td>\n",
       "      <td></td>\n",
       "      <td></td>\n",
       "      <td>../code/fsGIF/gradient_descent.py</td>\n",
       "      <td>5h 22m 15s</td>\n",
       "    </tr>\n",
       "    <tr>\n",
       "      <th>20200229-013019</th>\n",
       "      <td>20</td>\n",
       "      <td>sgd_test_cstI</td>\n",
       "      <td></td>\n",
       "      <td></td>\n",
       "      <td>../code/fsGIF/gradient_descent.py</td>\n",
       "      <td>5h 09m 27s</td>\n",
       "    </tr>\n",
       "    <tr>\n",
       "      <th>20200227-202456</th>\n",
       "      <td>19</td>\n",
       "      <td>sgd_test_unclamped_ur</td>\n",
       "      <td></td>\n",
       "      <td></td>\n",
       "      <td>../code/fsGIF/gradient_descent.py</td>\n",
       "      <td>5h 19m 22s</td>\n",
       "    </tr>\n",
       "    <tr>\n",
       "      <th>20190724-211644</th>\n",
       "      <td>24</td>\n",
       "      <td>sgd_only-adapt_L:9</td>\n",
       "      <td></td>\n",
       "      <td></td>\n",
       "      <td>../code/fsGIF/gradient_descent.py</td>\n",
       "      <td>5h 14m 13s</td>\n",
       "    </tr>\n",
       "    <tr>\n",
       "      <th>20190612-125539</th>\n",
       "      <td>510</td>\n",
       "      <td>More_4_pop_fits_because_plots_are_not_good_enough</td>\n",
       "      <td></td>\n",
       "      <td></td>\n",
       "      <td>../code/fsGIF/gradient_descent.py</td>\n",
       "      <td>9h 03m 11s</td>\n",
       "    </tr>\n",
       "    <tr>\n",
       "      <th>20181113-091205</th>\n",
       "      <td>82</td>\n",
       "      <td>sgd_4pop_100-more-fits</td>\n",
       "      <td></td>\n",
       "      <td></td>\n",
       "      <td>fsGIF/fsGIF/gradient_descent.py</td>\n",
       "      <td>9h 15m 36s</td>\n",
       "    </tr>\n",
       "    <tr>\n",
       "      <th>20181107-110946</th>\n",
       "      <td>30</td>\n",
       "      <td>sgd_4pop_wider-w-prior</td>\n",
       "      <td></td>\n",
       "      <td></td>\n",
       "      <td>fsGIF/fsGIF/gradient_descent.py</td>\n",
       "      <td>9h 08m 58s</td>\n",
       "    </tr>\n",
       "    <tr>\n",
       "      <th>20181030-164336</th>\n",
       "      <td>21</td>\n",
       "      <td>sgd_sine-wn_4pop</td>\n",
       "      <td></td>\n",
       "      <td></td>\n",
       "      <td>fsGIF/fsGIF/gradient_descent.py</td>\n",
       "      <td>16h 16m 22s</td>\n",
       "    </tr>\n",
       "    <tr>\n",
       "      <th>20181030-155623</th>\n",
       "      <td>7</td>\n",
       "      <td>sgd_sine-wn_4pop</td>\n",
       "      <td></td>\n",
       "      <td></td>\n",
       "      <td>fsGIF/fsGIF/gradient_descent.py</td>\n",
       "      <td>0h 25m 53s</td>\n",
       "    </tr>\n",
       "    <tr>\n",
       "      <th>20181022-155600</th>\n",
       "      <td>41</td>\n",
       "      <td>sgd-hetero_sin-wn_fit-all</td>\n",
       "      <td></td>\n",
       "      <td></td>\n",
       "      <td>fsGIF/fsGIF/gradient_descent.py</td>\n",
       "      <td>5h 09m 51s</td>\n",
       "    </tr>\n",
       "    <tr>\n",
       "      <th>20181015-131341</th>\n",
       "      <td>101</td>\n",
       "      <td>sgd-all-params_homo_L:1.25-9.0</td>\n",
       "      <td></td>\n",
       "      <td></td>\n",
       "      <td>fsGIF/fsGIF/gradient_descent.py</td>\n",
       "      <td>12h 47m 23s</td>\n",
       "    </tr>\n",
       "    <tr>\n",
       "      <th>20181007-230106</th>\n",
       "      <td>119</td>\n",
       "      <td>sgd_only-adapt_L:1.25-9</td>\n",
       "      <td></td>\n",
       "      <td></td>\n",
       "      <td>fsGIF/fsGIF/gradient_descent.py</td>\n",
       "      <td>12h 51m 31s</td>\n",
       "    </tr>\n",
       "    <tr>\n",
       "      <th>20181003-094813</th>\n",
       "      <td>100</td>\n",
       "      <td>sgd-only-w_homo_L:1.25-9.0</td>\n",
       "      <td></td>\n",
       "      <td></td>\n",
       "      <td>fsGIF/fsGIF/gradient_descent.py</td>\n",
       "      <td>9h 20m 00s</td>\n",
       "    </tr>\n",
       "    <tr>\n",
       "      <th>20181001-164931</th>\n",
       "      <td>16</td>\n",
       "      <td>sgd-only-w_homo_L:1.25-9.0</td>\n",
       "      <td></td>\n",
       "      <td></td>\n",
       "      <td>fsGIF/fsGIF/gradient_descent.py</td>\n",
       "      <td>8h 54m 48s</td>\n",
       "    </tr>\n",
       "  </tbody>\n",
       "</table>\n",
       "</div>"
      ],
      "text/plain": [
       "                # records                                             reason  \\\n",
       "20200302-021305         8                                         sgd_test_R   \n",
       "20200229-013019        20                                      sgd_test_cstI   \n",
       "20200227-202456        19                              sgd_test_unclamped_ur   \n",
       "20190724-211644        24                                 sgd_only-adapt_L:9   \n",
       "20190612-125539       510  More_4_pop_fits_because_plots_are_not_good_enough   \n",
       "20181113-091205        82                             sgd_4pop_100-more-fits   \n",
       "20181107-110946        30                             sgd_4pop_wider-w-prior   \n",
       "20181030-164336        21                                   sgd_sine-wn_4pop   \n",
       "20181030-155623         7                                   sgd_sine-wn_4pop   \n",
       "20181022-155600        41                          sgd-hetero_sin-wn_fit-all   \n",
       "20181015-131341       101                     sgd-all-params_homo_L:1.25-9.0   \n",
       "20181007-230106       119                            sgd_only-adapt_L:1.25-9   \n",
       "20181003-094813       100                         sgd-only-w_homo_L:1.25-9.0   \n",
       "20181001-164931        16                         sgd-only-w_homo_L:1.25-9.0   \n",
       "\n",
       "                outcome tags                          main_file  \\\n",
       "20200302-021305               ../code/fsGIF/gradient_descent.py   \n",
       "20200229-013019               ../code/fsGIF/gradient_descent.py   \n",
       "20200227-202456               ../code/fsGIF/gradient_descent.py   \n",
       "20190724-211644               ../code/fsGIF/gradient_descent.py   \n",
       "20190612-125539               ../code/fsGIF/gradient_descent.py   \n",
       "20181113-091205                 fsGIF/fsGIF/gradient_descent.py   \n",
       "20181107-110946                 fsGIF/fsGIF/gradient_descent.py   \n",
       "20181030-164336                 fsGIF/fsGIF/gradient_descent.py   \n",
       "20181030-155623                 fsGIF/fsGIF/gradient_descent.py   \n",
       "20181022-155600                 fsGIF/fsGIF/gradient_descent.py   \n",
       "20181015-131341                 fsGIF/fsGIF/gradient_descent.py   \n",
       "20181007-230106                 fsGIF/fsGIF/gradient_descent.py   \n",
       "20181003-094813                 fsGIF/fsGIF/gradient_descent.py   \n",
       "20181001-164931                 fsGIF/fsGIF/gradient_descent.py   \n",
       "\n",
       "                avg\\n. duration  \n",
       "20200302-021305      5h 22m 15s  \n",
       "20200229-013019      5h 09m 27s  \n",
       "20200227-202456      5h 19m 22s  \n",
       "20190724-211644      5h 14m 13s  \n",
       "20190612-125539      9h 03m 11s  \n",
       "20181113-091205      9h 15m 36s  \n",
       "20181107-110946      9h 08m 58s  \n",
       "20181030-164336     16h 16m 22s  \n",
       "20181030-155623      0h 25m 53s  \n",
       "20181022-155600      5h 09m 51s  \n",
       "20181015-131341     12h 47m 23s  \n",
       "20181007-230106     12h 51m 31s  \n",
       "20181003-094813      9h 20m 00s  \n",
       "20181001-164931      8h 54m 48s  "
      ]
     },
     "execution_count": 6,
     "metadata": {},
     "output_type": "execute_result"
    }
   ],
   "source": [
    "records.filter.script('gradient').filter.after(201810).summary.head(15)"
   ]
  },
  {
   "cell_type": "markdown",
   "metadata": {},
   "source": [
    "    fitlabels = {1.25: {'20180917-005042'},\n",
    "                     1.5 : {'20180921-124225'},\n",
    "                     2.5 : {'20180917-102645'},   # Still slower oscillations\n",
    "                     3.5 : {'20180921-124505'},\n",
    "                     4.5 : {'20180922-143222'},\n",
    "                     5.5 : {'20180922-143312'},\n",
    "                     9.  : {'0180922-143526'}}\n",
    "    fitlabels = set().union(*(s for s in fitlabels.values()))\n",
    "    #datalens = [1.25, 2., 3., 5., 7., 9.]\n",
    "    datalens = [1.25, 1.5, 2.5, 3.5, 4.5, 5.5, 9.]"
   ]
  },
  {
   "cell_type": "markdown",
   "metadata": {},
   "source": [
    "    _fitrecords = lib.RecordSet(fitlabels)\n",
    "    fitrecords = {L: lib.RecordSet(_fitrecords.filter.parameters.posterior.datalen(L).list)\n",
    "                  for L in datalens}"
   ]
  },
  {
   "cell_type": "code",
   "execution_count": 6,
   "metadata": {},
   "outputs": [
    {
     "data": {
      "text/html": [
       "<div>\n",
       "<style scoped>\n",
       "    .dataframe tbody tr th:only-of-type {\n",
       "        vertical-align: middle;\n",
       "    }\n",
       "\n",
       "    .dataframe tbody tr th {\n",
       "        vertical-align: top;\n",
       "    }\n",
       "\n",
       "    .dataframe thead th {\n",
       "        text-align: right;\n",
       "    }\n",
       "</style>\n",
       "<table border=\"1\" class=\"dataframe\">\n",
       "  <thead>\n",
       "    <tr style=\"text-align: right;\">\n",
       "      <th></th>\n",
       "      <th># records</th>\n",
       "      <th>reason</th>\n",
       "      <th>outcome</th>\n",
       "      <th>tags</th>\n",
       "      <th>main_file</th>\n",
       "      <th>avg\n",
       ". duration</th>\n",
       "    </tr>\n",
       "  </thead>\n",
       "  <tbody>\n",
       "    <tr>\n",
       "      <th>20181015-131341</th>\n",
       "      <td>101</td>\n",
       "      <td>sgd-all-params_homo_L:1.25-9.0</td>\n",
       "      <td></td>\n",
       "      <td></td>\n",
       "      <td>fsGIF/fsGIF/gradient_descent.py</td>\n",
       "      <td>12h 47m 23s</td>\n",
       "    </tr>\n",
       "    <tr>\n",
       "      <th>20180922-143526</th>\n",
       "      <td>19</td>\n",
       "      <td>sgd_homo_sine-wn_36-cycles_L:9.0</td>\n",
       "      <td></td>\n",
       "      <td></td>\n",
       "      <td>fsGIF/fsGIF/gradient_descent.py</td>\n",
       "      <td>5h 25m 48s</td>\n",
       "    </tr>\n",
       "  </tbody>\n",
       "</table>\n",
       "</div>"
      ],
      "text/plain": [
       "                # records                            reason outcome tags  \\\n",
       "20181015-131341       101    sgd-all-params_homo_L:1.25-9.0                \n",
       "20180922-143526        19  sgd_homo_sine-wn_36-cycles_L:9.0                \n",
       "\n",
       "                                       main_file avg\\n. duration  \n",
       "20181015-131341  fsGIF/fsGIF/gradient_descent.py     12h 47m 23s  \n",
       "20180922-143526  fsGIF/fsGIF/gradient_descent.py      5h 25m 48s  "
      ]
     },
     "execution_count": 6,
     "metadata": {},
     "output_type": "execute_result"
    }
   ],
   "source": [
    "records.filter.any.label(['20181015-131341', '0180922-143526']).summary"
   ]
  },
  {
   "cell_type": "code",
   "execution_count": 7,
   "metadata": {},
   "outputs": [],
   "source": [
    "datalens = [1.25, 2., 3., 5., 7., 9.]\n",
    "#datalens = [1.25]\n",
    "fitlabels = ['20181015-131341', '0180922-143526']\n",
    "_fitrecords = lib.RecordSet(fitlabels)\n",
    "fitrecords = {L: lib.RecordSet(_fitrecords.filter.parameters.posterior.datalen(L).list)\n",
    "              for L in datalens}"
   ]
  },
  {
   "cell_type": "code",
   "execution_count": 8,
   "metadata": {},
   "outputs": [],
   "source": [
    "test_sims = lib.FitResultSims(fitrecords,\n",
    "                              input_params = 'brown-noise-input-2pop.params', \n",
    "                              start = 10.,\n",
    "                              stop = 19.,\n",
    "                              key_desc = \"Data length: {}s\",\n",
    "                              seed0 = 335,\n",
    "                              seeds = 20,\n",
    "                              #seeds = 1,\n",
    "                              trueseed0 = 314,\n",
    "                              trueseeds = 20)"
   ]
  },
  {
   "cell_type": "code",
   "execution_count": 9,
   "metadata": {},
   "outputs": [
    {
     "data": {
      "text/html": [
       "<div>\n",
       "<style scoped>\n",
       "    .dataframe tbody tr th:only-of-type {\n",
       "        vertical-align: middle;\n",
       "    }\n",
       "\n",
       "    .dataframe tbody tr th {\n",
       "        vertical-align: top;\n",
       "    }\n",
       "\n",
       "    .dataframe thead th {\n",
       "        text-align: right;\n",
       "    }\n",
       "</style>\n",
       "<table border=\"1\" class=\"dataframe\">\n",
       "  <thead>\n",
       "    <tr style=\"text-align: right;\">\n",
       "      <th></th>\n",
       "      <th>1.25</th>\n",
       "      <th>2.0</th>\n",
       "      <th>3.0</th>\n",
       "      <th>5.0</th>\n",
       "      <th>7.0</th>\n",
       "      <th>9.0</th>\n",
       "    </tr>\n",
       "  </thead>\n",
       "  <tbody>\n",
       "    <tr>\n",
       "      <th>No. of fits</th>\n",
       "      <td>20</td>\n",
       "      <td>20</td>\n",
       "      <td>20</td>\n",
       "      <td>20</td>\n",
       "      <td>20</td>\n",
       "      <td>20</td>\n",
       "    </tr>\n",
       "  </tbody>\n",
       "</table>\n",
       "</div>"
      ],
      "text/plain": [
       "             1.25  2.00  3.00  5.00  7.00  9.00\n",
       "No. of fits    20    20    20    20    20    20"
      ]
     },
     "execution_count": 9,
     "metadata": {},
     "output_type": "execute_result"
    }
   ],
   "source": [
    "test_sims.fit_counts"
   ]
  },
  {
   "cell_type": "code",
   "execution_count": 10,
   "metadata": {},
   "outputs": [],
   "source": [
    "sim_counts = {str(model): len(t) for model,t in test_sims.traces.items()}\n",
    "sim_counts['true'] = len(test_sims.Atrue)\n",
    "sim_counts = pd.DataFrame({'# sims': sim_counts}).T"
   ]
  },
  {
   "cell_type": "code",
   "execution_count": 11,
   "metadata": {},
   "outputs": [],
   "source": [
    "barstats = lib.BarStats(reftraces=[test_sims.Atrue[seed] for seed in test_sims.trueseeds],\n",
    "                        true = [test_sims.Atrue[seed] for seed in test_sims.seeds],\n",
    "                        **{str(L): list(traces.values()) for L, traces in test_sims.traces.items()})"
   ]
  },
  {
   "cell_type": "markdown",
   "metadata": {},
   "source": [
    "Compute the trial-averaged statistics $\\bar{ρ}$ and $\\overline{RMSE}$"
   ]
  },
  {
   "cell_type": "markdown",
   "metadata": {},
   "source": [
    "    traces = test_sims.Atrue\n",
    "    Atruerefbar  = sum(traces[seed] for seed in test_sims.trueseeds)/len(test_sims.trueseeds)\n",
    "    Atruetestbar = sum(traces[seed] for seed in test_sims.seeds)/len(test_sims.seeds)"
   ]
  },
  {
   "cell_type": "markdown",
   "metadata": {},
   "source": [
    "    _ρ = lib.corr(Atruetestbar, Atruerefbar)\n",
    "    ρbar = {'true': [r[0] for r in _ρ]}\n",
    "    rmsebar = {'true': lib.rms(Atruetestbar, Atruerefbar)}"
   ]
  },
  {
   "cell_type": "markdown",
   "metadata": {},
   "source": [
    "    for k in datalens:\n",
    "        traces = test_sims.traces[k]\n",
    "        Abar = sum(traces[seed] for seed in test_sims.seeds)/len(test_sims.seeds)\n",
    "        _ρ = lib.corr(Abar, Atruerefbar)\n",
    "        ρbar[k] = [r[0] for r in _ρ]\n",
    "        rmsebar[k] = lib.rms(Abar, Atruerefbar)"
   ]
  },
  {
   "cell_type": "code",
   "execution_count": 12,
   "metadata": {},
   "outputs": [],
   "source": [
    "ρbar = barstats.ρ\n",
    "rmsebar = barstats.rmse"
   ]
  },
  {
   "cell_type": "markdown",
   "metadata": {},
   "source": [
    "Compute the per-trial statistics"
   ]
  },
  {
   "cell_type": "code",
   "execution_count": 13,
   "metadata": {},
   "outputs": [],
   "source": [
    "ρ = {}\n",
    "rmse = {}\n",
    "for L in datalens + ['true']:\n",
    "    ρvals = np.array(list(test_sims.corr[L].values())).mean(axis=1)\n",
    "    rmsevals = np.sqrt(np.mean(np.array(list(test_sims.rms[L].values()))**2, axis=1))\n",
    "    ρ[L] = {'μ': ρvals.mean(), 'σ': ρvals.std(ddof=1)}\n",
    "    rmse[L] = {'μ': rmsevals.mean(), 'σ': rmsevals.std(ddof=1)}"
   ]
  },
  {
   "cell_type": "code",
   "execution_count": 14,
   "metadata": {},
   "outputs": [],
   "source": [
    "keys = sorted(k for k in rmse.keys() if not isinstance(k, str)) # Remove 'true' key\n",
    "μvalues = np.array([rmse[key]['μ'] for key in keys])\n",
    "σvalues = np.array([rmse[key]['σ'] for key in keys])"
   ]
  },
  {
   "cell_type": "markdown",
   "metadata": {},
   "source": [
    "fig, (axρ, axrmse) = plt.subplots(2)\n",
    "axρ.plot(datalens, [np.mean(ρbar[L]) for L in datalens], marker='D')\n",
    "axrmse.plot(datalens, [np.mean(rmsebar[L]) for L in datalens], marker='D')"
   ]
  },
  {
   "cell_type": "code",
   "execution_count": 15,
   "metadata": {},
   "outputs": [],
   "source": [
    "def move_ylabel_down(ax):\n",
    "    x, y = ax.yaxis.label.get_position()\n",
    "    ax.yaxis.label.set_y(0.8*y)"
   ]
  },
  {
   "cell_type": "code",
   "execution_count": 16,
   "metadata": {},
   "outputs": [],
   "source": [
    "shadec = ml.colors.desaturate(mplconfig.colours_very_light[2], .4)\n",
    "# Uncomment to test the shading\n",
    "#ml.colors.display_palette(shadec)\n",
    "#plt.plot([0, 1], c=mplconfig.colours[2])"
   ]
  },
  {
   "cell_type": "code",
   "execution_count": 21,
   "metadata": {},
   "outputs": [
    {
     "data": {
      "image/png": "[encoded data removed]",
      "text/plain": [
       "<Figure size 690x341.156 with 5 Axes>"
      ]
     },
     "metadata": {
      "needs_background": "light"
     },
     "output_type": "display_data"
    }
   ],
   "source": [
    "with plt.style.context({'figure.figsize': [textwidth, 0.8*figheight],#0.45*figheight],\n",
    "                        'axes.labelpad': 2,\n",
    "                        'legend.borderaxespad': 0,\n",
    "                        'legend.columnspacing': 1,\n",
    "                       }):\n",
    "    fig = plt.figure()\n",
    "    gs = GridSpec(2, 2)\n",
    "    gs.set_width_ratios((2, 1))\n",
    "    gs.update(hspace=0.3, wspace=0.26)\n",
    "    \n",
    "    with plt.style.context({'axes.prop_cycle': mpl.cycler(color=colours[::-1])}):\n",
    "        k = 0\n",
    "        ax = plt.subplot(gs[:,k])\n",
    "        ax.set_ylim(0, 60)\n",
    "        #lib.sim_compare_plot(ax, test_sims, [1.5, 2.5, 3.5, 5.5], yoffset=10, xlim=(15.15, 16.35), ylim=(0, 24))\n",
    "        lib.sim_compare_plot(ax, test_sims, [1.25, 2, 3, 9], yoffset=10, xlim=(15.15, 16.35), ylim=(0, 24))\n",
    "        # Shift x label down a little\n",
    "        x, y = ax.xaxis.label.get_position()\n",
    "        _Δy = 0.01 * np.diff(ax.get_ylim())[0]\n",
    "        ax.xaxis.set_label_coords(x, y-_Δy, transform=ax.transData)\n",
    "        # Shift y label left a little\n",
    "        x, y = ax.yaxis.label.get_position()\n",
    "        _Δx = 0.01 * np.diff(ax.get_xlim())[0]\n",
    "        ax.yaxis.set_label_coords(x-_Δx, y, transform=ax.transData)\n",
    "        ml.plot.subreflabel(ax, \"a\", x=-0.05, y=0.97)\n",
    "    \n",
    "    # ρ plot\n",
    "    k += 1\n",
    "    ax = plt.subplot(gs[0,k])\n",
    "    c = colours[0]\n",
    "    lib.sim_correlation_plot(ax, ρ, xticks=[1, 3, 5, 7, 9], yticks=[.4, .5, .6], ylim=(0.4, .66))\n",
    "    ax.set_ylabel(r\"$ρ$\", color=c)\n",
    "    move_ylabel_down(ax)\n",
    "    ax.spines['left'].set_ec(c)\n",
    "    ax.yaxis.set_tick_params(color=c)\n",
    "    ax.yaxis.set_ticklabels([0.4, 0.5, 0.6], color=c)\n",
    "    \n",
    "    axbar = ax.twinx()\n",
    "    c = colours[2]\n",
    "    axbar.axhline(np.mean(ρbar['true']), color=c, alpha=0.4, linestyle='--')\n",
    "    #axbar.plot(datalens, [np.mean(ρbar[L]) for L in datalens], marker='D', color=c, alpha=0.4)\n",
    "    μ = lib.AxAttrs({L: np.mean(ρbar[L]) for L in ρbar})\n",
    "    σ = barstats.bootstrap_std['ρ']\n",
    "    axbar.axhspan(np.clip(μ.true-σ.true, -1, 1), np.clip(μ.true+σ.true, -1, 1),\n",
    "                  facecolor=shadec, zorder=-3)\n",
    "    axbar.errorbar(datalens, μ[datalens], σ[datalens], marker='D', color=c, alpha=0.6)\n",
    "    axbar.spines['left'].set_visible(False)\n",
    "    axbar.spines['right'].set_visible(True)\n",
    "    axbar.set_ylim(0.85, 0.94)\n",
    "    axbar.set_yticks([0.85, 0.885, 0.92])\n",
    "    ml.plot.detach_spines(ax=axbar, spines='right')\n",
    "    axbar.set_yticklabels([\"0.85\", \"\", \"0.92\"], color=c)\n",
    "    axbar.spines['right'].set_ec(c)\n",
    "    axbar.yaxis.set_tick_params(color=c)\n",
    "    axbar.set_ylabel(r\"$\\bar{ρ}$\", labelpad=-8, color=c)\n",
    "    move_ylabel_down(axbar)\n",
    "    \n",
    "    ml.plot.subreflabel(ax, \"b\", x=-0.2, y=0.92)\n",
    "    \n",
    "    # RMSE plot\n",
    "    ax = plt.subplot(gs[1,k])\n",
    "    c = colours[0]\n",
    "    lib.sim_rms_plot(ax, rmse, xticks=[1, 3, 5, 7, 9], yticks=[0, 1, 2, 3, 4], ylim=(2., 3.3))\n",
    "    ax.set_yticks([2, 2.2, 2.4, 2.6, 2.8, 3])\n",
    "    ax.set_yticklabels([\"2\", \"\", \"\", \"\", \"\", \"3\"])\n",
    "    ax.set_ylabel(r\"$\\mathsf{RMSE}$\", color=c)\n",
    "    move_ylabel_down(ax)\n",
    "    ax.spines['left'].set_ec(c)\n",
    "    ax.yaxis.set_tick_params(color=c)\n",
    "    ax.yaxis.set_ticklabels(ax.yaxis.get_ticklabels(), color=c)\n",
    "    \n",
    "    axbar = ax.twinx()\n",
    "    c = colours[2]\n",
    "    axbar.axhline(np.mean(rmsebar['true']), color=c, alpha=0.4, linestyle='--')\n",
    "    μ = lib.AxAttrs({L: np.mean(rmsebar[L]) for L in rmsebar})\n",
    "    σ = barstats.bootstrap_std.rmse\n",
    "    #axbar.plot(datalens, μ, marker='D', color=c, alpha=0.4)\n",
    "    axbar.axhspan(np.clip(μ.true-σ.true, 0, np.inf), np.clip(μ.true+σ.true, 0, np.inf),\n",
    "                  facecolor=shadec, zorder=-3)\n",
    "    axbar.errorbar(datalens, μ[datalens], σ[datalens], marker='D', color=c, alpha=0.6)\n",
    "    axbar.spines['left'].set_visible(False)\n",
    "    axbar.spines['right'].set_visible(True)\n",
    "    axbar.set_ylim(0.4, 1.45)\n",
    "    axbar.set_yticks([0.4, 0.6, 0.8, 1.0, 1.2])\n",
    "    ml.plot.detach_spines(ax=axbar, spines='right')\n",
    "    axbar.set_yticklabels([\"0.4\", \"\", \"\", \"\", \"1.2\"], color=c)\n",
    "    axbar.spines['right'].set_ec(c)\n",
    "    axbar.yaxis.set_tick_params(color=c)\n",
    "    axbar.set_ylabel(r\"$\\overline{\\mathsf{RMSE}}$\", labelpad=-3, color=c)\n",
    "    move_ylabel_down(axbar)\n",
    "    \n",
    "    ml.plot.subreflabel(ax, \"c\", x=-0.2, y=0.95)\n",
    "    \n",
    "    # Legend\n",
    "    #pertrialhandle = mpl.lines.Line2D((0,1),(0,1), color=colours[0], linewidth=1.3)\n",
    "    #trialavghandle = mpl.lines.Line2D((0,1),(0,1), color=colours[2], linewidth=1.3)\n",
    "    #ax.legend([pertrialhandle, trialavghandle],\n",
    "    #          [\"per-trial\", \"trial-averaged\"],\n",
    "    #          loc='upper right', borderpad=0.3)\n",
    "    \n",
    "    # Margins\n",
    "    fig.subplots_adjust(top=0.98, right=.94, bottom=0.12, left=0.08, wspace=0.35)\n",
    "\n",
    "assert(outputname == \"Fig3\")\n",
    "if savefig:\n",
    "    fig.savefig(\"figures/\" + os.path.splitext(outputname)[0] + '.' + saveext.strip('.'))"
   ]
  },
  {
   "cell_type": "markdown",
   "metadata": {},
   "source": [
    "Model parameters can be recovered with a few seconds of data.\n",
    "**(a)** Sample simulated traces, using parameters inferred from increasing amounts of data. Traces show the expected activity ($a$) of the excitatory population in a two population E-I model.\n",
    "**(b)** Correlation between simulations $\\rho$ between simulations of the inferred and true models. Correlation is calculated for each component of the expected activity; reported values are the averages across components.\n",
    "**(c)** Root-mean-square error between simulations of the inferred and true models. Mean is taken across time points and components of the expected activity."
   ]
  },
  {
   "cell_type": "markdown",
   "metadata": {},
   "source": [
    "## How many spikes used to train the model ?"
   ]
  },
  {
   "cell_type": "code",
   "execution_count": 18,
   "metadata": {},
   "outputs": [],
   "source": [
    "rec = lib.Record(records.filter.label('20180922-143526').latest)"
   ]
  },
  {
   "cell_type": "code",
   "execution_count": 19,
   "metadata": {},
   "outputs": [],
   "source": [
    "Ahist = ml.iotools.load(core.data_dir + '/activity/' + ml.parameters.digest(rec.parameters.posterior.data.params))"
   ]
  },
  {
   "cell_type": "code",
   "execution_count": 20,
   "metadata": {},
   "outputs": [],
   "source": [
    "N = rec.parameters.posterior.model.params.N\n",
    "Δt = rec.parameters.posterior.data.params.dt"
   ]
  },
  {
   "cell_type": "code",
   "execution_count": 21,
   "metadata": {},
   "outputs": [
    {
     "data": {
      "image/png": "[encoded data removed]",
      "text/plain": [
       "<Figure size 690x426.445 with 1 Axes>"
      ]
     },
     "metadata": {
      "needs_background": "light"
     },
     "output_type": "display_data"
    }
   ],
   "source": [
    "nhist = Ahist*N*Δt\n",
    "plt.figure()\n",
    "ax = plt.subplot()\n",
    "ax.plot(nhist.time, nhist.trace);"
   ]
  },
  {
   "cell_type": "code",
   "execution_count": 22,
   "metadata": {},
   "outputs": [
    {
     "data": {
      "text/plain": [
       "ShimmedShared([2528.    ,  914.2222], dtype=float32)"
      ]
     },
     "execution_count": 22,
     "metadata": {},
     "output_type": "execute_result"
    }
   ],
   "source": [
    "nhist[10.:19.].sum(axis=0) / 9"
   ]
  },
  {
   "cell_type": "code",
   "execution_count": 23,
   "metadata": {},
   "outputs": [
    {
     "data": {
      "image/png": "[encoded data removed]",
      "text/plain": [
       "<Figure size 690x426.445 with 1 Axes>"
      ]
     },
     "metadata": {
      "needs_background": "light"
     },
     "output_type": "display_data"
    }
   ],
   "source": [
    "ΔT = 8.\n",
    "Tlst = 9.-ΔT + np.arange(10)/10*ΔT\n",
    "λs = np.array([nhist[10.:10.+T].sum(axis=0) / T / N for T in Tlst])\n",
    "plt.figure()\n",
    "ax = plt.subplot()\n",
    "ax.plot(Tlst, λs);"
   ]
  },
  {
   "cell_type": "code",
   "execution_count": 24,
   "metadata": {},
   "outputs": [
    {
     "data": {
      "text/plain": [
       "array([5.85960844, 8.42789979])"
      ]
     },
     "execution_count": 24,
     "metadata": {},
     "output_type": "execute_result"
    }
   ],
   "source": [
    "firing_rate_training = λs.mean(axis=0)\n",
    "firing_rate_training"
   ]
  },
  {
   "cell_type": "markdown",
   "metadata": {},
   "source": [
    "Number of spikes for 1, 5 and 7 seconds"
   ]
  },
  {
   "cell_type": "code",
   "execution_count": 25,
   "metadata": {},
   "outputs": [
    {
     "data": {
      "text/plain": [
       "array([ 3485., 17426., 24396.])"
      ]
     },
     "execution_count": 25,
     "metadata": {},
     "output_type": "execute_result"
    }
   ],
   "source": [
    "num_spikes_training = ((λs.mean(axis=0) * N).sum() * np.array([1, 5, 7])).round()\n",
    "num_spikes_training"
   ]
  },
  {
   "cell_type": "code",
   "execution_count": null,
   "metadata": {},
   "outputs": [],
   "source": []
  }
 ],
 "metadata": {
  "kernelspec": {
   "display_name": "Python (meso inference paper plots)",
   "language": "python",
   "name": "meso_inference_paper_plots"
  },
  "language_info": {
   "codemirror_mode": {
    "name": "ipython",
    "version": 3
   },
   "file_extension": ".py",
   "mimetype": "text/x-python",
   "name": "python",
   "nbconvert_exporter": "python",
   "pygments_lexer": "ipython3",
   "version": "3.6.10"
  }
 },
 "nbformat": 4,
 "nbformat_minor": 4
}
