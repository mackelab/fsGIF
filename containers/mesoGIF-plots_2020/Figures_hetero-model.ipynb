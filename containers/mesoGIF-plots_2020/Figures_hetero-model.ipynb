{
 "cells": [
  {
   "cell_type": "code",
   "execution_count": 1,
   "metadata": {},
   "outputs": [
    {
     "name": "stderr",
     "output_type": "stream",
     "text": [
      "WARNING (theano.tensor.blas): Using NumPy C-API based implementation for BLAS functions.\n",
      "[monochrome_palette]: value was greater than 1 and was clipped.\n"
     ]
    },
    {
     "name": "stdout",
     "output_type": "stream",
     "text": [
      "\n",
      "import copy\n",
      "import os.path\n",
      "import itertools\n",
      "from collections import Iterable, OrderedDict, namedtuple, deque\n",
      "import numpy as np\n",
      "import scipy as sp\n",
      "import scipy.stats\n",
      "import matplotlib as mpl\n",
      "import matplotlib.pyplot as plt\n",
      "import matplotlib.image\n",
      "from matplotlib.gridspec import GridSpec\n",
      "import pymc3 as pymc\n",
      "import pandas as pd\n",
      "from pandas import DataFrame\n",
      "from parameters import ParameterSet\n",
      "\n",
      "from importlib import reload\n",
      "\n",
      "import theano_shim as shim\n",
      "\n",
      "import mackelab as ml\n",
      "import mackelab.smttk as smttk\n",
      "import mackelab.iotools\n",
      "import mackelab.pymc3\n",
      "import mackelab.parameters\n",
      "import mackelab.plot\n",
      "ml.parameters.Transform.namespaces['shim'] = shim\n",
      "\n",
      "import sinn\n",
      "import sinn.histories as histories\n",
      "import sinn.models\n",
      "from sinn.optimize.gradient_descent import FitCollection\n",
      "import sinn.analyze as anlz\n",
      "from sinn.analyze.axisdata import LogLikelihood, Likelihood, Probability\n",
      "from sinn.analyze.axis import Axis\n",
      "\n",
      "import fsGIF.core as core\n",
      "import fsGIF.fsgif_model as fsgif_model\n",
      "from fsGIF.fsgif_model import GIF_mean_field, GIF_spiking\n",
      "from fsGIF.nblogger import logger\n",
      "\n",
      "HOME = \"/home/alex/Recherche/macke_lab\"\n",
      "DATADIR = \"/home/alex/Recherche/data/mackelab/sim/fsGIF/\"\n",
      "DUMPDIR = os.path.join(DATADIR, \"run_dump\")\n",
      "\n",
      "recordstore = smttk.RecordStore(os.path.join(HOME, \"containers/fsGIF/run/.smt/records\"))\n",
      "#records = smttk.get_records(recordstore, 'fsGIF')\n",
      "\n",
      "\n",
      "from fsGIF.init import *\n",
      "from odictliteral import odict\n",
      "from operator import sub\n",
      "from warnings import warn\n",
      "from scipy import stats\n",
      "from tqdm import tqdm as tqdm\n",
      "from attrdict import AttrDict\n",
      "\n",
      "import logging\n",
      "logging.getLogger().setLevel('ERROR')\n",
      "\n",
      "from mpl_toolkits.axes_grid1.inset_locator import inset_axes\n",
      "pd.set_option('display.max_rows', 25)\n",
      "\n",
      "Defined:\n",
      "    inject_vars()\n"
     ]
    }
   ],
   "source": [
    "from etc.init import *\n",
    "import etc.figureslib as lib\n",
    "\n",
    "import NotebookScripter\n",
    "from NotebookScripter import run_notebook, receive_parameter\n",
    "NotebookScripter.set_notebook_option(with_matplotlib_backend=None)\n",
    "savefig = receive_parameter(savefig=False)\n",
    "saveext = receive_parameter(saveext='pdf')\n",
    "try:\n",
    "    data\n",
    "except NameError:\n",
    "    data = receive_parameter(data=None)\n",
    "\n",
    "if data is None:\n",
    "    data = run_notebook(\"Figures_load_data.ipynb\")\n",
    "records = data.records"
   ]
  },
  {
   "cell_type": "code",
   "execution_count": 2,
   "metadata": {},
   "outputs": [],
   "source": [
    "import seaborn as sns"
   ]
  },
  {
   "cell_type": "markdown",
   "metadata": {},
   "source": [
    "---\n",
    "The initial cell which imports *matplotlib* seems to initialize some settings on exit (like setting `figure.dpi` to `72`). To ensure plot styles are all applied, they should be done in a separate cell."
   ]
  },
  {
   "cell_type": "code",
   "execution_count": 3,
   "metadata": {},
   "outputs": [],
   "source": [
    "outputname = \"Fig5\""
   ]
  },
  {
   "cell_type": "code",
   "execution_count": 4,
   "metadata": {},
   "outputs": [],
   "source": [
    "mplconfig = run_notebook(\"Figures_matplotlib_config.ipynb\")\n",
    "inject_vars(mplconfig, globals())"
   ]
  },
  {
   "cell_type": "code",
   "execution_count": 5,
   "metadata": {},
   "outputs": [],
   "source": [
    "# Micro (ground truth) simulations\n",
    "#records.filter.reason('hetero').filter.script('spikes').summary.head(15)\n",
    "\n",
    "# Meso simulations\n",
    "#records.filter.script('activity').summary.head(10)"
   ]
  },
  {
   "cell_type": "code",
   "execution_count": 6,
   "metadata": {},
   "outputs": [
    {
     "data": {
      "text/html": [
       "<div>\n",
       "<style scoped>\n",
       "    .dataframe tbody tr th:only-of-type {\n",
       "        vertical-align: middle;\n",
       "    }\n",
       "\n",
       "    .dataframe tbody tr th {\n",
       "        vertical-align: top;\n",
       "    }\n",
       "\n",
       "    .dataframe thead th {\n",
       "        text-align: right;\n",
       "    }\n",
       "</style>\n",
       "<table border=\"1\" class=\"dataframe\">\n",
       "  <thead>\n",
       "    <tr style=\"text-align: right;\">\n",
       "      <th></th>\n",
       "      <th># records</th>\n",
       "      <th>reason</th>\n",
       "      <th>outcome</th>\n",
       "      <th>tags</th>\n",
       "      <th>main_file</th>\n",
       "      <th>avg\n",
       ". duration</th>\n",
       "    </tr>\n",
       "  </thead>\n",
       "  <tbody>\n",
       "    <tr>\n",
       "      <th>20200209-131303</th>\n",
       "      <td>100</td>\n",
       "      <td>fig5_stepI_true-meso</td>\n",
       "      <td></td>\n",
       "      <td></td>\n",
       "      <td>../code/fsGIF/generate_activity.py</td>\n",
       "      <td>1h 46m 33s</td>\n",
       "    </tr>\n",
       "    <tr>\n",
       "      <th>20200209-131210</th>\n",
       "      <td>100</td>\n",
       "      <td>fig5_stepI_true-micro</td>\n",
       "      <td></td>\n",
       "      <td></td>\n",
       "      <td>../code/fsGIF/generate_spikes.py</td>\n",
       "      <td>3h 37m 56s</td>\n",
       "    </tr>\n",
       "    <tr>\n",
       "      <th>20200207-120342</th>\n",
       "      <td>32</td>\n",
       "      <td>fig5_stepI_true-meso</td>\n",
       "      <td></td>\n",
       "      <td></td>\n",
       "      <td>../code/fsGIF/generate_activity.py</td>\n",
       "      <td>1h 30m 03s</td>\n",
       "    </tr>\n",
       "    <tr>\n",
       "      <th>20200207-110328</th>\n",
       "      <td>100</td>\n",
       "      <td>fig5_stepI_inferred-adapt_meso</td>\n",
       "      <td></td>\n",
       "      <td></td>\n",
       "      <td>../code/fsGIF/generate_activity.py</td>\n",
       "      <td>1h 41m 47s</td>\n",
       "    </tr>\n",
       "    <tr>\n",
       "      <th>20200202-142255</th>\n",
       "      <td>100</td>\n",
       "      <td>fig5_stepI_hetero_inferred-full_meso</td>\n",
       "      <td></td>\n",
       "      <td></td>\n",
       "      <td>../code/fsGIF/generate_activity.py</td>\n",
       "      <td>0h 41m 10s</td>\n",
       "    </tr>\n",
       "  </tbody>\n",
       "</table>\n",
       "</div>"
      ],
      "text/plain": [
       "                # records                                reason outcome tags  \\\n",
       "20200209-131303       100                  fig5_stepI_true-meso                \n",
       "20200209-131210       100                 fig5_stepI_true-micro                \n",
       "20200207-120342        32                  fig5_stepI_true-meso                \n",
       "20200207-110328       100        fig5_stepI_inferred-adapt_meso                \n",
       "20200202-142255       100  fig5_stepI_hetero_inferred-full_meso                \n",
       "\n",
       "                                          main_file avg\\n. duration  \n",
       "20200209-131303  ../code/fsGIF/generate_activity.py      1h 46m 33s  \n",
       "20200209-131210    ../code/fsGIF/generate_spikes.py      3h 37m 56s  \n",
       "20200207-120342  ../code/fsGIF/generate_activity.py      1h 30m 03s  \n",
       "20200207-110328  ../code/fsGIF/generate_activity.py      1h 41m 47s  \n",
       "20200202-142255  ../code/fsGIF/generate_activity.py      0h 41m 10s  "
      ]
     },
     "execution_count": 6,
     "metadata": {},
     "output_type": "execute_result"
    }
   ],
   "source": [
    "records.filter.reason('fig5').summary"
   ]
  },
  {
   "cell_type": "code",
   "execution_count": 7,
   "metadata": {},
   "outputs": [],
   "source": [
    "simrecords = AttrDict(\n",
    "    map_adapt = lib.RecordSet('20200207-110328'),\n",
    "    map_full  = lib.RecordSet('20200202-142255'),\n",
    "    true_meso = lib.RecordSet('20200209-131303', '20200207-120342'),\n",
    "    true_micro = lib.RecordSet('20200209-131210')\n",
    ")"
   ]
  },
  {
   "cell_type": "code",
   "execution_count": 8,
   "metadata": {},
   "outputs": [
    {
     "data": {
      "text/html": [
       "<div>\n",
       "<style scoped>\n",
       "    .dataframe tbody tr th:only-of-type {\n",
       "        vertical-align: middle;\n",
       "    }\n",
       "\n",
       "    .dataframe tbody tr th {\n",
       "        vertical-align: top;\n",
       "    }\n",
       "\n",
       "    .dataframe thead th {\n",
       "        text-align: right;\n",
       "    }\n",
       "</style>\n",
       "<table border=\"1\" class=\"dataframe\">\n",
       "  <thead>\n",
       "    <tr style=\"text-align: right;\">\n",
       "      <th></th>\n",
       "      <th>map_adapt</th>\n",
       "      <th>map_full</th>\n",
       "      <th>true_meso</th>\n",
       "      <th>true_micro</th>\n",
       "    </tr>\n",
       "  </thead>\n",
       "  <tbody>\n",
       "    <tr>\n",
       "      <th># distinct records</th>\n",
       "      <td>82</td>\n",
       "      <td>100</td>\n",
       "      <td>47</td>\n",
       "      <td>58</td>\n",
       "    </tr>\n",
       "    <tr>\n",
       "      <th># records</th>\n",
       "      <td>82</td>\n",
       "      <td>100</td>\n",
       "      <td>47</td>\n",
       "      <td>58</td>\n",
       "    </tr>\n",
       "  </tbody>\n",
       "</table>\n",
       "</div>"
      ],
      "text/plain": [
       "                    map_adapt  map_full  true_meso  true_micro\n",
       "# distinct records         82       100         47          58\n",
       "# records                  82       100         47          58"
      ]
     },
     "execution_count": 8,
     "metadata": {},
     "output_type": "execute_result"
    }
   ],
   "source": [
    "def count_recs(simrecords):\n",
    "    return pd.DataFrame(\n",
    "        {k: {\"# records\": len(rs),\n",
    "             \"# distinct records\": len(set(ml.parameters.digest(rec.parameters)\n",
    "                                       for rec in rs))\n",
    "            }\n",
    "          for k, rs in simrecords.items()})\n",
    "count_recs(simrecords)"
   ]
  },
  {
   "cell_type": "code",
   "execution_count": 9,
   "metadata": {},
   "outputs": [
    {
     "data": {
      "text/html": [
       "<div>\n",
       "<style scoped>\n",
       "    .dataframe tbody tr th:only-of-type {\n",
       "        vertical-align: middle;\n",
       "    }\n",
       "\n",
       "    .dataframe tbody tr th {\n",
       "        vertical-align: top;\n",
       "    }\n",
       "\n",
       "    .dataframe thead th {\n",
       "        text-align: right;\n",
       "    }\n",
       "</style>\n",
       "<table border=\"1\" class=\"dataframe\">\n",
       "  <thead>\n",
       "    <tr style=\"text-align: right;\">\n",
       "      <th></th>\n",
       "      <th>map_adapt</th>\n",
       "      <th>map_full</th>\n",
       "      <th>true_meso</th>\n",
       "      <th>true_micro</th>\n",
       "    </tr>\n",
       "  </thead>\n",
       "  <tbody>\n",
       "    <tr>\n",
       "      <th># distinct records</th>\n",
       "      <td>82</td>\n",
       "      <td>100</td>\n",
       "      <td>47</td>\n",
       "      <td>58</td>\n",
       "    </tr>\n",
       "    <tr>\n",
       "      <th># records</th>\n",
       "      <td>82</td>\n",
       "      <td>100</td>\n",
       "      <td>47</td>\n",
       "      <td>58</td>\n",
       "    </tr>\n",
       "  </tbody>\n",
       "</table>\n",
       "</div>"
      ],
      "text/plain": [
       "                    map_adapt  map_full  true_meso  true_micro\n",
       "# distinct records         82       100         47          58\n",
       "# records                  82       100         47          58"
      ]
     },
     "execution_count": 9,
     "metadata": {},
     "output_type": "execute_result"
    }
   ],
   "source": [
    "for rs in simrecords.values():\n",
    "    rs.remove_duplicates()\n",
    "count_recs(simrecords)"
   ]
  },
  {
   "cell_type": "markdown",
   "metadata": {},
   "source": [
    "Get the lowest number of simulations for a model"
   ]
  },
  {
   "cell_type": "code",
   "execution_count": 10,
   "metadata": {},
   "outputs": [],
   "source": [
    "N = count_recs(simrecords).min(axis=1)[0]"
   ]
  },
  {
   "cell_type": "code",
   "execution_count": 11,
   "metadata": {},
   "outputs": [],
   "source": [
    "# Split the true_micro sims into sim and reference sets\n",
    "rl = simrecords.true_micro.recordlist\n",
    "i = int(len(rl)/2)\n",
    "true, ref = rl[:i], rl[i:]\n",
    "simrecords.true_all = simrecords.true_micro\n",
    "simrecords.true_micro = lib.RecordSet(true)\n",
    "simrecords.true_ref = lib.RecordSet(ref)"
   ]
  },
  {
   "cell_type": "code",
   "execution_count": 12,
   "metadata": {},
   "outputs": [
    {
     "data": {
      "text/html": [
       "<div>\n",
       "<style scoped>\n",
       "    .dataframe tbody tr th:only-of-type {\n",
       "        vertical-align: middle;\n",
       "    }\n",
       "\n",
       "    .dataframe tbody tr th {\n",
       "        vertical-align: top;\n",
       "    }\n",
       "\n",
       "    .dataframe thead th {\n",
       "        text-align: right;\n",
       "    }\n",
       "</style>\n",
       "<table border=\"1\" class=\"dataframe\">\n",
       "  <thead>\n",
       "    <tr style=\"text-align: right;\">\n",
       "      <th></th>\n",
       "      <th>map_adapt</th>\n",
       "      <th>map_full</th>\n",
       "      <th>true_meso</th>\n",
       "      <th>true_micro</th>\n",
       "      <th>true_all</th>\n",
       "      <th>true_ref</th>\n",
       "    </tr>\n",
       "  </thead>\n",
       "  <tbody>\n",
       "    <tr>\n",
       "      <th># distinct records</th>\n",
       "      <td>82</td>\n",
       "      <td>100</td>\n",
       "      <td>47</td>\n",
       "      <td>29</td>\n",
       "      <td>58</td>\n",
       "      <td>29</td>\n",
       "    </tr>\n",
       "    <tr>\n",
       "      <th># records</th>\n",
       "      <td>82</td>\n",
       "      <td>100</td>\n",
       "      <td>47</td>\n",
       "      <td>29</td>\n",
       "      <td>58</td>\n",
       "      <td>29</td>\n",
       "    </tr>\n",
       "  </tbody>\n",
       "</table>\n",
       "</div>"
      ],
      "text/plain": [
       "                    map_adapt  map_full  true_meso  true_micro  true_all  \\\n",
       "# distinct records         82       100         47          29        58   \n",
       "# records                  82       100         47          29        58   \n",
       "\n",
       "                    true_ref  \n",
       "# distinct records        29  \n",
       "# records                 29  "
      ]
     },
     "execution_count": 12,
     "metadata": {},
     "output_type": "execute_result"
    }
   ],
   "source": [
    "count_recs(simrecords)"
   ]
  },
  {
   "cell_type": "markdown",
   "metadata": {},
   "source": [
    "Prune simulation sets so that they all have the same number of sims"
   ]
  },
  {
   "cell_type": "code",
   "execution_count": 13,
   "metadata": {},
   "outputs": [],
   "source": [
    "for rs in simrecords.values():\n",
    "    labels = sorted(rs.records)\n",
    "    rs.remove(labels[N:])"
   ]
  },
  {
   "cell_type": "code",
   "execution_count": 14,
   "metadata": {},
   "outputs": [
    {
     "data": {
      "text/html": [
       "<div>\n",
       "<style scoped>\n",
       "    .dataframe tbody tr th:only-of-type {\n",
       "        vertical-align: middle;\n",
       "    }\n",
       "\n",
       "    .dataframe tbody tr th {\n",
       "        vertical-align: top;\n",
       "    }\n",
       "\n",
       "    .dataframe thead th {\n",
       "        text-align: right;\n",
       "    }\n",
       "</style>\n",
       "<table border=\"1\" class=\"dataframe\">\n",
       "  <thead>\n",
       "    <tr style=\"text-align: right;\">\n",
       "      <th></th>\n",
       "      <th>map_adapt</th>\n",
       "      <th>map_full</th>\n",
       "      <th>true_meso</th>\n",
       "      <th>true_micro</th>\n",
       "      <th>true_all</th>\n",
       "      <th>true_ref</th>\n",
       "    </tr>\n",
       "  </thead>\n",
       "  <tbody>\n",
       "    <tr>\n",
       "      <th># distinct records</th>\n",
       "      <td>47</td>\n",
       "      <td>47</td>\n",
       "      <td>47</td>\n",
       "      <td>29</td>\n",
       "      <td>47</td>\n",
       "      <td>29</td>\n",
       "    </tr>\n",
       "    <tr>\n",
       "      <th># records</th>\n",
       "      <td>47</td>\n",
       "      <td>47</td>\n",
       "      <td>47</td>\n",
       "      <td>29</td>\n",
       "      <td>47</td>\n",
       "      <td>29</td>\n",
       "    </tr>\n",
       "  </tbody>\n",
       "</table>\n",
       "</div>"
      ],
      "text/plain": [
       "                    map_adapt  map_full  true_meso  true_micro  true_all  \\\n",
       "# distinct records         47        47         47          29        47   \n",
       "# records                  47        47         47          29        47   \n",
       "\n",
       "                    true_ref  \n",
       "# distinct records        29  \n",
       "# records                 29  "
      ]
     },
     "execution_count": 14,
     "metadata": {},
     "output_type": "execute_result"
    }
   ],
   "source": [
    "count_recs(simrecords)"
   ]
  },
  {
   "cell_type": "code",
   "execution_count": 15,
   "metadata": {},
   "outputs": [],
   "source": [
    "simtraces = lib.AxAttrs()\n",
    "simtraces.start = 10.8\n",
    "simtraces.end = 16.96\n",
    "simtraces.dt = 0.01"
   ]
  },
  {
   "cell_type": "code",
   "execution_count": 22,
   "metadata": {},
   "outputs": [
    {
     "name": "stderr",
     "output_type": "stream",
     "text": [
      "100%|██████████| 47/47 [00:06<00:00,  6.96it/s]\n",
      "100%|██████████| 47/47 [00:06<00:00,  7.24it/s]\n",
      "100%|██████████| 47/47 [00:06<00:00,  7.48it/s]\n",
      "100%|██████████| 29/29 [00:05<00:00,  5.08it/s]\n",
      "100%|██████████| 47/47 [00:06<00:00,  6.80it/s]\n",
      "100%|██████████| 29/29 [00:01<00:00, 15.83it/s]\n"
     ]
    }
   ],
   "source": [
    "simtraces.update({k: lib.load_traces(recs,\n",
    "                                     #timelim=(simtraces.start, simtraces.end),\n",
    "                                     timelim = (5.,16.96),\n",
    "                                     dt=simtraces.dt,\n",
    "                                     inplace=False)\n",
    "                  for k,recs in simrecords.items()})"
   ]
  },
  {
   "cell_type": "code",
   "execution_count": 23,
   "metadata": {},
   "outputs": [],
   "source": [
    "barstats = lib.BarStats(reftraces=simtraces.true_ref.traces,\n",
    "                        **{model: simtraces[model].traces for model in ['true_micro', 'true_meso', 'map_adapt', 'map_full']})"
   ]
  },
  {
   "cell_type": "markdown",
   "metadata": {},
   "source": [
    "---\n",
    "Plot fits used to get effective time constants. These aren't used in the paper but important to check. (Uncomment and execute to see them.)"
   ]
  },
  {
   "cell_type": "code",
   "execution_count": 24,
   "metadata": {},
   "outputs": [],
   "source": [
    "#lib.plot_fitcoll_grid(fig5['adapt. fit'], lib.plotdescs_2pop, ncols=3, nrows=1)"
   ]
  },
  {
   "cell_type": "code",
   "execution_count": 25,
   "metadata": {},
   "outputs": [],
   "source": [
    "#pd.DataFrame({'Result': fig5['adapt. fit'].resul):t,\n",
    "#              'True (log) means': lib.get_data_model_params(fitcoll_adapt)})"
   ]
  },
  {
   "cell_type": "code",
   "execution_count": 26,
   "metadata": {},
   "outputs": [],
   "source": [
    "#lib.plot_fitcoll_grid(fig5['full fit'], lib.plotdescs_2pop, ncols=3)\n",
    "#plt.tight_layout()"
   ]
  },
  {
   "cell_type": "markdown",
   "metadata": {},
   "source": [
    "---"
   ]
  },
  {
   "cell_type": "code",
   "execution_count": 27,
   "metadata": {},
   "outputs": [],
   "source": [
    "hetero_params = lib.HeteroParams(simrecords.true_micro.latest.parameters.model)"
   ]
  },
  {
   "cell_type": "code",
   "execution_count": 41,
   "metadata": {},
   "outputs": [
    {
     "data": {
      "image/png": "[encoded data removed]",
      "text/plain": [
       "<Figure size 690x289.982 with 5 Axes>"
      ]
     },
     "metadata": {
      "needs_background": "light"
     },
     "output_type": "display_data"
    }
   ],
   "source": [
    "fig = plt.figure(figsize=(textwidth, .68*figheight))\n",
    "\n",
    "gs = GridSpec(2,3)\n",
    "gs.update(hspace=0.7, top=.95, bottom=0.1, left=0.08, right=0.98)\n",
    "\n",
    "axes = AttrDict()\n",
    "axes.paramdists = plt.subplot(gs[0,:2])\n",
    "axes.true_micro = plt.subplot(gs[0,2])\n",
    "axes.true_meso  = plt.subplot(gs[1,0])\n",
    "axes.map_adapt  = plt.subplot(gs[1,1])\n",
    "axes.map_full   = plt.subplot(gs[1,2])\n",
    "\n",
    "# Histograms (top left)\n",
    "ax = axes.paramdists\n",
    "for varidx in [('τ_m', 0), ('τ_m', 1), ('τ_θ', 0)]:\n",
    "    hetero_params.hist(varidx, ax=ax, transform=np.log10)\n",
    "\n",
    "ax.set_yticks([0, .05, .10, .15])\n",
    "ax.set_yticklabels(['0', '', '', '0.15'])\n",
    "ax.set_ylabel(\"freq.\", labelpad=-10)\n",
    "ax.set_xticks([-3, -2, -1, 0])\n",
    "xlim = ax.xaxis.get_data_interval()\n",
    "ax.set_xlim(xlim[0], xlim[1]+.5)\n",
    "ax.legend(['$\\log_{10} τ_{m,E}$', '$\\log_{10} τ_{m,I}$', '$\\log_{10} τ_{θ,E}$'], bbox_to_anchor=(0.76, 0.9), fontsize=7)\n",
    "#ml.plot.detach_spines(ax)\n",
    "sns.despine(ax=ax, trim=True, offset=4)\n",
    "ml.plot.subreflabel(ax, 'a', inside=True, y=1.1)\n",
    "\n",
    "# Traces\n",
    "ylim = (0, 50)\n",
    "with mpl.style.context({'legend.labelspacing': 0}):\n",
    "    ax = axes.true_micro\n",
    "    linecolor=colours\n",
    "    shadecolor=colours_light\n",
    "    lib.plot_series_stats(simtraces.true_all, ax=ax,\n",
    "                          xlim=(simtraces.start, simtraces.end), ylim=ylim, ybounds=None,\n",
    "                          linecolor=linecolor, shadecolor=shadecolor,\n",
    "                          zorder=imesoz, alpha=imesoα)    \n",
    "    for model in ['true_meso', 'map_adapt', 'map_full']:\n",
    "        ax = axes[model]\n",
    "        #linecolor=[imesoc[0], tmesoc[0]]\n",
    "        #shadecolor=[imesocshade[0], tmesocshade[0]]\n",
    "        linecolor=colours\n",
    "        shadecolor=colours_light\n",
    "        lib.plot_series_stats(simtraces[model], ax=ax,\n",
    "                              xlim=(simtraces.start, simtraces.end), ylim=ylim, ybounds=None,\n",
    "                              linecolor=linecolor, shadecolor=shadecolor,\n",
    "                              zorder=imesoz, alpha=imesoα)\n",
    "    # Unlabeled axes\n",
    "    for ax in [axes.map_adapt, axes.map_full]:\n",
    "        ax.set_axis_off()\n",
    "    # Labeled axes\n",
    "    for ax in [axes.true_micro, axes.true_meso]:\n",
    "        ml.plot.draw_yscale(20, \"20 Hz$/$neuron\", xshift=4, yshift=-4, ax=ax)\n",
    "        x, y = ax.yaxis.label.get_position()\n",
    "        ax.yaxis.label.set_position((x-0.08, y))\n",
    "        ml.plot.draw_xscale(2, \"2 s\", xshift=4, yshift=0, ax=ax)\n",
    "        ax.legend(['$A_{E}$', '$A_{I}$'], loc='upper right', bbox_to_anchor=(1, 0.55))\n",
    "        ml.plot.set_legend_linewidth(1.5, ax)\n",
    "\n",
    "    # Titles\n",
    "    titley = .9\n",
    "    axes.true_micro.set_title(\"microscopic\", y=titley-0.2)\n",
    "    axes.true_meso.set_title(\"mean parameters\", y=titley, backgroundcolor='#FFFFFF88')\n",
    "    axes.map_adapt.set_title(\"inferred ($\\\\tau_m$, $\\\\tau_θ$)\", y=titley)\n",
    "    axes.map_full.set_title(\"inferred (all)\", y=titley)\n",
    "\n",
    "    # Panel labels\n",
    "    ml.plot.subreflabel(axes.true_micro, 'b', inside=True, y=1.1)\n",
    "    ml.plot.subreflabel(axes.true_meso, 'c', inside=False, y=1.1)\n",
    "    \n",
    "    # RMSE & ρ\n",
    "    with mpl.style.context({'font.weight': 'normal',\n",
    "                            'font.size': 8}):\n",
    "        for model in ['true_micro', 'true_meso', 'map_adapt', 'map_full']:\n",
    "            ax = axes[model]\n",
    "            Δy = 0 if model == 'true_micro' else 6\n",
    "            rms = lib.trace_rms (simtraces[model], simtraces.true_ref).mean(axis=0)\n",
    "            #ρ   = lib.trace_corr(simtraces[model], simtraces.true_ref).mean(axis=0)\n",
    "            ρ   = np.mean(barstats.ρ[model])\n",
    "            text_Δ = 1 * ml.plot.inches_to_y(mpl.rcParams['font.size'] / 72, ax=ax)\n",
    "                # Font size is in points (1/72 inch)\n",
    "            ax.text(17, ylim[1]-0.9*text_Δ+Δy, \"$\\\\mathrm{{\\\\mathsf{{RMSE}}}}$: {:.2f} ± {:.2f}\".format(*rms), ha='right', va='top',\n",
    "                    zorder=4)\n",
    "            #ax.text(17, ylim[1]-1.9*text_Δ, \"ρ: {:.2f} ± {:.2f}\".format(*ρ), ha='right', va='top',\n",
    "            ax.text(17, ylim[1]-1.9*text_Δ+Δy, \"$\\\\overline{{\\\\rho}}\\\\;$: {:.4f}\".format(ρ), ha='right', va='top',\n",
    "                    zorder=4)\n",
    "            \n",
    "assert(outputname=='Fig5')\n",
    "if savefig:\n",
    "    plt.savefig(\"figures/\" + os.path.splitext(outputname)[0] + '.' + saveext.strip('.'))"
   ]
  },
  {
   "cell_type": "code",
   "execution_count": 33,
   "metadata": {},
   "outputs": [],
   "source": [
    "counts = count_recs(simrecords)"
   ]
  },
  {
   "cell_type": "markdown",
   "metadata": {},
   "source": [
    "---\n",
    "The old method where the simulation parameters were obtained from the fit traces"
   ]
  },
  {
   "cell_type": "markdown",
   "metadata": {},
   "source": [
    "    # Fits on sin input\n",
    "    fitlabels = {'20180828-025657', '20180828-161410', '20180829-121721'}\n",
    "    fitalllabel = {'20181022-155600'}\n",
    "    truesimlabel = '20180919-201757'  # single step\n",
    "    true2simlabel = '20181024-173016'  # 2nd true sim to use as reference\n",
    "    input_params = 'step-input-2pop.params'\n",
    "    ## Fits on target OU input\n",
    "    #fitlabels = {'20180914-130232'}\n",
    "    #truesimlabel = {'20180913-210255'}\n",
    "    #input_params = 'brown-noise-input-2pop.params'"
   ]
  },
  {
   "cell_type": "markdown",
   "metadata": {},
   "source": [
    "    fig5 = lib.FitSimCompare(\n",
    "        fits = {'adapt. fit': lib.RecordSet(fitlabels),\n",
    "                'full fit'  : lib.RecordSet(fitalllabel)},\n",
    "        truesim      = lib.Record(truesimlabel),\n",
    "        truesimref   = lib.Record(true2simlabel),\n",
    "        input_params = input_params,\n",
    "        avg_in_log_space = False\n",
    "    )"
   ]
  },
  {
   "cell_type": "code",
   "execution_count": null,
   "metadata": {},
   "outputs": [],
   "source": [
    "#fig5.fit_counts()"
   ]
  },
  {
   "cell_type": "markdown",
   "metadata": {},
   "source": [
    "    # Set time slice to show in the traces, and set them (i.e. truncate them to that slice)\n",
    "    fig5.start = 10.\n",
    "    fig5.end = 17.\n",
    "    fig5.dt = 0.1\n",
    "    fig5.set_hists()"
   ]
  },
  {
   "cell_type": "markdown",
   "metadata": {},
   "source": [
    "    fig5.μ = {}\n",
    "    fig5.σ = {}"
   ]
  },
  {
   "cell_type": "markdown",
   "metadata": {},
   "source": [
    "    result = fig5.fitcolls['full fit'].result\n",
    "    result"
   ]
  },
  {
   "cell_type": "markdown",
   "metadata": {},
   "source": [
    "```python\n",
    "    fig = plt.figure(figsize=(textwidth, .63*figheight))\n",
    "\n",
    "    ylim = (0, 50)\n",
    "    titley = .7\n",
    "\n",
    "    gs = GridSpec(2,3)\n",
    "    gs.update(hspace=0.6, top=.95, bottom=0.1, left=0.08, right=0.98)\n",
    "\n",
    "    # Histograms (top left)\n",
    "    ax = plt.subplot(gs[0,:2])\n",
    "    for varidx in [('τ_m', 0), ('τ_m', 1), ('τ_θ', 0)]:\n",
    "        hetero_params.hist(varidx, ax=ax, transform=np.log10)\n",
    "    ax.set_yticks([0, .05, .10, .15])\n",
    "    ax.set_yticklabels(['0', '', '', '0.15'])\n",
    "    ax.set_ylabel(\"freq.\", labelpad=-10)\n",
    "    ax.set_xticks([-3, -2, -1, 0])\n",
    "    xlim = ax.xaxis.get_data_interval()\n",
    "    ax.set_xlim(xlim[0], xlim[1]+.5)\n",
    "    ax.legend(['$\\log_{10} τ_{m,E}$', '$\\log_{10} τ_{m,I}$', '$\\log_{10} τ_{θ,E}$'], bbox_to_anchor=(0.76, 0.9), fontsize=7)\n",
    "    ml.plot.detach_spines(ax)\n",
    "    ml.plot.subreflabel(ax, 'a', inside=True, y=1.1)\n",
    "\n",
    "    with mpl.style.context({'legend.labelspacing': 0}):\n",
    "\n",
    "        # True trace (top right)\n",
    "        ax = plt.subplot(gs[0,2])\n",
    "        lib.plot_step_sim_μσ(fig5.true_a, refhist=fig5.true_a_ref, ax=ax, μ=fig5.μ, σ=fig5.σ,\n",
    "                             ylim=ylim)\n",
    "        ax.set_title(\"microscopic\", y=titley)\n",
    "        ml.plot.subreflabel(ax, 'b', inside=True, y=1.1)\n",
    "        ax.legend(['$a_{E}$', '$a_{I}$'], loc='upper right', bbox_to_anchor=(1, 0.55))\n",
    "        ml.plot.set_legend_linewidth(1.5, ax)\n",
    "\n",
    "        # Inferred traces\n",
    "        hists = [fig5.avg_hist_a, fig5.result_hists_a['adapt. fit'], fig5.result_hists_a['full fit']]\n",
    "        titles = [\"mean parameters\", \"inferred ($\\\\tau_m$, $\\\\tau_θ$)\", \"inferred (all)\"]\n",
    "        for k, (hist, title) in enumerate(zip(hists, titles)):\n",
    "            ax = plt.subplot(gs[1,k])\n",
    "            ax.set_title(title, y=titley)\n",
    "            lib.plot_step_sim_μσ(hist, refhist=fig5.true_a_ref, ax=ax, μ=fig5.μ, σ=fig5.σ,\n",
    "                                 ylim=ylim)\n",
    "            if k == 0:\n",
    "                ml.plot.subreflabel(ax, 'c', inside=False, y=1.)\n",
    "                ax.legend(['$a_{E}$', '$a_{I}$'], loc='upper right', bbox_to_anchor=(1, 0.55))\n",
    "                ml.plot.set_legend_linewidth(1.5, ax)\n",
    "            else:\n",
    "                ax.set_axis_off()\n",
    "                pass\n",
    "\n",
    "    assert(outputname=='Fig5')\n",
    "    if savefig:\n",
    "        plt.savefig(\"figures/\" + outputname.strip('.') + '.' + saveext.strip('.'))\n",
    "```"
   ]
  },
  {
   "cell_type": "markdown",
   "metadata": {},
   "source": [
    "---"
   ]
  },
  {
   "cell_type": "code",
   "execution_count": null,
   "metadata": {},
   "outputs": [],
   "source": [
    "full_fit_result = simrecords.map_full.latest.parameters.model"
   ]
  },
  {
   "cell_type": "markdown",
   "metadata": {},
   "source": [
    "Values used for the result table."
   ]
  },
  {
   "cell_type": "code",
   "execution_count": null,
   "metadata": {},
   "outputs": [],
   "source": [
    "def reshape(a):\n",
    "    if len(a) == 4: a = a.reshape((2,2))\n",
    "    return a"
   ]
  },
  {
   "cell_type": "code",
   "execution_count": null,
   "metadata": {},
   "outputs": [],
   "source": [
    "def get_means(self):\n",
    "    m = {}\n",
    "    for k, v in self.params.items():\n",
    "        slcs = self.hetero_idcs.get(k, None)\n",
    "        if slcs is not None:\n",
    "            m[k] = np.array([v[slc].mean() for slc in slcs])\n",
    "        else:\n",
    "            m[k] = np.array(v)\n",
    "    return m"
   ]
  },
  {
   "cell_type": "code",
   "execution_count": null,
   "metadata": {},
   "outputs": [],
   "source": [
    "# TODO: print fewer digits\n",
    "df = pd.DataFrame({'Inferred value': full_fit_result,\n",
    "              'Average heterogeneous value': get_means(hetero_params)\n",
    "             })"
   ]
  },
  {
   "cell_type": "code",
   "execution_count": null,
   "metadata": {},
   "outputs": [],
   "source": [
    "vars_to_show = {'w', 'τ_m', 'c', 'Δu', 'τ_s', 'J_θ', 'τ_θ'}"
   ]
  },
  {
   "cell_type": "code",
   "execution_count": null,
   "metadata": {},
   "outputs": [],
   "source": [
    "dataframe_result = df.loc[vars_to_show, :]\n",
    "dataframe_result"
   ]
  },
  {
   "cell_type": "markdown",
   "metadata": {},
   "source": [
    "    # TODO: print fewer digits\n",
    "    pd.DataFrame({'Result': full_fit_result,\n",
    "                  'True (log) means': lib.get_data_model_params(fig5.fitcolls['full fit'])})"
   ]
  },
  {
   "cell_type": "markdown",
   "metadata": {},
   "source": [
    "Heterogeneous distribution parameters"
   ]
  },
  {
   "cell_type": "code",
   "execution_count": null,
   "metadata": {},
   "outputs": [],
   "source": [
    "τmμ = hetero_params.sampler._samplers['τ_m']._pop_samplers.loc\n",
    "τmσ = hetero_params.sampler._samplers['τ_m']._pop_samplers.scale\n",
    "τθμ = hetero_params.sampler._samplers['τ_θ']._pop_samplers.loc\n",
    "τθσ = hetero_params.sampler._samplers['τ_θ']._pop_samplers.scale"
   ]
  },
  {
   "cell_type": "code",
   "execution_count": null,
   "metadata": {},
   "outputs": [],
   "source": [
    "index = pd.Index(['$\\\\log_{10} τ_{m,E}$', '$\\\\log_{10} τ_{m,I}$', '$\\\\log_{10} τ_{θ,E}$'], name='model parameter')\n",
    "#columns = pd.Index(['$μ$', '$σ$'], name='distribution parameter')\n",
    "df = pd.DataFrame({'$μ$': τmμ + τθμ[:1],\n",
    "                   '$σ$': τmσ + τθσ[:1]}, index=index,\n",
    "                    #columns=columns\n",
    "                 )\n",
    "dataframe_hetero_params = df\n",
    "dataframe_hetero_params"
   ]
  },
  {
   "cell_type": "code",
   "execution_count": null,
   "metadata": {},
   "outputs": [],
   "source": [
    "latex = df.to_latex(escape=False)\n",
    "i = latex.find('\\\\toprule')\n",
    "line = \"{} & \\\\multicolumn{2}{c}{distribution parameter} \\\\\\\\\\\\cline{2-3} \\n\"\n",
    "latex = latex[:i+9] + line + latex[i+9:]\n",
    "latex = latex.replace('\\\\toprule', '').replace('\\\\midrule', '\\\\hline').replace('\\\\bottomrule', '\\\\hline')\n",
    "table_hetero_params_latex = latex"
   ]
  },
  {
   "cell_type": "code",
   "execution_count": null,
   "metadata": {},
   "outputs": [],
   "source": [
    "if __name__ == \"__main__\":\n",
    "    print(table_hetero_params_latex)"
   ]
  },
  {
   "cell_type": "code",
   "execution_count": null,
   "metadata": {},
   "outputs": [],
   "source": []
  }
 ],
 "metadata": {
  "kernelspec": {
   "display_name": "Python (meso inference paper plots)",
   "language": "python",
   "name": "meso_inference_paper_plots"
  },
  "language_info": {
   "codemirror_mode": {
    "name": "ipython",
    "version": 3
   },
   "file_extension": ".py",
   "mimetype": "text/x-python",
   "name": "python",
   "nbconvert_exporter": "python",
   "pygments_lexer": "ipython3",
   "version": "3.6.10"
  }
 },
 "nbformat": 4,
 "nbformat_minor": 4
}
