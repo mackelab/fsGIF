{
 "cells": [
  {
   "cell_type": "markdown",
   "metadata": {},
   "source": [
    "Generic configuration"
   ]
  },
  {
   "cell_type": "code",
   "execution_count": 1,
   "metadata": {},
   "outputs": [
    {
     "name": "stderr",
     "output_type": "stream",
     "text": [
      "WARNING (theano.tensor.blas): Using NumPy C-API based implementation for BLAS functions.\n",
      "[monochrome_palette]: value was greater than 1 and was clipped.\n"
     ]
    },
    {
     "name": "stdout",
     "output_type": "stream",
     "text": [
      "\n",
      "import copy\n",
      "import os.path\n",
      "import itertools\n",
      "from collections import Iterable, OrderedDict, namedtuple, deque\n",
      "import numpy as np\n",
      "import scipy as sp\n",
      "import scipy.stats\n",
      "import matplotlib as mpl\n",
      "import matplotlib.pyplot as plt\n",
      "import matplotlib.image\n",
      "from matplotlib.gridspec import GridSpec\n",
      "import pymc3 as pymc\n",
      "import pandas as pd\n",
      "from pandas import DataFrame\n",
      "from parameters import ParameterSet\n",
      "\n",
      "from importlib import reload\n",
      "\n",
      "import theano_shim as shim\n",
      "\n",
      "import mackelab as ml\n",
      "import mackelab.smttk as smttk\n",
      "import mackelab.iotools\n",
      "import mackelab.pymc3\n",
      "import mackelab.parameters\n",
      "import mackelab.plot\n",
      "ml.parameters.Transform.namespaces['shim'] = shim\n",
      "\n",
      "import sinn\n",
      "import sinn.histories as histories\n",
      "import sinn.models\n",
      "from sinn.optimize.gradient_descent import FitCollection\n",
      "import sinn.analyze as anlz\n",
      "from sinn.analyze.axisdata import LogLikelihood, Likelihood, Probability\n",
      "from sinn.analyze.axis import Axis\n",
      "\n",
      "import fsGIF.core as core\n",
      "import fsGIF.fsgif_model as fsgif_model\n",
      "from fsGIF.fsgif_model import GIF_mean_field, GIF_spiking\n",
      "from fsGIF.nblogger import logger\n",
      "\n",
      "HOME = \"/home/alex/Recherche/macke_lab\"\n",
      "DATADIR = \"/home/alex/Recherche/data/mackelab/sim/fsGIF/\"\n",
      "DUMPDIR = os.path.join(DATADIR, \"run_dump\")\n",
      "\n",
      "recordstore = smttk.RecordStore(os.path.join(HOME, \"containers/fsGIF/run/.smt/records\"))\n",
      "#records = smttk.get_records(recordstore, 'fsGIF')\n",
      "\n",
      "\n",
      "from fsGIF.init import *\n",
      "from odictliteral import odict\n",
      "from operator import sub\n",
      "from warnings import warn\n",
      "from scipy import stats\n",
      "from tqdm import tqdm as tqdm\n",
      "from attrdict import AttrDict\n",
      "\n",
      "import logging\n",
      "logging.getLogger().setLevel('ERROR')\n",
      "\n",
      "from mpl_toolkits.axes_grid1.inset_locator import inset_axes\n",
      "pd.set_option('display.max_rows', 25)\n",
      "\n",
      "Defined:\n",
      "    inject_vars()\n"
     ]
    }
   ],
   "source": [
    "import etc.mplconfig as mplconfig\n",
    "import etc.figureslib as lib\n",
    "import mackelab as ml\n",
    "mpl = mplconfig.mpl"
   ]
  },
  {
   "cell_type": "markdown",
   "metadata": {},
   "source": [
    "The styles *are* loaded by _mplconfig.py_, but for whatever reason at least the `dpi` setting is overwritten by the notebook, so we load them again."
   ]
  },
  {
   "cell_type": "code",
   "execution_count": 2,
   "metadata": {},
   "outputs": [],
   "source": [
    "mpl.style.use(['mldefault', 'mlpublish'])"
   ]
  },
  {
   "cell_type": "markdown",
   "metadata": {},
   "source": [
    "Definitions specific to this paper"
   ]
  },
  {
   "cell_type": "code",
   "execution_count": 15,
   "metadata": {},
   "outputs": [],
   "source": [
    "colours = lib.colours\n",
    "colours_light = lib.colours_light\n",
    "colours_very_light = mplconfig.colours_very_light\n",
    "\n",
    "mesocolour = ml.colors.desaturate(colours_very_light, .1)\n",
    "tmicroα = 1.\n",
    "tmesoα = 0.75#1.\n",
    "imesoα = 0.65#0.8\n",
    "tmicroz = -2\n",
    "tmesoz = -1\n",
    "imesoz = 0\n",
    "#tmicroc = ml.colors.desaturate(colours_very_light, .2)\n",
    "#tmesoc = lib.colours_light\n",
    "#imesoc = lib.colours\n",
    "tmi = [2]*2 #[4,5]\n",
    "tme = [1]*2 #[2,3]\n",
    "ime = [0]*2 #[0,1]\n",
    "λtmi = lambda c: ml.colors.desaturate(ml.colors.lighten(c, 0.), 0.3)\n",
    "λtme = lambda c: ml.colors.desaturate(ml.colors.lighten(c, 0.2), 0.2)\n",
    "tmicroc = λtmi(lib.colours[tmi])\n",
    "tmesoc = λtme(lib.colours[tme])\n",
    "imesoc = lib.colours[ime]\n",
    "λtmi = lambda c: ml.colors.desaturate(ml.colors.lighten(c, 0.2), 0.2)\n",
    "λtme = lambda c: ml.colors.desaturate(ml.colors.lighten(c, 0.2), 0.0)\n",
    "tmicrocshade = λtmi(lib.colours_light[tmi])\n",
    "tmesocshade = λtme(lib.colours_light[tme])\n",
    "imesocshade = lib.colours_light[ime]"
   ]
  },
  {
   "cell_type": "markdown",
   "metadata": {},
   "source": [
    "Use the cell below to test colour scheme"
   ]
  },
  {
   "cell_type": "markdown",
   "metadata": {},
   "source": [
    "    import numpy as np\n",
    "    import matplotlib.pyplot as plt\n",
    "    xarr = np.linspace(0,10)\n",
    "    for i, (c, s, α) in enumerate([(tmicroc, tmicrocshade, tmicroα),\n",
    "                                   (tmesoc,  tmesocshade,  tmesoα),\n",
    "                                   (imesoc,  imesocshade,  imesoα)]):\n",
    "        μ = np.sin(xarr + i)\n",
    "        σ = 0.3\n",
    "        plt.fill_between(xarr, μ-σ, μ+σ, color=s[0], linewidth=0, alpha=0.5*α)\n",
    "        plt.plot(xarr, μ, color=c[0], linewidth=None, alpha=α)"
   ]
  },
  {
   "cell_type": "markdown",
   "metadata": {},
   "source": [
    "### PLOS CB figure guidelines\n",
    "\n",
    "| _ |  |\n",
    "| ----- | ---- |\n",
    "| Font | Arial, Times, Symbol |\n",
    "| Fontsize | 8–12 |\n",
    "| Min width | 2.63 in |\n",
    "| Max width | 7.5 in |\n",
    "| Max height (full page, no caption) | 8.75 |\n",
    "| Text column width | 5.2 in |\n",
    "| Resolution | 300–600 dpi |"
   ]
  },
  {
   "cell_type": "markdown",
   "metadata": {},
   "source": [
    "    # PLOS configuration\n",
    "    textwidth = 5.2\n",
    "    maxwidth = 7.5\n",
    "    colwidth = textwidth  # single column\n",
    "    figheight = textwidth / ml.plot.φ"
   ]
  },
  {
   "cell_type": "markdown",
   "metadata": {},
   "source": [
    "### Neuro Comp figure guidelines\n",
    "\n",
    "| _ |  |\n",
    "| ----- | ---- |\n",
    "| Font |  |\n",
    "| Fontsize | |\n",
    "| Min width |  |\n",
    "| Max width | 5.75 in |\n",
    "| Max height (full page, no caption) |  |\n",
    "| Text column width | 5.75 in |\n",
    "| Resolution | |\n",
    "| File type | .eps or .tif |"
   ]
  },
  {
   "cell_type": "code",
   "execution_count": 4,
   "metadata": {},
   "outputs": [],
   "source": [
    "# Neur Comp configuration\n",
    "textwidth = 5.75\n",
    "maxwidth = 5.75\n",
    "colwidth = textwidth  # single column\n",
    "figheight = textwidth / ml.plot.φ"
   ]
  },
  {
   "cell_type": "code",
   "execution_count": 5,
   "metadata": {},
   "outputs": [],
   "source": [
    "mpl.rcParams['figure.figsize'] = [textwidth, figheight]\n",
    "#mpl.rcParams['font.sans-serif'] = ['Arial', 'Helvetica', 'Liberation Sans', 'DejaVu Sans']\n",
    "    # Remove CMU Bright font since PLOS requires Arial"
   ]
  }
 ],
 "metadata": {
  "kernelspec": {
   "display_name": "Python (meso inference paper plots)",
   "language": "python",
   "name": "meso_inference_paper_plots"
  },
  "language_info": {
   "codemirror_mode": {
    "name": "ipython",
    "version": 3
   },
   "file_extension": ".py",
   "mimetype": "text/x-python",
   "name": "python",
   "nbconvert_exporter": "python",
   "pygments_lexer": "ipython3",
   "version": "3.6.10"
  }
 },
 "nbformat": 4,
 "nbformat_minor": 4
}
