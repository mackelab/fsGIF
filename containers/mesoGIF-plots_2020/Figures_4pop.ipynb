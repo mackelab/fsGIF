{
 "cells": [
  {
   "cell_type": "markdown",
   "metadata": {},
   "source": [
    "Produces two plots:\n",
    "  - `figtrain`: Figure showing training paradigm and sanity test\n",
    "  - `figtest`: Figure showing result on two test inputs"
   ]
  },
  {
   "cell_type": "code",
   "execution_count": 1,
   "metadata": {},
   "outputs": [
    {
     "name": "stderr",
     "output_type": "stream",
     "text": [
      "[monochrome_palette]: value was greater than 1 and was clipped.\n"
     ]
    },
    {
     "name": "stdout",
     "output_type": "stream",
     "text": [
      "\n",
      "import copy\n",
      "import os.path\n",
      "import itertools\n",
      "from collections import Iterable, OrderedDict, namedtuple, deque\n",
      "import numpy as np\n",
      "import scipy as sp\n",
      "import scipy.stats\n",
      "import matplotlib as mpl\n",
      "import matplotlib.pyplot as plt\n",
      "import matplotlib.image\n",
      "from matplotlib.gridspec import GridSpec\n",
      "import pymc3 as pymc\n",
      "import pandas as pd\n",
      "from pandas import DataFrame\n",
      "from parameters import ParameterSet\n",
      "\n",
      "from importlib import reload\n",
      "\n",
      "import theano_shim as shim\n",
      "\n",
      "import mackelab as ml\n",
      "import mackelab.smttk as smttk\n",
      "import mackelab.iotools\n",
      "import mackelab.pymc3\n",
      "import mackelab.parameters\n",
      "import mackelab.plot\n",
      "ml.parameters.Transform.namespaces['shim'] = shim\n",
      "\n",
      "import sinn\n",
      "import sinn.histories as histories\n",
      "import sinn.models\n",
      "from sinn.optimize.gradient_descent import FitCollection\n",
      "import sinn.analyze as anlz\n",
      "from sinn.analyze.axisdata import LogLikelihood, Likelihood, Probability\n",
      "from sinn.analyze.axis import Axis\n",
      "\n",
      "import fsGIF.core as core\n",
      "import fsGIF.fsgif_model as fsgif_model\n",
      "from fsGIF.fsgif_model import GIF_mean_field, GIF_spiking\n",
      "from fsGIF.nblogger import logger\n",
      "\n",
      "HOME = \"/home/alex/Recherche/macke_lab\"\n",
      "DATADIR = \"/home/alex/Recherche/data/mackelab/sim/fsGIF/\"\n",
      "DUMPDIR = os.path.join(DATADIR, \"run_dump\")\n",
      "\n",
      "recordstore = smttk.RecordStore(os.path.join(HOME, \"containers/fsGIF/run/.smt/records\"))\n",
      "#records = smttk.get_records(recordstore, 'fsGIF')\n",
      "\n",
      "\n",
      "from fsGIF.init import *\n",
      "from odictliteral import odict\n",
      "from operator import sub\n",
      "from warnings import warn\n",
      "from scipy import stats\n",
      "from tqdm import tqdm as tqdm\n",
      "from attrdict import AttrDict\n",
      "\n",
      "import logging\n",
      "logging.getLogger().setLevel('ERROR')\n",
      "\n",
      "from mpl_toolkits.axes_grid1.inset_locator import inset_axes\n",
      "pd.set_option('display.max_rows', 25)\n",
      "\n",
      "Defined:\n",
      "    inject_vars()\n"
     ]
    }
   ],
   "source": [
    "from etc.init import *\n",
    "import etc.figureslib as lib\n",
    "\n",
    "import NotebookScripter\n",
    "from NotebookScripter import run_notebook, receive_parameter\n",
    "NotebookScripter.set_notebook_option(with_matplotlib_backend=None)\n",
    "savefig = receive_parameter(savefig=False)\n",
    "saveext = receive_parameter(saveext='pdf')\n",
    "try:\n",
    "    data\n",
    "except NameError:\n",
    "    data = receive_parameter(data=None)\n",
    "\n",
    "if data is None:\n",
    "    data = run_notebook(\"Figures_load_data.ipynb\")\n",
    "records = data.records"
   ]
  },
  {
   "cell_type": "code",
   "execution_count": 2,
   "metadata": {},
   "outputs": [],
   "source": [
    "mplconfig = run_notebook(\"Figures_matplotlib_config.ipynb\")\n",
    "inject_vars(mplconfig, globals())"
   ]
  },
  {
   "cell_type": "markdown",
   "metadata": {},
   "source": [
    "# Loading and common setup"
   ]
  },
  {
   "cell_type": "markdown",
   "metadata": {},
   "source": [
    "For extraction of the parameters from the collection of fits, see bottom of notebook."
   ]
  },
  {
   "cell_type": "code",
   "execution_count": 3,
   "metadata": {},
   "outputs": [],
   "source": [
    "popnames = ['L2/3e', 'L2/3i', 'L4e', 'L4i']"
   ]
  },
  {
   "cell_type": "code",
   "execution_count": 4,
   "metadata": {},
   "outputs": [],
   "source": [
    "# Sets order in table and suppl. figure\n",
    "table_vars = ['w', 'τ_m', 'c', 'Δu', 'τ_s', 'J_θ', 'τ_θ']\n",
    "#varstrings = ['${}$'.format(v) for v in table_vars]"
   ]
  },
  {
   "cell_type": "code",
   "execution_count": 5,
   "metadata": {},
   "outputs": [],
   "source": [
    "result_seeds = np.arange(300,400)\n",
    "truemicro_seeds = np.arange(1300,1400)\n",
    "truemeso_seeds = np.arange(2300,2400)\n",
    "use_expected_activity = False\n",
    "num_ref_records = 50\n",
    "dt = 0.01"
   ]
  },
  {
   "cell_type": "code",
   "execution_count": 6,
   "metadata": {},
   "outputs": [
    {
     "data": {
      "text/html": [
       "<div>\n",
       "<style scoped>\n",
       "    .dataframe tbody tr th:only-of-type {\n",
       "        vertical-align: middle;\n",
       "    }\n",
       "\n",
       "    .dataframe tbody tr th {\n",
       "        vertical-align: top;\n",
       "    }\n",
       "\n",
       "    .dataframe thead th {\n",
       "        text-align: right;\n",
       "    }\n",
       "</style>\n",
       "<table border=\"1\" class=\"dataframe\">\n",
       "  <thead>\n",
       "    <tr style=\"text-align: right;\">\n",
       "      <th></th>\n",
       "      <th># records</th>\n",
       "      <th>reason</th>\n",
       "      <th>outcome</th>\n",
       "      <th>tags</th>\n",
       "      <th>main_file</th>\n",
       "      <th>avg\n",
       ". duration</th>\n",
       "    </tr>\n",
       "  </thead>\n",
       "  <tbody>\n",
       "    <tr>\n",
       "      <th>20200302-021305</th>\n",
       "      <td>8</td>\n",
       "      <td>sgd_test_R</td>\n",
       "      <td></td>\n",
       "      <td></td>\n",
       "      <td>../code/fsGIF/gradient_descent.py</td>\n",
       "      <td>5h 22m 15s</td>\n",
       "    </tr>\n",
       "    <tr>\n",
       "      <th>20200229-013019</th>\n",
       "      <td>20</td>\n",
       "      <td>sgd_test_cstI</td>\n",
       "      <td></td>\n",
       "      <td></td>\n",
       "      <td>../code/fsGIF/gradient_descent.py</td>\n",
       "      <td>5h 09m 27s</td>\n",
       "    </tr>\n",
       "    <tr>\n",
       "      <th>20200227-202456</th>\n",
       "      <td>19</td>\n",
       "      <td>sgd_test_unclamped_ur</td>\n",
       "      <td></td>\n",
       "      <td></td>\n",
       "      <td>../code/fsGIF/gradient_descent.py</td>\n",
       "      <td>5h 19m 22s</td>\n",
       "    </tr>\n",
       "    <tr>\n",
       "      <th>20200209-131303</th>\n",
       "      <td>100</td>\n",
       "      <td>fig5_stepI_true-meso</td>\n",
       "      <td></td>\n",
       "      <td></td>\n",
       "      <td>../code/fsGIF/generate_activity.py</td>\n",
       "      <td>1h 46m 33s</td>\n",
       "    </tr>\n",
       "    <tr>\n",
       "      <th>20200209-131210</th>\n",
       "      <td>100</td>\n",
       "      <td>fig5_stepI_true-micro</td>\n",
       "      <td></td>\n",
       "      <td></td>\n",
       "      <td>../code/fsGIF/generate_spikes.py</td>\n",
       "      <td>3h 37m 56s</td>\n",
       "    </tr>\n",
       "    <tr>\n",
       "      <th>20200207-120342</th>\n",
       "      <td>32</td>\n",
       "      <td>fig5_stepI_true-meso</td>\n",
       "      <td></td>\n",
       "      <td></td>\n",
       "      <td>../code/fsGIF/generate_activity.py</td>\n",
       "      <td>1h 30m 03s</td>\n",
       "    </tr>\n",
       "    <tr>\n",
       "      <th>20200207-114536</th>\n",
       "      <td>100</td>\n",
       "      <td>fig8_OU-I_inferred-meso</td>\n",
       "      <td></td>\n",
       "      <td></td>\n",
       "      <td>../code/fsGIF/generate_activity.py</td>\n",
       "      <td>1h 27m 39s</td>\n",
       "    </tr>\n",
       "    <tr>\n",
       "      <th>20200207-114448</th>\n",
       "      <td>100</td>\n",
       "      <td>fig8_OU-I_true-meso</td>\n",
       "      <td></td>\n",
       "      <td></td>\n",
       "      <td>../code/fsGIF/generate_activity.py</td>\n",
       "      <td>1h 26m 43s</td>\n",
       "    </tr>\n",
       "    <tr>\n",
       "      <th>20200207-114438</th>\n",
       "      <td>100</td>\n",
       "      <td>fig8_rampI_inferred-meso</td>\n",
       "      <td></td>\n",
       "      <td></td>\n",
       "      <td>../code/fsGIF/generate_activity.py</td>\n",
       "      <td>1h 33m 22s</td>\n",
       "    </tr>\n",
       "    <tr>\n",
       "      <th>20200207-114425</th>\n",
       "      <td>100</td>\n",
       "      <td>fig8_rampI_true-meso</td>\n",
       "      <td></td>\n",
       "      <td></td>\n",
       "      <td>../code/fsGIF/generate_activity.py</td>\n",
       "      <td>1h 47m 30s</td>\n",
       "    </tr>\n",
       "    <tr>\n",
       "      <th>20200207-113346</th>\n",
       "      <td>100</td>\n",
       "      <td>fig_cstI_true-meso</td>\n",
       "      <td></td>\n",
       "      <td></td>\n",
       "      <td>../code/fsGIF/generate_activity.py</td>\n",
       "      <td>2h 03m 50s</td>\n",
       "    </tr>\n",
       "    <tr>\n",
       "      <th>20200207-112507</th>\n",
       "      <td>100</td>\n",
       "      <td>fig_cstI_true_meso_25-fits</td>\n",
       "      <td></td>\n",
       "      <td></td>\n",
       "      <td>../code/fsGIF/generate_activity.py</td>\n",
       "      <td>2h 04m 14s</td>\n",
       "    </tr>\n",
       "    <tr>\n",
       "      <th>...</th>\n",
       "      <td>...</td>\n",
       "      <td>...</td>\n",
       "      <td>...</td>\n",
       "      <td>...</td>\n",
       "      <td>...</td>\n",
       "      <td>...</td>\n",
       "    </tr>\n",
       "    <tr>\n",
       "      <th>20200127-111900</th>\n",
       "      <td>100</td>\n",
       "      <td>fig8_rampI_true-micro</td>\n",
       "      <td></td>\n",
       "      <td></td>\n",
       "      <td>../code/fsGIF/generate_spikes.py</td>\n",
       "      <td>7h 09m 57s</td>\n",
       "    </tr>\n",
       "    <tr>\n",
       "      <th>20200127-111754</th>\n",
       "      <td>100</td>\n",
       "      <td>fig8_rampI_true-meso</td>\n",
       "      <td></td>\n",
       "      <td></td>\n",
       "      <td>../code/fsGIF/generate_activity.py</td>\n",
       "      <td>1h 17m 04s</td>\n",
       "    </tr>\n",
       "    <tr>\n",
       "      <th>20200127-111650</th>\n",
       "      <td>100</td>\n",
       "      <td>fig8_rampI_inferred-meso</td>\n",
       "      <td></td>\n",
       "      <td></td>\n",
       "      <td>../code/fsGIF/generate_activity.py</td>\n",
       "      <td>1h 06m 50s</td>\n",
       "    </tr>\n",
       "    <tr>\n",
       "      <th>20200127-105335</th>\n",
       "      <td>100</td>\n",
       "      <td>fig8_OU-I_true-micro</td>\n",
       "      <td></td>\n",
       "      <td></td>\n",
       "      <td>../code/fsGIF/generate_spikes.py</td>\n",
       "      <td>7h 06m 56s</td>\n",
       "    </tr>\n",
       "    <tr>\n",
       "      <th>20200127-105138</th>\n",
       "      <td>100</td>\n",
       "      <td>fig8_OU-I_true-meso</td>\n",
       "      <td></td>\n",
       "      <td></td>\n",
       "      <td>../code/fsGIF/generate_activity.py</td>\n",
       "      <td>1h 02m 55s</td>\n",
       "    </tr>\n",
       "    <tr>\n",
       "      <th>20200127-105008</th>\n",
       "      <td>100</td>\n",
       "      <td>fig8_OU-I_inferred-meso</td>\n",
       "      <td></td>\n",
       "      <td></td>\n",
       "      <td>../code/fsGIF/generate_activity.py</td>\n",
       "      <td>1h 03m 27s</td>\n",
       "    </tr>\n",
       "    <tr>\n",
       "      <th>20200127-104743</th>\n",
       "      <td>100</td>\n",
       "      <td>fig7_trainI_true-micro</td>\n",
       "      <td></td>\n",
       "      <td></td>\n",
       "      <td>../code/fsGIF/generate_spikes.py</td>\n",
       "      <td>7h 09m 50s</td>\n",
       "    </tr>\n",
       "    <tr>\n",
       "      <th>20200127-104210</th>\n",
       "      <td>100</td>\n",
       "      <td>fig7_trainI_true-meso</td>\n",
       "      <td></td>\n",
       "      <td></td>\n",
       "      <td>../code/fsGIF/generate_activity.py</td>\n",
       "      <td>1h 01m 22s</td>\n",
       "    </tr>\n",
       "    <tr>\n",
       "      <th>20200127-104121</th>\n",
       "      <td>100</td>\n",
       "      <td>fig7_trainI_inferred-meso</td>\n",
       "      <td></td>\n",
       "      <td></td>\n",
       "      <td>../code/fsGIF/generate_activity.py</td>\n",
       "      <td>1h 12m 29s</td>\n",
       "    </tr>\n",
       "    <tr>\n",
       "      <th>20200124-005712</th>\n",
       "      <td>100</td>\n",
       "      <td>fig2_true-micro_brown-noise</td>\n",
       "      <td></td>\n",
       "      <td></td>\n",
       "      <td>../code/fsGIF/generate_spikes.py</td>\n",
       "      <td>2h 07m 05s</td>\n",
       "    </tr>\n",
       "    <tr>\n",
       "      <th>20200124-004443</th>\n",
       "      <td>100</td>\n",
       "      <td>fig2_true-meso_brown-noise</td>\n",
       "      <td></td>\n",
       "      <td></td>\n",
       "      <td>../code/fsGIF/generate_activity.py</td>\n",
       "      <td>0h 40m 49s</td>\n",
       "    </tr>\n",
       "    <tr>\n",
       "      <th>20200124-004216</th>\n",
       "      <td>100</td>\n",
       "      <td>fig2_inferred_meso_25-fits_brown-noise</td>\n",
       "      <td></td>\n",
       "      <td></td>\n",
       "      <td>../code/fsGIF/generate_activity.py</td>\n",
       "      <td>0h 39m 39s</td>\n",
       "    </tr>\n",
       "  </tbody>\n",
       "</table>\n",
       "<p>32 rows × 6 columns</p>\n",
       "</div>"
      ],
      "text/plain": [
       "                # records                                  reason outcome  \\\n",
       "20200302-021305         8                              sgd_test_R           \n",
       "20200229-013019        20                           sgd_test_cstI           \n",
       "20200227-202456        19                   sgd_test_unclamped_ur           \n",
       "20200209-131303       100                    fig5_stepI_true-meso           \n",
       "20200209-131210       100                   fig5_stepI_true-micro           \n",
       "20200207-120342        32                    fig5_stepI_true-meso           \n",
       "20200207-114536       100                 fig8_OU-I_inferred-meso           \n",
       "20200207-114448       100                     fig8_OU-I_true-meso           \n",
       "20200207-114438       100                fig8_rampI_inferred-meso           \n",
       "20200207-114425       100                    fig8_rampI_true-meso           \n",
       "20200207-113346       100                      fig_cstI_true-meso           \n",
       "20200207-112507       100              fig_cstI_true_meso_25-fits           \n",
       "...                   ...                                     ...     ...   \n",
       "20200127-111900       100                   fig8_rampI_true-micro           \n",
       "20200127-111754       100                    fig8_rampI_true-meso           \n",
       "20200127-111650       100                fig8_rampI_inferred-meso           \n",
       "20200127-105335       100                    fig8_OU-I_true-micro           \n",
       "20200127-105138       100                     fig8_OU-I_true-meso           \n",
       "20200127-105008       100                 fig8_OU-I_inferred-meso           \n",
       "20200127-104743       100                  fig7_trainI_true-micro           \n",
       "20200127-104210       100                   fig7_trainI_true-meso           \n",
       "20200127-104121       100               fig7_trainI_inferred-meso           \n",
       "20200124-005712       100             fig2_true-micro_brown-noise           \n",
       "20200124-004443       100              fig2_true-meso_brown-noise           \n",
       "20200124-004216       100  fig2_inferred_meso_25-fits_brown-noise           \n",
       "\n",
       "                tags                           main_file avg\\n. duration  \n",
       "20200302-021305        ../code/fsGIF/gradient_descent.py      5h 22m 15s  \n",
       "20200229-013019        ../code/fsGIF/gradient_descent.py      5h 09m 27s  \n",
       "20200227-202456        ../code/fsGIF/gradient_descent.py      5h 19m 22s  \n",
       "20200209-131303       ../code/fsGIF/generate_activity.py      1h 46m 33s  \n",
       "20200209-131210         ../code/fsGIF/generate_spikes.py      3h 37m 56s  \n",
       "20200207-120342       ../code/fsGIF/generate_activity.py      1h 30m 03s  \n",
       "20200207-114536       ../code/fsGIF/generate_activity.py      1h 27m 39s  \n",
       "20200207-114448       ../code/fsGIF/generate_activity.py      1h 26m 43s  \n",
       "20200207-114438       ../code/fsGIF/generate_activity.py      1h 33m 22s  \n",
       "20200207-114425       ../code/fsGIF/generate_activity.py      1h 47m 30s  \n",
       "20200207-113346       ../code/fsGIF/generate_activity.py      2h 03m 50s  \n",
       "20200207-112507       ../code/fsGIF/generate_activity.py      2h 04m 14s  \n",
       "...              ...                                 ...             ...  \n",
       "20200127-111900         ../code/fsGIF/generate_spikes.py      7h 09m 57s  \n",
       "20200127-111754       ../code/fsGIF/generate_activity.py      1h 17m 04s  \n",
       "20200127-111650       ../code/fsGIF/generate_activity.py      1h 06m 50s  \n",
       "20200127-105335         ../code/fsGIF/generate_spikes.py      7h 06m 56s  \n",
       "20200127-105138       ../code/fsGIF/generate_activity.py      1h 02m 55s  \n",
       "20200127-105008       ../code/fsGIF/generate_activity.py      1h 03m 27s  \n",
       "20200127-104743         ../code/fsGIF/generate_spikes.py      7h 09m 50s  \n",
       "20200127-104210       ../code/fsGIF/generate_activity.py      1h 01m 22s  \n",
       "20200127-104121       ../code/fsGIF/generate_activity.py      1h 12m 29s  \n",
       "20200124-005712         ../code/fsGIF/generate_spikes.py      2h 07m 05s  \n",
       "20200124-004443       ../code/fsGIF/generate_activity.py      0h 40m 49s  \n",
       "20200124-004216       ../code/fsGIF/generate_activity.py      0h 39m 39s  \n",
       "\n",
       "[32 rows x 6 columns]"
      ]
     },
     "execution_count": 6,
     "metadata": {},
     "output_type": "execute_result"
    }
   ],
   "source": [
    "records.filter.after(2020).summary"
   ]
  },
  {
   "cell_type": "code",
   "execution_count": 7,
   "metadata": {},
   "outputs": [
    {
     "data": {
      "text/html": [
       "<div>\n",
       "<style scoped>\n",
       "    .dataframe tbody tr th:only-of-type {\n",
       "        vertical-align: middle;\n",
       "    }\n",
       "\n",
       "    .dataframe tbody tr th {\n",
       "        vertical-align: top;\n",
       "    }\n",
       "\n",
       "    .dataframe thead th {\n",
       "        text-align: right;\n",
       "    }\n",
       "</style>\n",
       "<table border=\"1\" class=\"dataframe\">\n",
       "  <thead>\n",
       "    <tr style=\"text-align: right;\">\n",
       "      <th></th>\n",
       "      <th># records</th>\n",
       "      <th>reason</th>\n",
       "      <th>outcome</th>\n",
       "      <th>tags</th>\n",
       "      <th>main_file</th>\n",
       "      <th>avg\n",
       ". duration</th>\n",
       "    </tr>\n",
       "  </thead>\n",
       "  <tbody>\n",
       "    <tr>\n",
       "      <th>20190612-125539</th>\n",
       "      <td>510</td>\n",
       "      <td>More_4_pop_fits_because_plots_are_not_good_enough</td>\n",
       "      <td></td>\n",
       "      <td></td>\n",
       "      <td>../code/fsGIF/gradient_descent.py</td>\n",
       "      <td>9h 03m 11s</td>\n",
       "    </tr>\n",
       "    <tr>\n",
       "      <th>20181113-091205</th>\n",
       "      <td>82</td>\n",
       "      <td>sgd_4pop_100-more-fits</td>\n",
       "      <td></td>\n",
       "      <td></td>\n",
       "      <td>fsGIF/fsGIF/gradient_descent.py</td>\n",
       "      <td>9h 15m 36s</td>\n",
       "    </tr>\n",
       "    <tr>\n",
       "      <th>20181030-164336</th>\n",
       "      <td>21</td>\n",
       "      <td>sgd_sine-wn_4pop</td>\n",
       "      <td></td>\n",
       "      <td></td>\n",
       "      <td>fsGIF/fsGIF/gradient_descent.py</td>\n",
       "      <td>16h 16m 22s</td>\n",
       "    </tr>\n",
       "    <tr>\n",
       "      <th>20181030-155623</th>\n",
       "      <td>7</td>\n",
       "      <td>sgd_sine-wn_4pop</td>\n",
       "      <td></td>\n",
       "      <td></td>\n",
       "      <td>fsGIF/fsGIF/gradient_descent.py</td>\n",
       "      <td>0h 25m 53s</td>\n",
       "    </tr>\n",
       "  </tbody>\n",
       "</table>\n",
       "</div>"
      ],
      "text/plain": [
       "                # records                                             reason  \\\n",
       "20190612-125539       510  More_4_pop_fits_because_plots_are_not_good_enough   \n",
       "20181113-091205        82                             sgd_4pop_100-more-fits   \n",
       "20181030-164336        21                                   sgd_sine-wn_4pop   \n",
       "20181030-155623         7                                   sgd_sine-wn_4pop   \n",
       "\n",
       "                outcome tags                          main_file  \\\n",
       "20190612-125539               ../code/fsGIF/gradient_descent.py   \n",
       "20181113-091205                 fsGIF/fsGIF/gradient_descent.py   \n",
       "20181030-164336                 fsGIF/fsGIF/gradient_descent.py   \n",
       "20181030-155623                 fsGIF/fsGIF/gradient_descent.py   \n",
       "\n",
       "                avg\\n. duration  \n",
       "20190612-125539      9h 03m 11s  \n",
       "20181113-091205      9h 15m 36s  \n",
       "20181030-164336     16h 16m 22s  \n",
       "20181030-155623      0h 25m 53s  "
      ]
     },
     "execution_count": 7,
     "metadata": {},
     "output_type": "execute_result"
    }
   ],
   "source": [
    "records.filter.script('gradient').filter.any.reason(['4pop', '4_pop']).summary.head(4)"
   ]
  },
  {
   "cell_type": "code",
   "execution_count": 8,
   "metadata": {},
   "outputs": [
    {
     "data": {
      "text/html": [
       "<div>\n",
       "<style scoped>\n",
       "    .dataframe tbody tr th:only-of-type {\n",
       "        vertical-align: middle;\n",
       "    }\n",
       "\n",
       "    .dataframe tbody tr th {\n",
       "        vertical-align: top;\n",
       "    }\n",
       "\n",
       "    .dataframe thead th {\n",
       "        text-align: right;\n",
       "    }\n",
       "</style>\n",
       "<table border=\"1\" class=\"dataframe\">\n",
       "  <thead>\n",
       "    <tr style=\"text-align: right;\">\n",
       "      <th></th>\n",
       "      <th># records</th>\n",
       "      <th>reason</th>\n",
       "      <th>outcome</th>\n",
       "      <th>tags</th>\n",
       "      <th>main_file</th>\n",
       "      <th>avg\n",
       ". duration</th>\n",
       "    </tr>\n",
       "  </thead>\n",
       "  <tbody>\n",
       "    <tr>\n",
       "      <th>20200207-114536</th>\n",
       "      <td>100</td>\n",
       "      <td>fig8_OU-I_inferred-meso</td>\n",
       "      <td></td>\n",
       "      <td></td>\n",
       "      <td>../code/fsGIF/generate_activity.py</td>\n",
       "      <td>1h 27m 39s</td>\n",
       "    </tr>\n",
       "    <tr>\n",
       "      <th>20200207-114448</th>\n",
       "      <td>100</td>\n",
       "      <td>fig8_OU-I_true-meso</td>\n",
       "      <td></td>\n",
       "      <td></td>\n",
       "      <td>../code/fsGIF/generate_activity.py</td>\n",
       "      <td>1h 26m 43s</td>\n",
       "    </tr>\n",
       "    <tr>\n",
       "      <th>20200207-114438</th>\n",
       "      <td>100</td>\n",
       "      <td>fig8_rampI_inferred-meso</td>\n",
       "      <td></td>\n",
       "      <td></td>\n",
       "      <td>../code/fsGIF/generate_activity.py</td>\n",
       "      <td>1h 33m 22s</td>\n",
       "    </tr>\n",
       "    <tr>\n",
       "      <th>20200207-114425</th>\n",
       "      <td>100</td>\n",
       "      <td>fig8_rampI_true-meso</td>\n",
       "      <td></td>\n",
       "      <td></td>\n",
       "      <td>../code/fsGIF/generate_activity.py</td>\n",
       "      <td>1h 47m 30s</td>\n",
       "    </tr>\n",
       "    <tr>\n",
       "      <th>20200204-114454</th>\n",
       "      <td>89</td>\n",
       "      <td>fig7_trainI_inferred-meso</td>\n",
       "      <td></td>\n",
       "      <td></td>\n",
       "      <td>../code/fsGIF/generate_activity.py</td>\n",
       "      <td>1h 27m 56s</td>\n",
       "    </tr>\n",
       "    <tr>\n",
       "      <th>20200204-114226</th>\n",
       "      <td>63</td>\n",
       "      <td>fig7_trainI_true-meso</td>\n",
       "      <td></td>\n",
       "      <td></td>\n",
       "      <td>../code/fsGIF/generate_activity.py</td>\n",
       "      <td>1h 09m 29s</td>\n",
       "    </tr>\n",
       "    <tr>\n",
       "      <th>20200127-111900</th>\n",
       "      <td>100</td>\n",
       "      <td>fig8_rampI_true-micro</td>\n",
       "      <td></td>\n",
       "      <td></td>\n",
       "      <td>../code/fsGIF/generate_spikes.py</td>\n",
       "      <td>7h 09m 57s</td>\n",
       "    </tr>\n",
       "    <tr>\n",
       "      <th>20200127-111754</th>\n",
       "      <td>100</td>\n",
       "      <td>fig8_rampI_true-meso</td>\n",
       "      <td></td>\n",
       "      <td></td>\n",
       "      <td>../code/fsGIF/generate_activity.py</td>\n",
       "      <td>1h 17m 04s</td>\n",
       "    </tr>\n",
       "    <tr>\n",
       "      <th>20200127-111650</th>\n",
       "      <td>100</td>\n",
       "      <td>fig8_rampI_inferred-meso</td>\n",
       "      <td></td>\n",
       "      <td></td>\n",
       "      <td>../code/fsGIF/generate_activity.py</td>\n",
       "      <td>1h 06m 50s</td>\n",
       "    </tr>\n",
       "    <tr>\n",
       "      <th>20200127-105335</th>\n",
       "      <td>100</td>\n",
       "      <td>fig8_OU-I_true-micro</td>\n",
       "      <td></td>\n",
       "      <td></td>\n",
       "      <td>../code/fsGIF/generate_spikes.py</td>\n",
       "      <td>7h 06m 56s</td>\n",
       "    </tr>\n",
       "    <tr>\n",
       "      <th>20200127-105138</th>\n",
       "      <td>100</td>\n",
       "      <td>fig8_OU-I_true-meso</td>\n",
       "      <td></td>\n",
       "      <td></td>\n",
       "      <td>../code/fsGIF/generate_activity.py</td>\n",
       "      <td>1h 02m 55s</td>\n",
       "    </tr>\n",
       "    <tr>\n",
       "      <th>20200127-105008</th>\n",
       "      <td>100</td>\n",
       "      <td>fig8_OU-I_inferred-meso</td>\n",
       "      <td></td>\n",
       "      <td></td>\n",
       "      <td>../code/fsGIF/generate_activity.py</td>\n",
       "      <td>1h 03m 27s</td>\n",
       "    </tr>\n",
       "    <tr>\n",
       "      <th>20200127-104743</th>\n",
       "      <td>100</td>\n",
       "      <td>fig7_trainI_true-micro</td>\n",
       "      <td></td>\n",
       "      <td></td>\n",
       "      <td>../code/fsGIF/generate_spikes.py</td>\n",
       "      <td>7h 09m 50s</td>\n",
       "    </tr>\n",
       "    <tr>\n",
       "      <th>20200127-104210</th>\n",
       "      <td>100</td>\n",
       "      <td>fig7_trainI_true-meso</td>\n",
       "      <td></td>\n",
       "      <td></td>\n",
       "      <td>../code/fsGIF/generate_activity.py</td>\n",
       "      <td>1h 01m 22s</td>\n",
       "    </tr>\n",
       "    <tr>\n",
       "      <th>20200127-104121</th>\n",
       "      <td>100</td>\n",
       "      <td>fig7_trainI_inferred-meso</td>\n",
       "      <td></td>\n",
       "      <td></td>\n",
       "      <td>../code/fsGIF/generate_activity.py</td>\n",
       "      <td>1h 12m 29s</td>\n",
       "    </tr>\n",
       "  </tbody>\n",
       "</table>\n",
       "</div>"
      ],
      "text/plain": [
       "                # records                     reason outcome tags  \\\n",
       "20200207-114536       100    fig8_OU-I_inferred-meso                \n",
       "20200207-114448       100        fig8_OU-I_true-meso                \n",
       "20200207-114438       100   fig8_rampI_inferred-meso                \n",
       "20200207-114425       100       fig8_rampI_true-meso                \n",
       "20200204-114454        89  fig7_trainI_inferred-meso                \n",
       "20200204-114226        63      fig7_trainI_true-meso                \n",
       "20200127-111900       100      fig8_rampI_true-micro                \n",
       "20200127-111754       100       fig8_rampI_true-meso                \n",
       "20200127-111650       100   fig8_rampI_inferred-meso                \n",
       "20200127-105335       100       fig8_OU-I_true-micro                \n",
       "20200127-105138       100        fig8_OU-I_true-meso                \n",
       "20200127-105008       100    fig8_OU-I_inferred-meso                \n",
       "20200127-104743       100     fig7_trainI_true-micro                \n",
       "20200127-104210       100      fig7_trainI_true-meso                \n",
       "20200127-104121       100  fig7_trainI_inferred-meso                \n",
       "\n",
       "                                          main_file avg\\n. duration  \n",
       "20200207-114536  ../code/fsGIF/generate_activity.py      1h 27m 39s  \n",
       "20200207-114448  ../code/fsGIF/generate_activity.py      1h 26m 43s  \n",
       "20200207-114438  ../code/fsGIF/generate_activity.py      1h 33m 22s  \n",
       "20200207-114425  ../code/fsGIF/generate_activity.py      1h 47m 30s  \n",
       "20200204-114454  ../code/fsGIF/generate_activity.py      1h 27m 56s  \n",
       "20200204-114226  ../code/fsGIF/generate_activity.py      1h 09m 29s  \n",
       "20200127-111900    ../code/fsGIF/generate_spikes.py      7h 09m 57s  \n",
       "20200127-111754  ../code/fsGIF/generate_activity.py      1h 17m 04s  \n",
       "20200127-111650  ../code/fsGIF/generate_activity.py      1h 06m 50s  \n",
       "20200127-105335    ../code/fsGIF/generate_spikes.py      7h 06m 56s  \n",
       "20200127-105138  ../code/fsGIF/generate_activity.py      1h 02m 55s  \n",
       "20200127-105008  ../code/fsGIF/generate_activity.py      1h 03m 27s  \n",
       "20200127-104743    ../code/fsGIF/generate_spikes.py      7h 09m 50s  \n",
       "20200127-104210  ../code/fsGIF/generate_activity.py      1h 01m 22s  \n",
       "20200127-104121  ../code/fsGIF/generate_activity.py      1h 12m 29s  "
      ]
     },
     "execution_count": 8,
     "metadata": {},
     "output_type": "execute_result"
    }
   ],
   "source": [
    "#records.filter.reason('λbar_true-params').summary.head(5)\n",
    "records.filter.any.reason(('fig7', 'fig8')).summary"
   ]
  },
  {
   "cell_type": "code",
   "execution_count": 9,
   "metadata": {},
   "outputs": [
    {
     "data": {
      "text/html": [
       "<div>\n",
       "<style scoped>\n",
       "    .dataframe tbody tr th:only-of-type {\n",
       "        vertical-align: middle;\n",
       "    }\n",
       "\n",
       "    .dataframe tbody tr th {\n",
       "        vertical-align: top;\n",
       "    }\n",
       "\n",
       "    .dataframe thead th {\n",
       "        text-align: right;\n",
       "    }\n",
       "</style>\n",
       "<table border=\"1\" class=\"dataframe\">\n",
       "  <thead>\n",
       "    <tr style=\"text-align: right;\">\n",
       "      <th></th>\n",
       "      <th># records</th>\n",
       "      <th>reason</th>\n",
       "      <th>outcome</th>\n",
       "      <th>tags</th>\n",
       "      <th>main_file</th>\n",
       "      <th>avg\n",
       ". duration</th>\n",
       "    </tr>\n",
       "  </thead>\n",
       "  <tbody>\n",
       "    <tr>\n",
       "      <th>20190724-111120</th>\n",
       "      <td>4</td>\n",
       "      <td>posterior-activity_4pops</td>\n",
       "      <td></td>\n",
       "      <td></td>\n",
       "      <td>../code/fsGIF/generate_activity.py</td>\n",
       "      <td>0h 17m 35s</td>\n",
       "    </tr>\n",
       "    <tr>\n",
       "      <th>20190710-214428</th>\n",
       "      <td>1</td>\n",
       "      <td>posterior-activity_4pops</td>\n",
       "      <td></td>\n",
       "      <td></td>\n",
       "      <td>../code/fsGIF/generate_activity.py</td>\n",
       "      <td>0h 15m 48s</td>\n",
       "    </tr>\n",
       "    <tr>\n",
       "      <th>20190709-135325</th>\n",
       "      <td>1</td>\n",
       "      <td>posterior-activity_4pops</td>\n",
       "      <td></td>\n",
       "      <td></td>\n",
       "      <td>../code/fsGIF/generate_activity.py</td>\n",
       "      <td>0h 20m 17s</td>\n",
       "    </tr>\n",
       "    <tr>\n",
       "      <th>20190705-111650</th>\n",
       "      <td>1</td>\n",
       "      <td>posterior-activity_4pops</td>\n",
       "      <td></td>\n",
       "      <td></td>\n",
       "      <td>../code/fsGIF/generate_activity.py</td>\n",
       "      <td>0h 12m 48s</td>\n",
       "    </tr>\n",
       "    <tr>\n",
       "      <th>20190703-131604</th>\n",
       "      <td>1</td>\n",
       "      <td>posterior-activity_4pops</td>\n",
       "      <td></td>\n",
       "      <td></td>\n",
       "      <td>../code/fsGIF/generate_activity.py</td>\n",
       "      <td>0h 14m 20s</td>\n",
       "    </tr>\n",
       "  </tbody>\n",
       "</table>\n",
       "</div>"
      ],
      "text/plain": [
       "                # records                    reason outcome tags  \\\n",
       "20190724-111120         4  posterior-activity_4pops                \n",
       "20190710-214428         1  posterior-activity_4pops                \n",
       "20190709-135325         1  posterior-activity_4pops                \n",
       "20190705-111650         1  posterior-activity_4pops                \n",
       "20190703-131604         1  posterior-activity_4pops                \n",
       "\n",
       "                                          main_file avg\\n. duration  \n",
       "20190724-111120  ../code/fsGIF/generate_activity.py      0h 17m 35s  \n",
       "20190710-214428  ../code/fsGIF/generate_activity.py      0h 15m 48s  \n",
       "20190709-135325  ../code/fsGIF/generate_activity.py      0h 20m 17s  \n",
       "20190705-111650  ../code/fsGIF/generate_activity.py      0h 12m 48s  \n",
       "20190703-131604  ../code/fsGIF/generate_activity.py      0h 14m 20s  "
      ]
     },
     "execution_count": 9,
     "metadata": {},
     "output_type": "execute_result"
    }
   ],
   "source": [
    "records.filter.reason('posterior-activity_4pops').summary.head(5)"
   ]
  },
  {
   "cell_type": "markdown",
   "metadata": {},
   "source": [
    "Reminders\n",
    "\n",
    "  - `'input_ramp-spikes_4pop.params'`: test input\n",
    "  - `'meso-gt'`: mesoscopic simulation with ground truth parameters"
   ]
  },
  {
   "cell_type": "code",
   "execution_count": 10,
   "metadata": {},
   "outputs": [],
   "source": [
    "psets = lib.AxAttrs(\n",
    "    train_inferred_meso = records.filter.label('20200127-104121').earliest.parameters,\n",
    "    train_true_meso = records.filter.label('20200127-104210').earliest.parameters,\n",
    "    train_true_micro = records.filter.label('20200127-104743').earliest.parameters,\n",
    "    OU_inferred_meso = records.filter.label('20200127-105008').earliest.parameters,\n",
    "    OU_true_meso = records.filter.label('20200127-105138').earliest.parameters,\n",
    "    OU_true_micro = records.filter.label('20200127-105335').earliest.parameters,\n",
    "    ramp_inferred_meso = records.filter.label('20200127-111650').earliest.parameters,\n",
    "    ramp_true_meso = records.filter.label('20200127-111754').earliest.parameters,\n",
    "    ramp_true_micro = records.filter.label('20200127-111900').earliest.parameters,\n",
    ")\n",
    "for k, pset in psets.items():\n",
    "    psets[k] = psets[k].copy()\n",
    "    del psets[k]['seed']"
   ]
  },
  {
   "cell_type": "markdown",
   "metadata": {},
   "source": [
    "The 'train_inferred_meso' runs were contaminated by 4 which had a different parameter set.\n",
    "So to be absolutely sure that runs are consistent, instead of matching labels, we match parameters\n",
    "\n",
    "    train_inferred_meso_records = records.filter.any.label(['20200127-104121', '20200204-114454']).list\n",
    "    train_true_meso_records = records.filter.any.label(['20200127-104210', '20200204-114226']).list\n",
    "    train_true_micro_records = records.filter.label('20200127-104743').list\n",
    "    OU_inferred_meso_records = records.filter.label('20200127-105008').list\n",
    "    OU_true_meso_records = records.filter.label('20200127-105138').list\n",
    "    OU_true_micro_records = records.filter.label('20200127-105335').list\n",
    "    ramp_inferred_meso_records = records.filter.label('20200127-111650').list\n",
    "    ramp_true_meso_records = records.filter.label('20200127-111754').list\n",
    "    ramp_true_micro_records = records.filter.label('20200127-111900').list"
   ]
  },
  {
   "cell_type": "code",
   "execution_count": 11,
   "metadata": {},
   "outputs": [],
   "source": [
    "simrecords = lib.AxAttrs({k: lib.RecordSet(records.filter.after(20200127).filter.parameters(pset).list)\n",
    "                         for k, pset in psets.items()})\n",
    "# We use RecordSet here because it remove duplicate records as well as invalid ones\n",
    "# (e.g. those that failed to save their data)"
   ]
  },
  {
   "cell_type": "code",
   "execution_count": 12,
   "metadata": {},
   "outputs": [
    {
     "data": {
      "text/html": [
       "<div>\n",
       "<style scoped>\n",
       "    .dataframe tbody tr th:only-of-type {\n",
       "        vertical-align: middle;\n",
       "    }\n",
       "\n",
       "    .dataframe tbody tr th {\n",
       "        vertical-align: top;\n",
       "    }\n",
       "\n",
       "    .dataframe thead th {\n",
       "        text-align: right;\n",
       "    }\n",
       "</style>\n",
       "<table border=\"1\" class=\"dataframe\">\n",
       "  <thead>\n",
       "    <tr style=\"text-align: right;\">\n",
       "      <th></th>\n",
       "      <th>train_inferred_meso</th>\n",
       "      <th>train_true_meso</th>\n",
       "      <th>train_true_micro</th>\n",
       "      <th>OU_inferred_meso</th>\n",
       "      <th>OU_true_meso</th>\n",
       "      <th>OU_true_micro</th>\n",
       "      <th>ramp_inferred_meso</th>\n",
       "      <th>ramp_true_meso</th>\n",
       "      <th>ramp_true_micro</th>\n",
       "    </tr>\n",
       "  </thead>\n",
       "  <tbody>\n",
       "    <tr>\n",
       "      <th># distinct records</th>\n",
       "      <td>85</td>\n",
       "      <td>63</td>\n",
       "      <td>61</td>\n",
       "      <td>93</td>\n",
       "      <td>94</td>\n",
       "      <td>61</td>\n",
       "      <td>88</td>\n",
       "      <td>77</td>\n",
       "      <td>61</td>\n",
       "    </tr>\n",
       "    <tr>\n",
       "      <th># records</th>\n",
       "      <td>85</td>\n",
       "      <td>63</td>\n",
       "      <td>61</td>\n",
       "      <td>93</td>\n",
       "      <td>94</td>\n",
       "      <td>61</td>\n",
       "      <td>88</td>\n",
       "      <td>77</td>\n",
       "      <td>61</td>\n",
       "    </tr>\n",
       "  </tbody>\n",
       "</table>\n",
       "</div>"
      ],
      "text/plain": [
       "                    train_inferred_meso  train_true_meso  train_true_micro  \\\n",
       "# distinct records                   85               63                61   \n",
       "# records                            85               63                61   \n",
       "\n",
       "                    OU_inferred_meso  OU_true_meso  OU_true_micro  \\\n",
       "# distinct records                93            94             61   \n",
       "# records                         93            94             61   \n",
       "\n",
       "                    ramp_inferred_meso  ramp_true_meso  ramp_true_micro  \n",
       "# distinct records                  88              77               61  \n",
       "# records                           88              77               61  "
      ]
     },
     "execution_count": 12,
     "metadata": {},
     "output_type": "execute_result"
    }
   ],
   "source": [
    "def count_recs(simrecords):\n",
    "    return pd.DataFrame(\n",
    "        {k: {\"# records\": len(rs),\n",
    "             \"# distinct records\": len(set(ml.parameters.digest(rec.parameters)\n",
    "                                       for rec in rs))\n",
    "            }\n",
    "          for k, rs in simrecords.items()})\n",
    "count_recs(simrecords)"
   ]
  },
  {
   "cell_type": "code",
   "execution_count": 13,
   "metadata": {},
   "outputs": [
    {
     "data": {
      "text/html": [
       "<div>\n",
       "<style scoped>\n",
       "    .dataframe tbody tr th:only-of-type {\n",
       "        vertical-align: middle;\n",
       "    }\n",
       "\n",
       "    .dataframe tbody tr th {\n",
       "        vertical-align: top;\n",
       "    }\n",
       "\n",
       "    .dataframe thead th {\n",
       "        text-align: right;\n",
       "    }\n",
       "</style>\n",
       "<table border=\"1\" class=\"dataframe\">\n",
       "  <thead>\n",
       "    <tr style=\"text-align: right;\">\n",
       "      <th></th>\n",
       "      <th>train_inferred_meso</th>\n",
       "      <th>train_true_meso</th>\n",
       "      <th>train_true_micro</th>\n",
       "      <th>OU_inferred_meso</th>\n",
       "      <th>OU_true_meso</th>\n",
       "      <th>OU_true_micro</th>\n",
       "      <th>ramp_inferred_meso</th>\n",
       "      <th>ramp_true_meso</th>\n",
       "      <th>ramp_true_micro</th>\n",
       "    </tr>\n",
       "  </thead>\n",
       "  <tbody>\n",
       "    <tr>\n",
       "      <th># distinct records</th>\n",
       "      <td>85</td>\n",
       "      <td>63</td>\n",
       "      <td>61</td>\n",
       "      <td>93</td>\n",
       "      <td>94</td>\n",
       "      <td>61</td>\n",
       "      <td>88</td>\n",
       "      <td>77</td>\n",
       "      <td>61</td>\n",
       "    </tr>\n",
       "    <tr>\n",
       "      <th># records</th>\n",
       "      <td>85</td>\n",
       "      <td>63</td>\n",
       "      <td>61</td>\n",
       "      <td>93</td>\n",
       "      <td>94</td>\n",
       "      <td>61</td>\n",
       "      <td>88</td>\n",
       "      <td>77</td>\n",
       "      <td>61</td>\n",
       "    </tr>\n",
       "  </tbody>\n",
       "</table>\n",
       "</div>"
      ],
      "text/plain": [
       "                    train_inferred_meso  train_true_meso  train_true_micro  \\\n",
       "# distinct records                   85               63                61   \n",
       "# records                            85               63                61   \n",
       "\n",
       "                    OU_inferred_meso  OU_true_meso  OU_true_micro  \\\n",
       "# distinct records                93            94             61   \n",
       "# records                         93            94             61   \n",
       "\n",
       "                    ramp_inferred_meso  ramp_true_meso  ramp_true_micro  \n",
       "# distinct records                  88              77               61  \n",
       "# records                           88              77               61  "
      ]
     },
     "execution_count": 13,
     "metadata": {},
     "output_type": "execute_result"
    }
   ],
   "source": [
    "for rs in simrecords.values():\n",
    "    rs.remove_duplicates()\n",
    "count_recs(simrecords)"
   ]
  },
  {
   "cell_type": "code",
   "execution_count": 14,
   "metadata": {},
   "outputs": [],
   "source": [
    "trainsimrecords = lib.AxAttrs({k:v for k,v in simrecords.items() if 'train' in k})\n",
    "OUsimrecords = lib.AxAttrs({k:v for k,v in simrecords.items() if 'OU' in k})\n",
    "rampsimrecords = lib.AxAttrs({k:v for k,v in simrecords.items() if 'ramp' in k})"
   ]
  },
  {
   "cell_type": "code",
   "execution_count": 15,
   "metadata": {},
   "outputs": [],
   "source": [
    "trainsimrecords.true_micro = simrecords.train_true_micro\n",
    "OUsimrecords.true_micro = simrecords.OU_true_micro\n",
    "rampsimrecords.true_micro = simrecords.ramp_true_micro"
   ]
  },
  {
   "cell_type": "code",
   "execution_count": 16,
   "metadata": {},
   "outputs": [],
   "source": [
    "# Split the true_micro sims into sim and reference sets\n",
    "for _simrecords in [trainsimrecords, OUsimrecords, rampsimrecords]:\n",
    "    assert 'true_all' not in _simrecords\n",
    "    N = count_recs(_simrecords).min(axis=1)[0]\n",
    "    rl = _simrecords.true_micro.recordlist\n",
    "    i = int(len(rl)/2)\n",
    "    true, ref = rl[:i], rl[i:]\n",
    "    _simrecords.true_all = _simrecords.true_micro\n",
    "    _simrecords.true_micro = lib.RecordSet(true)\n",
    "    _simrecords.true_ref = lib.RecordSet(ref)\n",
    "    \n",
    "    for rs in _simrecords.values():\n",
    "        labels = sorted(rs.records)\n",
    "        rs.remove(labels[N:])"
   ]
  },
  {
   "cell_type": "code",
   "execution_count": 17,
   "metadata": {},
   "outputs": [
    {
     "data": {
      "text/html": [
       "<div>\n",
       "<style scoped>\n",
       "    .dataframe tbody tr th:only-of-type {\n",
       "        vertical-align: middle;\n",
       "    }\n",
       "\n",
       "    .dataframe tbody tr th {\n",
       "        vertical-align: top;\n",
       "    }\n",
       "\n",
       "    .dataframe thead th {\n",
       "        text-align: right;\n",
       "    }\n",
       "</style>\n",
       "<table border=\"1\" class=\"dataframe\">\n",
       "  <thead>\n",
       "    <tr style=\"text-align: right;\">\n",
       "      <th></th>\n",
       "      <th>train_inferred_meso</th>\n",
       "      <th>train_true_meso</th>\n",
       "      <th>train_true_micro</th>\n",
       "      <th>OU_inferred_meso</th>\n",
       "      <th>OU_true_meso</th>\n",
       "      <th>OU_true_micro</th>\n",
       "      <th>ramp_inferred_meso</th>\n",
       "      <th>ramp_true_meso</th>\n",
       "      <th>ramp_true_micro</th>\n",
       "    </tr>\n",
       "  </thead>\n",
       "  <tbody>\n",
       "    <tr>\n",
       "      <th># distinct records</th>\n",
       "      <td>61</td>\n",
       "      <td>61</td>\n",
       "      <td>61</td>\n",
       "      <td>61</td>\n",
       "      <td>61</td>\n",
       "      <td>61</td>\n",
       "      <td>61</td>\n",
       "      <td>61</td>\n",
       "      <td>61</td>\n",
       "    </tr>\n",
       "    <tr>\n",
       "      <th># records</th>\n",
       "      <td>61</td>\n",
       "      <td>61</td>\n",
       "      <td>61</td>\n",
       "      <td>61</td>\n",
       "      <td>61</td>\n",
       "      <td>61</td>\n",
       "      <td>61</td>\n",
       "      <td>61</td>\n",
       "      <td>61</td>\n",
       "    </tr>\n",
       "  </tbody>\n",
       "</table>\n",
       "</div>"
      ],
      "text/plain": [
       "                    train_inferred_meso  train_true_meso  train_true_micro  \\\n",
       "# distinct records                   61               61                61   \n",
       "# records                            61               61                61   \n",
       "\n",
       "                    OU_inferred_meso  OU_true_meso  OU_true_micro  \\\n",
       "# distinct records                61            61             61   \n",
       "# records                         61            61             61   \n",
       "\n",
       "                    ramp_inferred_meso  ramp_true_meso  ramp_true_micro  \n",
       "# distinct records                  61              61               61  \n",
       "# records                           61              61               61  "
      ]
     },
     "execution_count": 17,
     "metadata": {},
     "output_type": "execute_result"
    }
   ],
   "source": [
    "count_recs(simrecords)"
   ]
  },
  {
   "cell_type": "code",
   "execution_count": 18,
   "metadata": {},
   "outputs": [],
   "source": [
    "train_inferred_meso_records = simrecords.train_inferred_meso.recordlist\n",
    "train_true_meso_records = simrecords.train_true_meso.recordlist\n",
    "train_true_micro_records = simrecords.train_true_micro.recordlist\n",
    "OU_inferred_meso_records = simrecords.OU_inferred_meso.recordlist\n",
    "OU_true_meso_records = simrecords.OU_true_meso.recordlist\n",
    "OU_true_micro_records = simrecords.OU_true_micro.recordlist\n",
    "ramp_inferred_meso_records = simrecords.ramp_inferred_meso.recordlist\n",
    "ramp_true_meso_records = simrecords.ramp_true_meso.recordlist\n",
    "ramp_true_micro_records = simrecords.ramp_true_micro.recordlist"
   ]
  },
  {
   "cell_type": "code",
   "execution_count": 19,
   "metadata": {},
   "outputs": [],
   "source": [
    "test_Iparams = records.get('20181112-235654').parameters "
   ]
  },
  {
   "cell_type": "code",
   "execution_count": 20,
   "metadata": {},
   "outputs": [],
   "source": [
    "#OUtest_Iparams = records.get('20190627-163948').parameters # old OU input, with more E\n",
    "OUtest_Iparams = records.get('20190704-141607').parameters"
   ]
  },
  {
   "cell_type": "code",
   "execution_count": 21,
   "metadata": {},
   "outputs": [],
   "source": [
    "#easyOUtest_Iparams = records.get('20190708-092426').parameters"
   ]
  },
  {
   "cell_type": "markdown",
   "metadata": {},
   "source": [
    "train_inferred_meso_traces = load_traces(train_inferred_meso_records)"
   ]
  },
  {
   "cell_type": "markdown",
   "metadata": {},
   "source": [
    "train_true_meso_traces = load_traces(train_true_meso_records)"
   ]
  },
  {
   "cell_type": "markdown",
   "metadata": {},
   "source": [
    "#train_trueref_micro_traces = load_traces(train_true_micro_records[:num_ref_records])\n",
    "#train_truetest_micro_traces = load_traces(train_true_micro_records[num_ref_records:])\n",
    "train_trueref_micro_traces = load_traces(train_true_micro_records)\n",
    "train_truetest_micro_traces = load_traces(train_true_micro_records)"
   ]
  },
  {
   "cell_type": "code",
   "execution_count": 24,
   "metadata": {},
   "outputs": [
    {
     "name": "stderr",
     "output_type": "stream",
     "text": [
      "100%|██████████| 31/31 [00:09<00:00,  3.43it/s]\n",
      "100%|██████████| 30/30 [00:09<00:00,  3.26it/s]\n",
      "100%|██████████| 61/61 [00:05<00:00, 10.41it/s]\n",
      "100%|██████████| 61/61 [00:07<00:00,  7.99it/s]\n",
      "100%|██████████| 61/61 [00:07<00:00,  7.76it/s]\n"
     ]
    }
   ],
   "source": [
    "#n = int(len(train_true_micro_records)/2)\n",
    "trainsims = lib.SimStatsColl(timelim = (10., 19.5), dt=dt,\n",
    "                         ref_sims = trainsimrecords.true_ref.recordlist,\n",
    "                         true     = trainsimrecords.true_micro.recordlist,\n",
    "                         true_all = trainsimrecords.true_all.recordlist,\n",
    "                         mesogt   = train_true_meso_records,\n",
    "                         map      = train_inferred_meso_records,\n",
    "                         )"
   ]
  },
  {
   "cell_type": "code",
   "execution_count": 25,
   "metadata": {},
   "outputs": [
    {
     "name": "stderr",
     "output_type": "stream",
     "text": [
      "100%|██████████| 31/31 [00:04<00:00,  6.68it/s]\n",
      "100%|██████████| 30/30 [00:04<00:00,  7.08it/s]\n",
      "100%|██████████| 61/61 [00:05<00:00, 10.52it/s]\n",
      "100%|██████████| 61/61 [00:07<00:00,  8.67it/s]\n",
      "100%|██████████| 61/61 [00:07<00:00,  8.67it/s]\n"
     ]
    }
   ],
   "source": [
    "OUsims    = lib.SimStatsColl(timelim = (10., 19.5), dt=dt,\n",
    "                         ref_sims = OUsimrecords.true_ref.recordlist,\n",
    "                         true     = OUsimrecords.true_micro.recordlist,\n",
    "                         true_all = OUsimrecords.true_all.recordlist,\n",
    "                         mesogt   = OU_true_meso_records,\n",
    "                         map      = OU_inferred_meso_records)"
   ]
  },
  {
   "cell_type": "code",
   "execution_count": 26,
   "metadata": {},
   "outputs": [
    {
     "name": "stderr",
     "output_type": "stream",
     "text": [
      "100%|██████████| 31/31 [00:04<00:00,  6.60it/s]\n",
      "100%|██████████| 30/30 [00:04<00:00,  7.00it/s]\n",
      "100%|██████████| 61/61 [00:06<00:00,  9.44it/s]\n",
      "100%|██████████| 61/61 [00:06<00:00,  8.85it/s]\n",
      "100%|██████████| 61/61 [00:06<00:00,  8.76it/s]\n"
     ]
    }
   ],
   "source": [
    "rampsims  = lib.SimStatsColl(timelim = (10., 19.5), dt=dt,\n",
    "                         ref_sims = rampsimrecords.true_ref.recordlist,\n",
    "                         true     = rampsimrecords.true_micro.recordlist,\n",
    "                         true_all = rampsimrecords.true_all.recordlist,\n",
    "                         mesogt   = ramp_true_meso_records,\n",
    "                         map      = ramp_inferred_meso_records)"
   ]
  },
  {
   "cell_type": "code",
   "execution_count": 27,
   "metadata": {},
   "outputs": [],
   "source": [
    "easyOUsims = lib.SimStatsColl([])"
   ]
  },
  {
   "cell_type": "markdown",
   "metadata": {},
   "source": [
    "**NOTE**: Figure below used will be lost if rerun: we no longer save all rms values"
   ]
  },
  {
   "cell_type": "code",
   "execution_count": 28,
   "metadata": {},
   "outputs": [
    {
     "data": {
      "image/png": "[encoded data removed]",
      "text/plain": [
       "<Figure size 690x426.445 with 4 Axes>"
      ]
     },
     "metadata": {
      "needs_background": "light"
     },
     "output_type": "display_data"
    }
   ],
   "source": [
    "fig, axes = plt.subplots(2,2)\n",
    "for ax, D in zip(axes.flat, trainsims.map.rms):\n",
    "    ax.hist(D, bins='auto')\n",
    "    m = (D.max() + D.min())/2\n",
    "    Δ = (D.max() - D.min())/2\n",
    "    ax.vlines([m, m-Δ, m+Δ], *ax.get_ylim(), colors='orange')"
   ]
  },
  {
   "cell_type": "markdown",
   "metadata": {},
   "source": [
    "fitcolls = {\n",
    "    'map': lib.FitCollView(\n",
    "        list(fitrecords.filter.script('gradient_descent')\n",
    "                              .extract(\"parameters\", \"outputpath\")))\n",
    "}"
   ]
  },
  {
   "cell_type": "markdown",
   "metadata": {},
   "source": [
    "rampsims = lib.FitResultSims(fitcolls,\n",
    "                             input_params = test_Iparams,\n",
    "                             start = 10.,  stop = 19., seed=300)"
   ]
  },
  {
   "cell_type": "markdown",
   "metadata": {},
   "source": [
    "OUsims = lib.FitResultSims(fitcolls,\n",
    "                           input_params = OUtest_Iparams,\n",
    "                           start = 10.,  stop = 19., seed=300)"
   ]
  },
  {
   "cell_type": "markdown",
   "metadata": {},
   "source": [
    "trainsims = lib.FitResultSims(fitcolls,\n",
    "                              input_params = fitcolls['map'].parameters.posterior.input.params,\n",
    "                              start = 10., stop = 19., seed=300)  # seed=314"
   ]
  },
  {
   "cell_type": "markdown",
   "metadata": {},
   "source": [
    "gtparams = ParameterSet(\"params/activity-4pop.params\", basepath='/home/alex/Recherche/macke_lab/run/fsGIF')\n",
    "    # TODO: use core.param_dir"
   ]
  },
  {
   "cell_type": "markdown",
   "metadata": {},
   "source": [
    "gtparams.input.params = test_Iparams\n",
    "gtparams.spikes.input.params = test_Iparams"
   ]
  },
  {
   "cell_type": "markdown",
   "metadata": {},
   "source": [
    "rampsims.add_sim('meso-gt', gtparams)"
   ]
  },
  {
   "cell_type": "markdown",
   "metadata": {},
   "source": [
    "gtparams.input.params = OUtest_Iparams\n",
    "gtparams.spikes.input.params = OUtest_Iparams"
   ]
  },
  {
   "cell_type": "markdown",
   "metadata": {},
   "source": [
    "OUsims.add_sim('meso-gt', gtparams)"
   ]
  },
  {
   "cell_type": "markdown",
   "metadata": {},
   "source": [
    "gtparams.input.params = fitcolls['map'].parameters.posterior.input.params\n",
    "gtparams.spikes.input = gtparams.input"
   ]
  },
  {
   "cell_type": "markdown",
   "metadata": {},
   "source": [
    "trainsims.add_sim('meso-gt', gtparams)"
   ]
  },
  {
   "cell_type": "markdown",
   "metadata": {},
   "source": [
    "## Compute ρ-bar and RMSE-bar"
   ]
  },
  {
   "cell_type": "code",
   "execution_count": 29,
   "metadata": {},
   "outputs": [],
   "source": [
    "trainbarstats = lib.BarStats(\n",
    "    reftraces = trainsims.ref_sims.traces,\n",
    "    **{k: sims.traces.traces for k, sims in trainsims.test_sims.items()})\n",
    "\n",
    "OUbarstats = lib.BarStats(\n",
    "    reftraces = OUsims.ref_sims.traces,\n",
    "    **{k: sims.traces.traces for k, sims in OUsims.test_sims.items()})\n",
    "\n",
    "rampbarstats = lib.BarStats(\n",
    "    reftraces = rampsims.ref_sims.traces,\n",
    "    **{k: sims.traces.traces for k, sims in rampsims.test_sims.items()})"
   ]
  },
  {
   "cell_type": "markdown",
   "metadata": {},
   "source": [
    "# Fig training"
   ]
  },
  {
   "cell_type": "code",
   "execution_count": 30,
   "metadata": {},
   "outputs": [],
   "source": [
    "outputname = \"Fig7\""
   ]
  },
  {
   "cell_type": "code",
   "execution_count": 31,
   "metadata": {},
   "outputs": [],
   "source": [
    "#Ihist = core.load(fitcolls['map'].parameters.posterior.input)\n",
    "Ihist = core.load(train_inferred_meso_records.latest.parameters.input)"
   ]
  },
  {
   "cell_type": "code",
   "execution_count": 32,
   "metadata": {},
   "outputs": [],
   "source": [
    "Point = namedtuple('Point', ['x', 'y'])\n",
    "class Box:\n",
    "    def __init__(self, label, center, width, height, color):\n",
    "        self.label = label\n",
    "        self.center = Point(*center)\n",
    "        self.width = width\n",
    "        self.height = height\n",
    "        self.color = color\n",
    "    @property\n",
    "    def xy(self):\n",
    "        return Point(self.center[0] - self.width/2,\n",
    "                     self.center[1] - self.height/2)"
   ]
  },
  {
   "cell_type": "code",
   "execution_count": 33,
   "metadata": {},
   "outputs": [],
   "source": [
    "def draw_neuron_pop(ax, box):\n",
    "    rect = mpl.patches.Rectangle(box.xy, box.width, box.height,\n",
    "                             color=box.color)\n",
    "    ax.add_patch(rect);"
   ]
  },
  {
   "cell_type": "code",
   "execution_count": 34,
   "metadata": {},
   "outputs": [],
   "source": [
    "tmesoα = 0.75#1.\n",
    "imesoα = 0.65#0.8"
   ]
  },
  {
   "cell_type": "code",
   "execution_count": 46,
   "metadata": {},
   "outputs": [
    {
     "data": {
      "image/png": "[encoded data removed]",
      "text/plain": [
       "<Figure size 690x234.544 with 5 Axes>"
      ]
     },
     "metadata": {
      "needs_background": "light"
     },
     "output_type": "display_data"
    }
   ],
   "source": [
    "fig = plt.figure(figsize=(textwidth, 0.55*figheight))\n",
    "gs0 = GridSpec(2,2)\n",
    "gs1 = GridSpec(2,1)\n",
    "gs0.set_height_ratios([.5, .2])\n",
    "gs1.set_height_ratios([.45, .55])  # Make space for ylabel\n",
    "gs0.update(right=0.4)\n",
    "gs1.update(left=0.48)\n",
    "\n",
    "# Legend table formatting\n",
    "γ = 1.5\n",
    "γy = 1.2\n",
    "Δx_in = 1.45   - 0.2    # Offset to avoid overlapping data\n",
    "Δy_in = 0  *1.15 # Offset to avoid overlapping data\n",
    "Δy2_in = .01  # Vertical offset to line-up to legend lines\n",
    "Δx_label_in = -0.18 *1.\n",
    "Δy_label_in = 0.12\n",
    "headheight_in = .16 *γy\n",
    "lineheight_in = .13 *γy\n",
    "colmargin_in = .15   *γ\n",
    "colcorrwidth_in = .25 *γ\n",
    "colrmswidth_in = .25  *γ *2.2\n",
    "\n",
    "# Population diagram\n",
    "ax = plt.subplot(gs0[0,:])\n",
    "plotwidth = 1\n",
    "plotheight = 1\n",
    "xmargin = 0\n",
    "ymargin = 0\n",
    "xmidmargin = 0.1*plotwidth\n",
    "ymidmargin = 0.1*plotheight\n",
    "nrows = 2\n",
    "ncols = 2\n",
    "boxwidth = (plotwidth - (ncols-1)*xmidmargin - 2*xmargin) / ncols\n",
    "boxheight = (plotheight - (nrows-1)*ymidmargin - 2*ymargin) / nrows\n",
    "x1 = xmargin + boxwidth/2\n",
    "x2 = plotwidth - x1\n",
    "y1 = ymargin + boxheight/2\n",
    "y2 = plotheight - y1\n",
    "boxes = odict[\n",
    "    'L2/3e': Box('L2/3e', (x1, y2), boxwidth, boxheight, colours_light[0]),\n",
    "    'L2/3i': Box('L2/3i', (x2, y2), boxwidth, boxheight, colours_light[1]),\n",
    "    'L4e': Box('L4e',   (x1, y1), boxwidth, boxheight, colours_light[0]),\n",
    "    'L4i': Box('L4i',   (x2, y1), boxwidth, boxheight, colours_light[1]),\n",
    "]\n",
    "ax.set_xlim(0, plotwidth)\n",
    "ax.set_ylim(0, plotheight)\n",
    "ax.set_axis_off()\n",
    "for box1, box2 in itertools.combinations(boxes.values(), 2):\n",
    "    line = mpl.patches.mlines.Line2D([box1.center.x, box2.center.x],\n",
    "                                     [box1.center.y, box2.center.y],\n",
    "                                      color=lib.black, linewidth=2, zorder=-1)\n",
    "    ax.add_line(line)\n",
    "for box in boxes.values():\n",
    "    draw_neuron_pop(ax, box)\n",
    "    ax.text(*box.center, box.label, ha='center', va='center', fontweight='bold')\n",
    "    \n",
    "popax = ax\n",
    "    \n",
    "# Input plots\n",
    "with mpl.style.context({'font.size': 7.0}):\n",
    "    s = 10.4 #trainsims.time[0].astype('float64')        # Start of window\n",
    "    w = 1.0 #trainsims.time[-1] - s   # Width of window\n",
    "        #dt = w / (len(trainsims.time) - 1)\n",
    "        #w += dt\n",
    "    l = 0.2  # Length of scale bar\n",
    "    h = Ihist.truncate(s, s + w)\n",
    "    ylim = (-.3, .3)\n",
    "\n",
    "    ax = plt.subplot(gs0[1,0])\n",
    "    ax.plot(h.time, h.trace[:,2], color=lib.colours[0])\n",
    "    ax.set_yticks([-.25, .25])\n",
    "    ax.set_ylim(ylim)\n",
    "    ax.text(0,1, \"mA\", transform=ax.transAxes, ha='right', va='bottom', fontsize=mpl.rcParams['axes.labelsize'])\n",
    "    ax.spines['left'].set_visible(True)\n",
    "    ax.spines['right'].set_visible(False)\n",
    "    ml.plot.draw_xscale(l, '{:0.1f}s'.format(l), ax=ax, xshift=ml.plot.x_to_inches(w-l)*fig.dpi)\n",
    "    ml.plot.detach_spines(ax, spines='left')\n",
    "    con = mpl.patches.ConnectionPatch(xyA=(xmargin + boxwidth/2, -.2), coordsA='data', axesA=popax,\n",
    "                                      xyB=(xmargin + boxwidth/2, 0), coordsB='data', axesB=popax, \n",
    "                                      arrowstyle='->')\n",
    "    ax.add_artist(con);\n",
    "    \n",
    "    ax = plt.subplot(gs0[1,1])\n",
    "    ax.plot(h.time, h.trace[:,3], color=lib.colours[1])\n",
    "    ax.set_yticks([-.25, .25])\n",
    "    ax.set_ylim(ylim)\n",
    "    #ax.yaxis.tick_right()\n",
    "    ax.yaxis.set_visible(False)\n",
    "    ax.spines['left'].set_visible(False)\n",
    "    ml.plot.draw_xscale(l, '{:0.1f}s'.format(l), ax=ax, xshift=ml.plot.x_to_inches(w-l)*fig.dpi)\n",
    "    ml.plot.detach_spines(ax, spines='right')\n",
    "    con = mpl.patches.ConnectionPatch(xyA=(plotwidth - xmargin - boxwidth/2, -.2), coordsA='data', axesA=popax,\n",
    "                                      xyB=(plotwidth - xmargin - boxwidth/2, 0), coordsB='data', axesB=popax, \n",
    "                                      arrowstyle='->')\n",
    "    ax.add_artist(con);\n",
    "    \n",
    "# Simulation plots\n",
    "αs = [0.75, 0.45, 0.75]\n",
    "legend_order = ['true', 'mesogt', 'map']  # Doesn't set legend order; used for of rms and ρ\n",
    "ylabelpad = -.1 * fig.dpi\n",
    "\n",
    "ylim=None\n",
    "ybounds=None\n",
    "for k, (α, ylim, _yticks) in enumerate(zip([0,2],\n",
    "                                           [(1,5), (0,30)],\n",
    "                                           [(1,5), (0,30)])):\n",
    "\n",
    "    ax = plt.subplot(gs1[k])\n",
    "    lib.plot_series_stats(trainsims.ref_sims+trainsims.true.traces, xscalelen=2, xscaleoffset=1, ylim=ylim, ybounds=ybounds,\n",
    "          idx=α, linecolor=tmicroc[0], shadecolor=tmicroc[0],\n",
    "          zorder=tmicroz, alpha=tmicroα, ylabelshift=1.3,\n",
    "          linewidth=1.6,\n",
    "          label=\"True – micro\")\n",
    "    lib.plot_series_stats(trainsims.mesogt.traces, xscalelen=2, xscaleoffset=1, ylim=ylim, ybounds=ybounds,\n",
    "          idx=α, linecolor=tmesoc[0], shadecolor=tmesoc[0],\n",
    "          zorder=tmesoz, alpha=tmesoα, ylabelshift=1.3,\n",
    "          label=\"Theory – meso\")\n",
    "    lib.plot_series_stats(trainsims.map.traces, xscalelen=2, xscaleoffset=1, ylim=ylim, ybounds=ybounds,\n",
    "          idx=α, linecolor=imesoc[0], shadecolor=imesoc[0],\n",
    "          zorder=imesoz, alpha=0.7*imesoα, ylabelshift=1.3,\n",
    "          label=\"Inferred – meso\")\n",
    "    #ax.plot(trainsims.time, trainsims.Atrue[:,α], alpha=αs[0], label='True – micro')\n",
    "    #ax.plot(trainsims.time, trainsims.traces['meso-gt'][:,α], alpha=αs[2], label='Theory – meso')\n",
    "    #ax.plot(trainsims.time, trainsims.traces['map'][:,α], alpha=αs[1], label='Inferred - meso')\n",
    "    ax.text(.015, .85, popnames[α], transform=ax.transAxes, fontweight='bold')\n",
    "    #ax.set_xlim(s, s+w)\n",
    "    ax.set_xlim(s, s+w)\n",
    "    ax.set_ylim(ylim)\n",
    "    ax.set_yticks(_yticks)\n",
    "    if k == 0:\n",
    "        ax.spines['bottom'].set_visible(False)\n",
    "        ax.xaxis.set_visible(False)\n",
    "    else:\n",
    "        ax.yaxis.set_label_coords(-0.07, 0.5)\n",
    "        ax.set_ylabel(\"Hz$/$neuron\", fontsize=6.)\n",
    "        ml.plot.draw_xscale(.2, '0.2s', ax=ax, fontsize=6.)\n",
    "    ml.plot.detach_spines(ax, spines='left')\n",
    "    \n",
    "    # Legend table\n",
    "    Δx = ml.plot.inches_to_xaxes(Δx_in, ax=ax)\n",
    "    Δy = ml.plot.inches_to_yaxes(Δy_in, ax=ax)\n",
    "    Δy2 = ml.plot.inches_to_yaxes(Δy2_in, ax=ax)\n",
    "    headheight = ml.plot.inches_to_yaxes(headheight_in, ax=ax)\n",
    "    lineheight = ml.plot.inches_to_yaxes(lineheight_in, ax=ax)\n",
    "    colmargin = ml.plot.inches_to_xaxes(colmargin_in, ax=ax)\n",
    "    colcorrwidth = ml.plot.inches_to_xaxes(colcorrwidth_in, ax=ax)\n",
    "    colrmswidth = ml.plot.inches_to_xaxes(colrmswidth_in, ax=ax)\n",
    "    #ρvals  = [trainsims.corr[k][α] for k in legend_order]\n",
    "    ρvals   = [trainbarstats.ρ[k][α] for k in legend_order]\n",
    "    rmsvals = [trainsims.rms[k][α] for k in legend_order]\n",
    "    leg = ax.legend(loc='upper right', framealpha=.8, \n",
    "                    bbox_to_anchor=(1+Δx, 1-headheight+Δy),\n",
    "                    borderpad=.2);\n",
    "    ax.text(1+Δx+colmargin+.5*colcorrwidth, 1+Δy+Δy2, \"$\\\\overline{\\\\rho}$\", transform=ax.transAxes, ha='center', va='top', fontsize=mpl.rcParams['legend.fontsize'])\n",
    "    ax.text(1+Δx+2*colmargin+colcorrwidth+.5*colrmswidth, 1+Δy+Δy2, \"$RMSE$\", transform=ax.transAxes, ha='center', va='top', fontsize=mpl.rcParams['legend.fontsize'])\n",
    "    for k2, (ρ, _rms) in enumerate(zip(ρvals, rmsvals)):\n",
    "        ax.text(1+Δx+colmargin+colcorrwidth, 1+Δy-headheight-k2*lineheight,\n",
    "                #\"{:.2f} ± {:.2f}\".format(ρ[0], ρ[1]),\n",
    "                \"{:.3f}\".format(ρ),\n",
    "                transform=ax.transAxes, ha='right', va='top', fontsize=mpl.rcParams['legend.fontsize'])\n",
    "        ax.text(1+Δx+2*colmargin+colcorrwidth+colrmswidth, 1+Δy-headheight-k2*lineheight,\n",
    "                \"{:.2f} ± {:.2f}\".format(_rms[0], _rms[1]),\n",
    "                transform=ax.transAxes, ha='right', va='top', fontsize=mpl.rcParams['legend.fontsize'])\n",
    "        pass\n",
    "    ml.plot.set_legend_linewidth(1.3, ax=ax)\n",
    "\n",
    "    if k == 0:\n",
    "        labelax = ax\n",
    "\n",
    "gs0.update(top=0.82, bottom=0.1, left=0.07, right=0.33)\n",
    "gs1.update(top=0.82, bottom=0.1, left=0.4,  right=0.67, hspace=0.45)\n",
    "\n",
    "Δx_label = ml.plot.inches_to_xaxes(Δx_label_in, ax=popax)\n",
    "Δy_label = ml.plot.inches_to_yaxes(Δy_label_in, ax=popax)\n",
    "ml.plot.subreflabel(popax, 'a', inside=False, y=1+Δy_label, x=Δx_label)\n",
    "Δx_label = ml.plot.inches_to_xaxes(Δx_label_in-0.05, ax=labelax)\n",
    "Δy_label = ml.plot.inches_to_yaxes(Δy_label_in, ax=labelax)\n",
    "ml.plot.subreflabel(labelax, 'b', inside=False, y=1+Δy_label, x=Δx_label)\n",
    "\n",
    "assert(outputname == \"Fig7\")\n",
    "if savefig:\n",
    "    plt.savefig(\"figures/\" + os.path.splitext(outputname)[0] + '.' + saveext.strip('.'))\n",
    "    \n",
    "figtrain = fig"
   ]
  },
  {
   "cell_type": "code",
   "execution_count": 27,
   "metadata": {},
   "outputs": [],
   "source": [
    "data_traces=trainsims.mesogt.traces.traces\n",
    "ref_traces = trainsims.ref_sims.traces\n",
    "_corr = np.zeros((len(data_traces), len(ref_traces), *data_traces[0].shape[1:], 2))\n",
    "_corr[:] = np.nan\n",
    "for i, (idxd, idxr) in enumerate(itertools.product(range(len(data_traces)), range(len(ref_traces)))):\n",
    "    L = min(len(data_traces[idxd]), len(ref_traces[idxr]))\n",
    "    _corr[idxd, idxr] = lib.corr(data_traces[idxd][:L], ref_traces[idxr][:L])"
   ]
  },
  {
   "cell_type": "code",
   "execution_count": 28,
   "metadata": {},
   "outputs": [],
   "source": [
    "data_traces=trainsims.map.traces.traces\n",
    "ref_traces = trainsims.ref_sims.traces\n",
    "_corrI = np.zeros((len(data_traces), len(ref_traces), *data_traces[0].shape[1:], 2))\n",
    "_corrI[:] = np.nan\n",
    "for i, (idxd, idxr) in enumerate(itertools.product(range(len(data_traces)), range(len(ref_traces)))):\n",
    "    L = min(len(data_traces[idxd]), len(ref_traces[idxr]))\n",
    "    _corrI[idxd, idxr] = lib.corr(data_traces[idxd][:L], ref_traces[idxr][:L])"
   ]
  },
  {
   "cell_type": "code",
   "execution_count": 29,
   "metadata": {},
   "outputs": [
    {
     "data": {
      "image/png": "[encoded data removed]",
      "text/plain": [
       "<Figure size 690x426.445 with 1 Axes>"
      ]
     },
     "metadata": {
      "needs_background": "light"
     },
     "output_type": "display_data"
    }
   ],
   "source": [
    "plt.hist(_corr[...,0,0].flat, bins='auto');"
   ]
  },
  {
   "cell_type": "code",
   "execution_count": 30,
   "metadata": {},
   "outputs": [
    {
     "data": {
      "text/plain": [
       "(0.017060203657370786, 0.03343050481098857)"
      ]
     },
     "execution_count": 30,
     "metadata": {},
     "output_type": "execute_result"
    }
   ],
   "source": [
    "_corr[...,0,0].mean(), _corr[...,0,0].std()"
   ]
  },
  {
   "cell_type": "code",
   "execution_count": 31,
   "metadata": {},
   "outputs": [
    {
     "data": {
      "image/png": "[encoded data removed]",
      "text/plain": [
       "<Figure size 690x426.445 with 1 Axes>"
      ]
     },
     "metadata": {
      "needs_background": "light"
     },
     "output_type": "display_data"
    }
   ],
   "source": [
    "plt.hist(_corrI[...,0,0].flat, bins='auto');"
   ]
  },
  {
   "cell_type": "code",
   "execution_count": 32,
   "metadata": {},
   "outputs": [
    {
     "data": {
      "text/plain": [
       "(0.017761407879758433, 0.033915023580626855)"
      ]
     },
     "execution_count": 32,
     "metadata": {},
     "output_type": "execute_result"
    }
   ],
   "source": [
    "_corrI[...,0,0].mean(), _corrI[...,0,0].std()"
   ]
  },
  {
   "cell_type": "markdown",
   "metadata": {},
   "source": [
    "### Input parameters"
   ]
  },
  {
   "cell_type": "code",
   "execution_count": 33,
   "metadata": {},
   "outputs": [],
   "source": [
    "#Iparams = fitcolls['map'].parameters.posterior.input.params\n",
    "Iparams = train_inferred_meso_records.latest.parameters.input.params"
   ]
  },
  {
   "cell_type": "code",
   "execution_count": 34,
   "metadata": {},
   "outputs": [
    {
     "data": {
      "text/html": [
       "<div>\n",
       "<style scoped>\n",
       "    .dataframe tbody tr th:only-of-type {\n",
       "        vertical-align: middle;\n",
       "    }\n",
       "\n",
       "    .dataframe tbody tr th {\n",
       "        vertical-align: top;\n",
       "    }\n",
       "\n",
       "    .dataframe thead th {\n",
       "        text-align: right;\n",
       "    }\n",
       "</style>\n",
       "<table border=\"1\" class=\"dataframe\">\n",
       "  <thead>\n",
       "    <tr style=\"text-align: right;\">\n",
       "      <th></th>\n",
       "      <th>L2/3e</th>\n",
       "      <th>L2/3i</th>\n",
       "      <th>L4e</th>\n",
       "      <th>L4i</th>\n",
       "    </tr>\n",
       "  </thead>\n",
       "  <tbody>\n",
       "    <tr>\n",
       "      <th>$B$</th>\n",
       "      <td>0.0</td>\n",
       "      <td>0.0</td>\n",
       "      <td>0.25</td>\n",
       "      <td>0.1</td>\n",
       "    </tr>\n",
       "    <tr>\n",
       "      <th>$ω$</th>\n",
       "      <td>2.0</td>\n",
       "      <td>2.0</td>\n",
       "      <td>2.00</td>\n",
       "      <td>2.0</td>\n",
       "    </tr>\n",
       "    <tr>\n",
       "      <th>$q$</th>\n",
       "      <td>4.0</td>\n",
       "      <td>4.0</td>\n",
       "      <td>4.00</td>\n",
       "      <td>4.0</td>\n",
       "    </tr>\n",
       "  </tbody>\n",
       "</table>\n",
       "</div>"
      ],
      "text/plain": [
       "     L2/3e  L2/3i   L4e  L4i\n",
       "$B$    0.0    0.0  0.25  0.1\n",
       "$ω$    2.0    2.0  2.00  2.0\n",
       "$q$    4.0    4.0  4.00  4.0"
      ]
     },
     "execution_count": 34,
     "metadata": {},
     "output_type": "execute_result"
    }
   ],
   "source": [
    "data = np.stack(\n",
    "    [Iparams.A.amplitude,\n",
    "     np.tile(Iparams.A.frequency, (4,)),\n",
    "     np.tile(Iparams.ξ.std, (4,))])\n",
    "df = pd.DataFrame(data,\n",
    "                  index=[\"$B$\", \"$ω$\", \"$q$\"],\n",
    "                  columns=[\"L2/3e\", \"L2/3i\", \"L4e\", \"L4i\"])\n",
    "df"
   ]
  },
  {
   "cell_type": "code",
   "execution_count": 35,
   "metadata": {},
   "outputs": [
    {
     "name": "stdout",
     "output_type": "stream",
     "text": [
      "\\begin{tabular}{lrrrr}\n",
      "\\toprule\n",
      "{} &  L2/3e &  L2/3i &   L4e &  L4i \\\\\n",
      "\\midrule\n",
      "\\$B\\$ &    0.0 &    0.0 &  0.25 &  0.1 \\\\\n",
      "\\$ω\\$ &    2.0 &    2.0 &  2.00 &  2.0 \\\\\n",
      "\\$q\\$ &    4.0 &    4.0 &  4.00 &  4.0 \\\\\n",
      "\\bottomrule\n",
      "\\end{tabular}\n",
      "\n"
     ]
    }
   ],
   "source": [
    "table_input_params_training = df.to_latex()\n",
    "if __name__ == \"__main__\":\n",
    "    print(table_input_params_training)"
   ]
  },
  {
   "cell_type": "markdown",
   "metadata": {},
   "source": [
    "## Fig 8"
   ]
  },
  {
   "cell_type": "code",
   "execution_count": 36,
   "metadata": {},
   "outputs": [],
   "source": [
    "outputname = \"Fig8\""
   ]
  },
  {
   "cell_type": "code",
   "execution_count": 37,
   "metadata": {},
   "outputs": [],
   "source": [
    "Ipset = ParameterSet({\n",
    "      'type'  : \"Series\",\n",
    "      'dir'   : \"inputs\",\n",
    "      'params': OUtest_Iparams,\n",
    "      'name'  : \"\"})\n",
    "OUIhist = core.load(Ipset)\n",
    "\n",
    "Ipset.params = test_Iparams\n",
    "rampIhist = core.load(Ipset)\n",
    "\n",
    "#Ipset.params = easyOUtest_Iparams\n",
    "#easyOUIhist = core.load(Ipset)"
   ]
  },
  {
   "cell_type": "code",
   "execution_count": 38,
   "metadata": {},
   "outputs": [],
   "source": [
    "ylim_input = {rampsims: (-0.6, 0.6),\n",
    "               OUsims: (-.5, 2.3)}\n",
    "yticks_input = {rampsims: (-0.5, 0.5),\n",
    "                OUsims: (-0.2, 0.5)}\n",
    "yheights_dict = {#rampsims: [14, 27, 105, 65],\n",
    "                 rampsims: [12, 25, 80, 36],\n",
    "                 #OUsims: [5, 12, 16, 35],\n",
    "                 OUsims: [5, 12, 16, 32],\n",
    "                 easyOUsims: [8, 18, 24, 45]}\n",
    "yshorten_dict = {rampsims: 0.07,\n",
    "                 OUsims: 0}\n",
    "wlarge_dict = {rampsims: (13, 16),\n",
    "               #OUsims: (12, 13.5)}\n",
    "               OUsims: (16, 19)}\n",
    "wsmall_dict = {rampsims: (15.3, 15.7) - np.array(1),\n",
    "               #OUsims: (12.5, 12.9)}\n",
    "               OUsims: (17.25, 18.4)}\n",
    "yticks_dict = {rampsims: [(0, 8), (0, 20), (0, 60), (0, 34)],\n",
    "               OUsims: [(0, 5), (0, 10), (0, 15), (0, 30)]}"
   ]
  },
  {
   "cell_type": "markdown",
   "metadata": {},
   "source": [
    "    for d in [ylim_input, yticks_input, yheights_dict, yshorten_dict, wlarge_dict, wsmall_dict, yticks_dict]:\n",
    "        if easyOUsims not in d:\n",
    "            d[easyOUsims] = d[OUsims]\n"
   ]
  },
  {
   "cell_type": "code",
   "execution_count": 57,
   "metadata": {},
   "outputs": [],
   "source": [
    "imesoα=.6\n",
    "tmesoα=.6\n",
    "insetlinewidth=1.4"
   ]
  },
  {
   "cell_type": "code",
   "execution_count": 60,
   "metadata": {},
   "outputs": [],
   "source": [
    "def plot_4pop_test(fig, Ihist, sims, side):\n",
    "    \n",
    "    shape = (len(popnames),1)\n",
    "    Ishape = (2,-(-len(popnames)//2))\n",
    "    pops = range(len(popnames))\n",
    "    αnames = popnames\n",
    "    legend_order = ['true', 'meso-gt', 'map']  # Doesn't set legend order; used for of rms and ρ\n",
    "    midmargin_in = 0.05\n",
    "    leftmargin_in = {'left': 0.3, 'right': textwidth/2 + 0*midmargin_in}[side]\n",
    "    rightmargin_in = {'right':0.3, 'left': textwidth/2 + 0*midmargin_in}[side]\n",
    "    #rightmargin_in = .98  # Make space for wide legend\n",
    "    bottommargin_in = 0.025\n",
    "    vmidmargin_in = 0.15\n",
    "    #topmargin_in = 0.025\n",
    "    topmargin_in = .26\n",
    "    #ylabelpad = -.1 * fig.dpi\n",
    "    ylabelpad = 0\n",
    "\n",
    "    wlarge = wlarge_dict[sims]\n",
    "    wsmall = wsmall_dict[sims]\n",
    "\n",
    "    labelaxes = {}\n",
    "\n",
    "    # Legend table formatting\n",
    "    Δx_in = .45  # Offset to avoid overlapping data\n",
    "    Δy_in = .01  # Vertical offset to line-up to legend lines\n",
    "    headheight_in = .16\n",
    "    lineheight_in = .13\n",
    "    colmargin_in = .1\n",
    "    colcorrwidth_in = .25\n",
    "    colrmswidth_in = .25\n",
    "\n",
    "    #s = yshorten_dict[sims]\n",
    "    s = 0\n",
    "    yheights = yheights_dict[sims]\n",
    "    ylims  = [(0-s*yh, yh) for yh in yheights]\n",
    "    yheightssmall = [-sub(*ylim) for ylim in ylims]\n",
    "    ylimssmall = [(ylim[0]+s*yh, ylim[1]-s*yh) for ylim, yh in zip(ylims, yheightssmall)]\n",
    "    yticks = yticks_dict[sims]\n",
    "    αs = {'true': 0.75, 'meso-gt': 0.52, 'map': 0.52}\n",
    "\n",
    "    #######\n",
    "    # Input traces\n",
    "    gs00 = GridSpec(*Ishape)\n",
    "    _left = {'left':0., 'right':0.55}[side]\n",
    "    _right = {'left':0.45, 'right': 1}[side]\n",
    "    gs00.update(left=_left, right=_right)\n",
    "    axes = np.array([fig.add_subplot(gs00[i]) for i in range(np.prod(Ishape))]).reshape(Ishape)\n",
    "    label = {'left':'a', 'right':'c'}[side]\n",
    "    labelaxes[label] = axes.flat[0]\n",
    "\n",
    "    ylim = ylim_input[sims]\n",
    "    _yticks = yticks_input[sims]\n",
    "    Ihist = Ihist.truncate(float(wlarge[0]), float(wlarge[1]))\n",
    "    for α, name, ax, c in zip(pops, αnames, axes.flat, lib.colours):\n",
    "        plt.sca(ax)\n",
    "        ax.plot(Ihist.time, Ihist.trace[:,α], c=c)\n",
    "        ax.set_xlim(wlarge)\n",
    "        ax.set_ylim(ylim)\n",
    "        ax.set_yticks(_yticks)\n",
    "        if α == 2:\n",
    "            ml.plot.detach_spines(ax, spines='left')\n",
    "            lib.draw_xscale(1, \"1 s\", yshift=0, xshift=0, offset=0, scalelinewidth=1.3)\n",
    "            yl = {OUsims:2, rampsims:1, easyOUsims:2}[sims]\n",
    "            ml.plot.draw_yscale(yl, \"{} mA\".format(yl), xshift=4, yshift=-60, scalelinewidth=1.3)\n",
    "            # Shift x label down a little\n",
    "            x, y = ax.xaxis.label.get_position()\n",
    "            _Δy = 0.1 * np.diff(ax.get_ylim())[0]\n",
    "            ax.xaxis.set_label_coords(x, y-_Δy, transform=ax.transData)\n",
    "            # Shift y label left a little\n",
    "            x, y = ax.yaxis.label.get_position()\n",
    "            _Δx = 0.035 * np.diff(ax.get_xlim())[0]\n",
    "            ax.yaxis.set_label_coords(x-_Δx, y, transform=ax.transData)\n",
    "            #ax.set_ylabel(\"$I(t)$\", labelpad=1.5*ylabelpad)\n",
    "            #ax.text(-0, 1.15, \"mA\", ha='right', va='top', fontsize=mpl.rcParams['axes.labelsize'], transform=ax.transAxes)\n",
    "            #ax.text(0., 1.15, \"mA\", ha='right', va='top', transform=ax.transAxes)\n",
    "        else:\n",
    "            ax.xaxis.set_visible(False)\n",
    "            ax.yaxis.set_visible(False)\n",
    "            ax.spines['bottom'].set_visible(False)\n",
    "            ax.spines['left'].set_visible(False)\n",
    "        ax.text(.05, 1, name, ha='left', va='bottom', color=c, transform=ax.transAxes)\n",
    "\n",
    "    #_leftmargin_in = leftmargin_in - {'left': 0.05, 'right': 0.2}[side]\n",
    "    #_rightmargin_in = rightmargin_in - {'right': 0.05, 'left': 0.2}[side]\n",
    "    #leftmargin = ml.plot.inches_to_xaxes(_leftmargin_in/Ishape[1], ax)\n",
    "    #rightmargin = ml.plot.inches_to_xaxes(_rightmargin_in/Ishape[1], ax)\n",
    "    left, right = {'left': (.085, .45),\n",
    "                   'right': (.585, .98)}[side]\n",
    "    gs00.update(bottom=.78, left=left, right=right, top=.9, hspace=.3, wspace=.15)\n",
    "\n",
    "    #######\n",
    "    # Large window\n",
    "    gs0 = GridSpec(*shape)\n",
    "    gs0.update(top=.75)\n",
    "    axes = np.array([fig.add_subplot(gs0[i]) for i in range(np.prod(shape))]).reshape(shape)\n",
    "    label = {'left':'b', 'right':'d'}[side]\n",
    "    labelaxes[label] = axes.flat[0]\n",
    "\n",
    "    for α, name, ax, ylim, _yticks, ylimsmall, yh in zip(pops, αnames, axes.flat, ylims, yticks, ylimssmall, yheightssmall):\n",
    "        plt.sca(ax)\n",
    "        lib.plot_series_stats(sims.ref_sims+sims.true.traces, xscalelen=2, xscaleoffset=1, ylim=ylim, ybounds=_yticks,\n",
    "          idx=α, linecolor=tmicroc[0], shadecolor=tmicrocshade[0], linewidth=None,\n",
    "          zorder=tmicroz, alpha=tmicroα, ylabelshift=1.3,\n",
    "          label=\"True – micro\")\n",
    "        lib.plot_series_stats(sims.mesogt.traces, xscalelen=2, xscaleoffset=1, ylim=ylim, ybounds=_yticks,\n",
    "              idx=α, linecolor=tmesoc[0], shadecolor=tmesocshade[0],\n",
    "              zorder=tmesoz, alpha=tmesoα, ylabelshift=1.3,\n",
    "              label=\"Theory – meso\")\n",
    "        lib.plot_series_stats(sims.map.traces, xscalelen=2, xscaleoffset=1, ylim=ylim, ybounds=_yticks,\n",
    "              idx=α, linecolor=imesoc[0], shadecolor=imesocshade[0],\n",
    "              zorder=imesoz, alpha=imesoα, ylabelshift=1.3,\n",
    "              label=\"Inferred – meso\")\n",
    "        #ax.plot(sims.time, sims.Atrue[:,α], alpha=αs['true']**2, zorder=-1, label='micro - true')\n",
    "        #ax.plot(sims.time, sims.traces['meso-gt'][:,α], alpha=αs['meso-gt']**2, label='meso - theory')\n",
    "        #ax.plot(sims.time, sims.traces['map'][:,α], alpha=αs['map']**2, label='meso - MAP')\n",
    "        ax.text(.05, .85, name, transform=ax.transAxes, fontweight='bold', backgroundcolor='#FFFFFF88')\n",
    "        ax.set_xlim(wlarge)\n",
    "        ax.set_xticks(wlarge)  # Just to avoid 'detach_spines' from complaining\n",
    "        ax.set_ylim(ylim)\n",
    "        ax.set_yticks(_yticks)\n",
    "        ml.plot.detach_spines(ax)\n",
    "        if ax in axes[-1,:]:\n",
    "            ml.plot.draw_xscale(1, '1s', ax=ax, yshift=5)\n",
    "            #ax.set_ylabel(\"$a(t)$\\n(Hz$/$neuron)\", labelpad=ylabelpad)\n",
    "            if side in ('left', 'right'):\n",
    "                ax.set_ylabel(\"$A(t)$\\nHz$/$neuron\", labelpad=ylabelpad)\n",
    "                ax_ylabel = ax\n",
    "        else:\n",
    "            ax.xaxis.set_visible(False)\n",
    "            ax.spines['bottom'].set_visible(False)\n",
    "            ax.set_ylabel(\"\")\n",
    "        rect = mpl.patches.Rectangle((wsmall[0], ylimsmall[0]), -sub(*wsmall), (1-2*s)*yh, ec=lib.black, fc=None)\n",
    "        ax.add_patch(rect)\n",
    "\n",
    "    #ax = axes[0,1]\n",
    "    #leg = ax.legend(loc='upper right', framealpha=.8);\n",
    "    #ml.plot.set_legend_linewidth(1.5, legend=leg)\n",
    "\n",
    "    leftmargin = ml.plot.inches_to_xaxes(leftmargin_in, ax)\n",
    "    midmargin = ml.plot.inches_to_xaxes(midmargin_in, ax)\n",
    "    rightmargin = ml.plot.inches_to_xaxes(rightmargin_in, ax)\n",
    "    bottommargin = ml.plot.inches_to_yaxes(bottommargin_in, ax)\n",
    "    topmargin = ml.plot.inches_to_yaxes(topmargin_in, ax)\n",
    "    vmidmargin = ml.plot.inches_to_yaxes(vmidmargin_in, ax)\n",
    "    midline = (1-rightmargin-leftmargin) / 2 + leftmargin\n",
    "\n",
    "    left, right = {'left': (.085, .24),\n",
    "                   'right': (.585, .74)}[side]\n",
    "    gs0.update(left=left, right=right, top=1-topmargin, bottom=bottommargin, hspace=vmidmargin)\n",
    "    legendaxes = axes\n",
    "    \n",
    "    ax_ylabel.yaxis.set_label_coords(-0.14, 0.5)\n",
    "    \n",
    "    #######\n",
    "    # Small window\n",
    "    left, right = {'left': (.26, .45),\n",
    "                   'right': (.76+.015/2, .98)}[side]\n",
    "    gs1 = GridSpec(*shape,\n",
    "                   left=left, right=right, top=1-topmargin, bottom=bottommargin, hspace=.01)\n",
    "\n",
    "    with mpl.style.context({'lines.linewidth': 1.2}):\n",
    "        axes = np.array([fig.add_subplot(gs1[i]) for i in range(np.prod(shape))]).reshape(shape)\n",
    "\n",
    "    for α, name, ax, ylim, _yticks in zip(pops, αnames, axes.flat, ylimssmall, yticks):\n",
    "        plt.sca(ax)\n",
    "        lib.plot_series_stats(sims.ref_sims+sims.true.traces, xscalelen=2, xscaleoffset=1, ylim=ylim, ybounds=_yticks,\n",
    "          idx=α, linecolor=tmicroc[0], shadecolor=tmicrocshade[0],\n",
    "          zorder=tmicroz, alpha=tmicroα, ylabelshift=1.3, linewidth=insetlinewidth,\n",
    "          label=\"True – micro\")\n",
    "        lib.plot_series_stats(sims.mesogt.traces, xscalelen=2, xscaleoffset=1, ylim=ylim, ybounds=_yticks,\n",
    "              idx=α, linecolor=tmesoc[0], shadecolor=tmesocshade[0], linewidth=0.9*insetlinewidth,\n",
    "              zorder=tmesoz, alpha=tmesoα, ylabelshift=1.3,\n",
    "              label=\"Theory – meso\")\n",
    "        lib.plot_series_stats(sims.map.traces, xscalelen=2, xscaleoffset=1, ylim=ylim, ybounds=_yticks,\n",
    "              idx=α, linecolor=imesoc[0], shadecolor=imesocshade[0], linewidth=0.9*insetlinewidth,\n",
    "              zorder=imesoz, alpha=imesoα, ylabelshift=1.3,\n",
    "              label=\"Inferred – meso\")\n",
    "        #ax.plot(sims.time, sims.Atrue[:,α], alpha=αs['true'], zorder=1, label='True - micro')\n",
    "        #ax.plot(sims.time, sims.traces['meso-gt'][:,α], alpha=αs['meso-gt'], zorder=2, label='Theory - meso')\n",
    "        #ax.plot(sims.time, sims.traces['map'][:,α], alpha=αs['map'], zorder=0, label='Inferred – meso')\n",
    "        #ax.text(.01, .85, name, transform=ax.transAxes, fontweight='bold')\n",
    "        ax.set_xlim(wsmall)\n",
    "        ax.set_ylim(ylim)\n",
    "        #ax.set_yticks(_yticks)\n",
    "        ax.spines['left'].set_visible(False)\n",
    "        ax.yaxis.set_visible(False)\n",
    "        if ax in axes[-1,:]:\n",
    "            ml.plot.draw_xscale(0.1, '0.1s', ax=ax, yshift=5)\n",
    "        else:\n",
    "            ax.xaxis.set_visible(False)\n",
    "            ax.spines['bottom'].set_visible(False)\n",
    "        #ml.plot.detach_spines(ax)\n",
    "\n",
    "    return labelaxes, legendaxes\n",
    "    "
   ]
  },
  {
   "cell_type": "code",
   "execution_count": 61,
   "metadata": {},
   "outputs": [
    {
     "data": {
      "image/png": "[encoded data removed]",
      "text/plain": [
       "<Figure size 690x618.345 with 24 Axes>"
      ]
     },
     "metadata": {
      "needs_background": "light"
     },
     "output_type": "display_data"
    }
   ],
   "source": [
    "fig = plt.figure(figsize=(textwidth, 1.45*figheight))\n",
    "gs = GridSpec(1, 2)\n",
    "\n",
    "labelaxes, legendaxes = plot_4pop_test(fig, OUIhist, OUsims, side='left')\n",
    "labelaxes_right, _ = plot_4pop_test(fig, rampIhist, rampsims, side='right')\n",
    "#######\n",
    "# Subref labels\n",
    "assert set(labelaxes).intersection(labelaxes_right) == set()\n",
    "labelaxes.update(labelaxes_right)\n",
    "for lbl, ax in labelaxes.items():\n",
    "    if lbl in ('a', 'b'): _x = -.4\n",
    "    else: _x = -.4\n",
    "    x = ml.plot.inches_to_xaxes(_x, ax=ax)\n",
    "    y = ml.plot.inches_to_yaxes(.2, ax=ax)\n",
    "    if lbl in ('a','c') : y *= 1.1\n",
    "    if lbl in ('b','d') : y *= 1.4\n",
    "    ml.plot.subreflabel(ax, lbl, inside=False, x=x, y=1+y)\n",
    "    \n",
    "# Legend\n",
    "leg = legendaxes[0,0].legend(loc='upper left', ncol=3, bbox_to_anchor=(0.45,1.3),\n",
    "                             handlelength=3.5, labelspacing=1.3)\n",
    "ml.plot.set_legend_linewidth(1.5, legend=leg)\n",
    "\n",
    "assert(outputname == \"Fig8\")\n",
    "if savefig:\n",
    "    #plt.savefig(\"/home/alex/tmp/fig8.png\")\n",
    "    plt.savefig(\"figures/\" + os.path.splitext(outputname)[0] + '.' + saveext.strip('.'))\n",
    "    \n",
    "figtest = fig"
   ]
  },
  {
   "cell_type": "markdown",
   "metadata": {},
   "source": [
    "Bar statistics"
   ]
  },
  {
   "cell_type": "code",
   "execution_count": null,
   "metadata": {},
   "outputs": [],
   "source": [
    "legend_order = ['true', 'mesogt', 'map']\n",
    "popnames = ['L2/3e', 'L2/3i', 'L4e', 'L4i']\n",
    "def unroll(stats):\n",
    "    stats = odict['$\\\\overline{ρ}$': stats.ρ, '$\\\\overline{\\\\mathrm{RMSE}}$': stats.rmse]\n",
    "    return odict( ((s,m,n), stat[m][j])\n",
    "            for s, stat in stats.items()\n",
    "            for m in legend_order\n",
    "            for j, n in enumerate(popnames))\n",
    "data = odict[\n",
    "    'Sine input': unroll(trainbarstats),\n",
    "    'OU input': unroll(OUbarstats),\n",
    "    'Impulse input': unroll(rampbarstats)\n",
    "]"
   ]
  },
  {
   "cell_type": "code",
   "execution_count": null,
   "metadata": {},
   "outputs": [],
   "source": [
    "index = pd.MultiIndex(levels=[['Sine input', 'OU input', 'Impulse input'], ['true', 'mesogt', 'map']],\n",
    "                      labels=[[0, 0, 0, 1, 1, 1, 2, 2, 2], [0, 1, 2, 0, 1, 2, 0, 1, 2]])"
   ]
  },
  {
   "cell_type": "code",
   "execution_count": null,
   "metadata": {},
   "outputs": [],
   "source": [
    "df_bar_performance = pd.DataFrame(data)\n",
    "df_bar_performance = df_bar_performance.unstack(0).unstack(1).stack(0).swaplevel().sort_index()\n",
    "df_bar_performance = df_bar_performance.reindex(index)\n",
    "df_bar_performance"
   ]
  },
  {
   "cell_type": "code",
   "execution_count": null,
   "metadata": {},
   "outputs": [],
   "source": [
    "df_bar_performance.to_latex(escape=False)"
   ]
  },
  {
   "cell_type": "code",
   "execution_count": null,
   "metadata": {},
   "outputs": [],
   "source": [
    "def _format(x):\n",
    "    if hasattr(x, '__len__') and len(x) == 2:\n",
    "        return '{:.2f} \\\\pm {:.2f}'.format(x[0], x[1])\n",
    "    else:\n",
    "        return '{:.3f}'.format(x)"
   ]
  },
  {
   "cell_type": "code",
   "execution_count": null,
   "metadata": {},
   "outputs": [],
   "source": [
    "#_format(x):\n",
    "#    return '{:.3f}'.format(x)\n",
    "f = {c: _format for c in df_bar_performance.columns}\n",
    "table_bar_performance = df_bar_performance.to_latex(formatters=f, escape=False)\n",
    "if __name__ == \"__main__\":\n",
    "    print(table_bar_performance)"
   ]
  },
  {
   "cell_type": "markdown",
   "metadata": {},
   "source": [
    "Trial statistics"
   ]
  },
  {
   "cell_type": "code",
   "execution_count": null,
   "metadata": {},
   "outputs": [],
   "source": [
    "legend_order = ['true', 'mesogt', 'map']\n",
    "popnames = ['L2/3e', 'L2/3i', 'L4e', 'L4i']\n",
    "def unroll(sim):\n",
    "    stats = odict['ρ': sim.corr, 'RMSE': sim.rms]\n",
    "    return odict( ((s,m,n), stat[m][j])\n",
    "            for s, stat in stats.items()\n",
    "            for m in legend_order\n",
    "            for j, n in enumerate(popnames))\n",
    "data = odict[\n",
    "    'Sine input': unroll(trainsims),\n",
    "    'OU input': unroll(OUsims),\n",
    "    'Impulse input': unroll(rampsims)\n",
    "]"
   ]
  },
  {
   "cell_type": "code",
   "execution_count": null,
   "metadata": {},
   "outputs": [],
   "source": [
    "index = pd.MultiIndex(levels=[['Sine input', 'OU input', 'Impulse input'], ['true', 'mesogt', 'map']],\n",
    "                      labels=[[0, 0, 0, 1, 1, 1, 2, 2, 2], [0, 1, 2, 0, 1, 2, 0, 1, 2]])"
   ]
  },
  {
   "cell_type": "code",
   "execution_count": null,
   "metadata": {},
   "outputs": [],
   "source": [
    "df = pd.DataFrame(data)\n",
    "df = df.unstack(0).unstack(1).stack(0).swaplevel().sort_index()\n",
    "df = df.reindex(index)\n",
    "df"
   ]
  },
  {
   "cell_type": "code",
   "execution_count": null,
   "metadata": {},
   "outputs": [],
   "source": [
    "#def _format(x):\n",
    "#    return '{:.3f} ± {:.3f}'.format(x[0], x[1])\n",
    "f = {c: _format for c in df.columns}\n",
    "table_performance = df.to_latex(formatters=f)\n",
    "if __name__ == \"__main__\":\n",
    "    print(table_performance)"
   ]
  },
  {
   "cell_type": "code",
   "execution_count": null,
   "metadata": {},
   "outputs": [],
   "source": [
    "df_mixed_perf = pd.concat({r'$\\RMSE$': df['RMSE'], r'$\\bar{ρ}$': df_bar_performance[r'$\\overline{ρ}$']}, axis=1)\n",
    "df_mixed_perf = df_mixed_perf[[r'$\\RMSE$', r'$\\bar{ρ}$']]  # Reorder\n",
    "df_mixed_perf"
   ]
  },
  {
   "cell_type": "code",
   "execution_count": null,
   "metadata": {},
   "outputs": [],
   "source": [
    "df_mixed_perf.columns = \\\n",
    "    pd.MultiIndex(levels = [[r'$\\RMSE$', r'$\\bar{ρ}$'],\n",
    "                            ['{L2/3e}', '{L2/3i}', '{L4e}', '{L4i}']],\n",
    "                  labels = df_mixed_perf.columns.labels)\n",
    "\n",
    "df_mixed_perf = df_mixed_perf \\\n",
    "    .set_index(\n",
    "        pd.MultiIndex(levels = [['Sine', 'OU', 'Impulse'],\n",
    "                                [r'\\cc{True} -- micro', r'\\cc{Theory} -- meso', r'\\cc{MAP} -- meso']],\n",
    "                      labels = df_mixed_perf.index.labels,\n",
    "                      names  = ['Input', 'Model'])\n",
    "    )\n",
    "df_mixed_perf"
   ]
  },
  {
   "cell_type": "code",
   "execution_count": null,
   "metadata": {},
   "outputs": [],
   "source": [
    "f = {c: _format for c in df_mixed_perf.columns}\n",
    "table_mixed_performance_1 = df_mixed_perf[[r'$\\RMSE$']].to_latex(formatters=f, escape=False,\n",
    "                                                   column_format='llSSSSSSSS')\n",
    "if __name__ == \"__main__\":\n",
    "    print(table_mixed_performance_1)"
   ]
  },
  {
   "cell_type": "code",
   "execution_count": null,
   "metadata": {},
   "outputs": [],
   "source": [
    "f = {c: _format for c in df_mixed_perf.columns}\n",
    "table_mixed_performance_2 = df_mixed_perf[[r'$\\bar{ρ}$']].to_latex(formatters=f, escape=False,\n",
    "                                                   column_format='llSSSSSSSS')\n",
    "if __name__ == \"__main__\":\n",
    "    print(table_mixed_performance_2)"
   ]
  },
  {
   "cell_type": "markdown",
   "metadata": {},
   "source": [
    "### Log likelihood of different models"
   ]
  },
  {
   "cell_type": "markdown",
   "metadata": {},
   "source": [
    "**NOTE** This section needs to be updated before it can run properly again"
   ]
  },
  {
   "cell_type": "code",
   "execution_count": null,
   "metadata": {},
   "outputs": [],
   "source": [
    "def logL(sims, model, N, dt):\n",
    "    A = sims.Atrue_actual\n",
    "    a = sims.traces[model]\n",
    "    n = A*N*dt\n",
    "    p = sinn.clip_probabilities(a*dt)\n",
    "    return ( -shim.gammaln(n+1) - shim.gammaln(N-n+1)\n",
    "             + n*shim.log(p)\n",
    "             + (N-n)*shim.log(1-p)\n",
    "            ).sum()"
   ]
  },
  {
   "cell_type": "code",
   "execution_count": null,
   "metadata": {},
   "outputs": [],
   "source": [
    "#N = np.array(fitcolls['map'].parameters.posterior.model.params.N)\n",
    "N = train_true_micro_records.latest.parameters.model.N\n",
    "dt = 0.001  # Hardcoded in FitResultSimes"
   ]
  },
  {
   "cell_type": "markdown",
   "metadata": {},
   "source": [
    "    logL(OUsims, 'meso-gt', N, dt) - logL(OUsims, 'map', N, dt)"
   ]
  },
  {
   "cell_type": "markdown",
   "metadata": {},
   "source": [
    "    logL(rampsims, 'meso-gt', N, dt) - logL(rampsims, 'map', N, dt)"
   ]
  },
  {
   "cell_type": "markdown",
   "metadata": {},
   "source": [
    "    ylims = [(0, 5), (0, 12), (0, 16), (0, 35)]\n",
    "    k=0\n",
    "    n = 1\n",
    "    for k, ylim in zip(range(4), ylims):\n",
    "        plt.subplot(4,1,k+1)\n",
    "        plt.plot(anlz.subsample(OUsims.time, n), anlz.subsample(OUsims.Atrue[:,k], n));\n",
    "        plt.plot(anlz.subsample(OUsims.time, n), anlz.subsample(OUsims.traces['map'][:,k], n));\n",
    "        plt.plot(anlz.subsample(OUsims.time, n), anlz.subsample(OUsims.traces['meso-gt'][:,k], n));\n",
    "        plt.ylim(ylim);"
   ]
  },
  {
   "cell_type": "markdown",
   "metadata": {},
   "source": [
    "# Model parameters"
   ]
  },
  {
   "cell_type": "markdown",
   "metadata": {},
   "source": [
    "This section uses an `__name__` guard to avoid it being computed when the notebook is run from another with `run_notebook()`.\n",
    "\n",
    "TODO: It would probably make more sense to move this to the *fit-traces* notebook."
   ]
  },
  {
   "cell_type": "code",
   "execution_count": null,
   "metadata": {},
   "outputs": [],
   "source": [
    "fitrecords = lib.RecordSet('20181107-110946', '20181113-091205', '20190612-125539')\n",
    "fitcoll = lib.FitCollView(\n",
    "        list(fitrecords.filter.script('gradient_descent')\n",
    "                              .extract(\"parameters\", \"outputpath\")))\n",
    "len(fitcoll)"
   ]
  },
  {
   "cell_type": "code",
   "execution_count": null,
   "metadata": {},
   "outputs": [],
   "source": [
    "def expand_vals(vals, mask):\n",
    "    vs = {}\n",
    "    for k, m in mask.items():\n",
    "        if not np.any(m):\n",
    "            continue\n",
    "        v = np.tile(np.array(None), m.shape)\n",
    "        j = 0\n",
    "        for i, mval in enumerate(m.flat):\n",
    "            if mval:\n",
    "                v.flat[i] = vals[k].flat[j]\n",
    "                j += 1\n",
    "            elif vals[k].size == m.size:\n",
    "                # Continue incrementing value counter\n",
    "                j += 1\n",
    "        vs[k] = v\n",
    "    return vs"
   ]
  },
  {
   "cell_type": "code",
   "execution_count": null,
   "metadata": {},
   "outputs": [],
   "source": [
    "def expand_mask(mask, shapes):\n",
    "    \"\"\"\n",
    "    mask: dict (bool). Mask for each parameter.\n",
    "    shapes: dict (tuples). Shape of each parameter.\n",
    "    \"\"\"\n",
    "    _mask = {}\n",
    "    for k, m in mask.items():\n",
    "        shape = shapes[k]\n",
    "        m = np.atleast_1d(m)\n",
    "        if len(shape) < m.ndim:\n",
    "            m = m.squeeze()  # B/c 2D kernels\n",
    "        assert(m.ndim <= len(shape))\n",
    "        for i in range(1, len(shape)+1):\n",
    "            if i > m.ndim:\n",
    "                break\n",
    "            elif m.shape[-i] > 1:\n",
    "                assert m.shape[-i] == shape[-i]\n",
    "        _mask[k] = np.broadcast_to(m, shape)\n",
    "    return _mask"
   ]
  },
  {
   "cell_type": "code",
   "execution_count": null,
   "metadata": {},
   "outputs": [],
   "source": [
    "def valformat(f):\n",
    "    if f is None:\n",
    "        return \" — \"\n",
    "    else:\n",
    "        return \"{:.3f}\".format(f)\n",
    "FitData = namedtuple('FitData', ['varstrings', 'values'])"
   ]
  },
  {
   "cell_type": "code",
   "execution_count": null,
   "metadata": {},
   "outputs": [],
   "source": [
    "def format_table_data(vals, valformat):\n",
    "    data = []\n",
    "    for var in table_vars:\n",
    "        val = vals[var]\n",
    "        if var != 'w':\n",
    "            varstring = '${}$'.format(var)\n",
    "            valrow = [valformat(v) for v in val]\n",
    "            data.append( FitData(varstring, valrow) )\n",
    "        else:\n",
    "            for α, row in zip(popnames, val):\n",
    "                vs = '$w_{{ {}\\\\leftarrow \\\\cdot}}$'.format(α)\n",
    "                valrow = [valformat(v) for v in row]\n",
    "                data.append( FitData(vs, valrow) )\n",
    "    return data"
   ]
  },
  {
   "cell_type": "code",
   "execution_count": null,
   "metadata": {},
   "outputs": [],
   "source": [
    "example_fitrecord = records.filter.label('20190612-125539').latest\n",
    "\n",
    "mask = ml.parameters.params_to_arrays(fitcoll.parameters.posterior.mask)\n",
    "\n",
    "true_pset = ml.parameters.params_to_arrays(fitcoll.parameters.posterior.data.params.model)\n",
    "\n",
    "shapes = {k: true_pset[k].shape for k in mask}\n",
    "\n",
    "mask = expand_mask(mask, shapes)\n",
    "\n",
    "fitdata  = format_table_data(expand_vals(fitcoll.result, mask), valformat)\n",
    "truedata = format_table_data(expand_vals(true_pset, mask), valformat)"
   ]
  },
  {
   "cell_type": "code",
   "execution_count": null,
   "metadata": {},
   "outputs": [],
   "source": [
    "latexstrs = []\n",
    "latexstrs += [r\"  \\begin{tabular}{lrrrr|rrrr}\"]\n",
    "latexstrs += [\"          & \\\\multicolumn{{ {} }}{{c}}{{MAP}} & \\multicolumn{{ {} }}{{c}}{{Theory}}\".format(len(popnames),len(popnames))\n",
    "              + r\"\\\\ \\cline{2-5} \\cline{6-9}\"]\n",
    "latexstrs += [\"          & \"\n",
    "              + \" & \".join(['${}$'.format(α) for α in popnames])\n",
    "              + \" & \" + \" & \".join(['${}$'.format(α) for α in popnames])\n",
    "              + r\" \\\\ \\hline\"]\n",
    "for fd, td in zip(fitdata, truedata):\n",
    "    assert(fd.varstrings == td.varstrings)\n",
    "    latexstrs += [\"    \" + fd.varstrings\n",
    "                  + \" & \" + \" & \".join(fd.values)\n",
    "                  + \" & \" + \" & \".join(td.values)\n",
    "                  + r\" \\\\\"]\n",
    "latexstrs += [r\"  \\end{tabular}\"]\n",
    "table_inferred_params = '\\n'.join(latexstrs)"
   ]
  },
  {
   "cell_type": "code",
   "execution_count": null,
   "metadata": {},
   "outputs": [],
   "source": [
    "if __name__ == \"__main__\":\n",
    "    print(table_inferred_params)"
   ]
  },
  {
   "cell_type": "code",
   "execution_count": null,
   "metadata": {},
   "outputs": [],
   "source": [
    "colidx = pd.MultiIndex.from_tuples([(src, '$'+α+'$')\n",
    "                                    for src in ('inferred', 'ground truth')\n",
    "                                    for α in popnames])\n",
    "pd.DataFrame([fd.values + td.values for fd, td in zip(fitdata, truedata)],\n",
    "             index=[fd.varstrings for fd in fitdata],\n",
    "             columns=colidx)"
   ]
  }
 ],
 "metadata": {
  "kernelspec": {
   "display_name": "Python (meso inference paper plots)",
   "language": "python",
   "name": "meso_inference_paper_plots"
  },
  "language_info": {
   "codemirror_mode": {
    "name": "ipython",
    "version": 3
   },
   "file_extension": ".py",
   "mimetype": "text/x-python",
   "name": "python",
   "nbconvert_exporter": "python",
   "pygments_lexer": "ipython3",
   "version": "3.6.10"
  }
 },
 "nbformat": 4,
 "nbformat_minor": 4
}
