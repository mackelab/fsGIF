{
 "cells": [
  {
   "cell_type": "code",
   "execution_count": 1,
   "metadata": {},
   "outputs": [
    {
     "name": "stderr",
     "output_type": "stream",
     "text": [
      "WARNING (theano.tensor.blas): Using NumPy C-API based implementation for BLAS functions.\n",
      "[monochrome_palette]: value was greater than 1 and was clipped.\n"
     ]
    },
    {
     "name": "stdout",
     "output_type": "stream",
     "text": [
      "\n",
      "import copy\n",
      "import os.path\n",
      "import itertools\n",
      "from collections import Iterable, OrderedDict, namedtuple, deque\n",
      "import numpy as np\n",
      "import scipy as sp\n",
      "import scipy.stats\n",
      "import matplotlib as mpl\n",
      "import matplotlib.pyplot as plt\n",
      "import matplotlib.image\n",
      "from matplotlib.gridspec import GridSpec\n",
      "import pymc3 as pymc\n",
      "import pandas as pd\n",
      "from pandas import DataFrame\n",
      "from parameters import ParameterSet\n",
      "\n",
      "from importlib import reload\n",
      "\n",
      "import theano_shim as shim\n",
      "\n",
      "import mackelab as ml\n",
      "import mackelab.smttk as smttk\n",
      "import mackelab.iotools\n",
      "import mackelab.pymc3\n",
      "import mackelab.parameters\n",
      "import mackelab.plot\n",
      "ml.parameters.Transform.namespaces['shim'] = shim\n",
      "\n",
      "import sinn\n",
      "import sinn.histories as histories\n",
      "import sinn.models\n",
      "from sinn.optimize.gradient_descent import FitCollection\n",
      "import sinn.analyze as anlz\n",
      "from sinn.analyze.axisdata import LogLikelihood, Likelihood, Probability\n",
      "from sinn.analyze.axis import Axis\n",
      "\n",
      "import fsGIF.core as core\n",
      "import fsGIF.fsgif_model as fsgif_model\n",
      "from fsGIF.fsgif_model import GIF_mean_field, GIF_spiking\n",
      "from fsGIF.nblogger import logger\n",
      "\n",
      "HOME = \"/home/alex/Recherche/macke_lab\"\n",
      "DATADIR = \"/home/alex/Recherche/data/mackelab/sim/fsGIF/\"\n",
      "DUMPDIR = os.path.join(DATADIR, \"run_dump\")\n",
      "\n",
      "recordstore = smttk.RecordStore(os.path.join(HOME, \"containers/fsGIF/run/.smt/records\"))\n",
      "#records = smttk.get_records(recordstore, 'fsGIF')\n",
      "\n",
      "\n",
      "from fsGIF.init import *\n",
      "from odictliteral import odict\n",
      "from operator import sub\n",
      "from warnings import warn\n",
      "from scipy import stats\n",
      "from tqdm import tqdm as tqdm\n",
      "from attrdict import AttrDict\n",
      "\n",
      "import logging\n",
      "logging.getLogger().setLevel('ERROR')\n",
      "\n",
      "from mpl_toolkits.axes_grid1.inset_locator import inset_axes\n",
      "pd.set_option('display.max_rows', 25)\n",
      "\n",
      "Defined:\n",
      "    inject_vars()\n"
     ]
    }
   ],
   "source": [
    "from etc.init import *\n",
    "import etc.figureslib as lib\n",
    "\n",
    "import NotebookScripter\n",
    "from NotebookScripter import run_notebook, receive_parameter\n",
    "NotebookScripter.set_notebook_option(with_matplotlib_backend=None)\n",
    "savefig = receive_parameter(savefig=False)\n",
    "saveext = receive_parameter(saveext='pdf')\n",
    "try:\n",
    "    data\n",
    "except NameError:\n",
    "    data = receive_parameter(data=None)\n",
    "    \n",
    "if data is None:\n",
    "    data = run_notebook(\"Figures_load_data.ipynb\")\n",
    "records = data.records"
   ]
  },
  {
   "cell_type": "markdown",
   "metadata": {},
   "source": [
    "---\n",
    "The initial cell which imports *matplotlib* seems to initialize some settings on exit (like setting `figure.dpi` to `72`). To ensure plot styles are all applied, they should be done in a separate cell."
   ]
  },
  {
   "cell_type": "code",
   "execution_count": 2,
   "metadata": {},
   "outputs": [],
   "source": [
    "mplconfig = run_notebook(\"Figures_matplotlib_config.ipynb\")\n",
    "inject_vars(mplconfig, globals())"
   ]
  },
  {
   "cell_type": "code",
   "execution_count": 3,
   "metadata": {},
   "outputs": [],
   "source": [
    "import seaborn as sns"
   ]
  },
  {
   "cell_type": "code",
   "execution_count": 4,
   "metadata": {},
   "outputs": [],
   "source": [
    "outputname = \"Fig_cstI.pdf\""
   ]
  },
  {
   "cell_type": "code",
   "execution_count": 5,
   "metadata": {},
   "outputs": [],
   "source": [
    "result_seeds = np.arange(300,400)\n",
    "truemicro_seeds = np.arange(1300,1400)\n",
    "truemeso_seeds = np.arange(2300,2400)\n",
    "use_expected_activity = False\n",
    "num_ref_records = 50"
   ]
  },
  {
   "cell_type": "code",
   "execution_count": 6,
   "metadata": {},
   "outputs": [
    {
     "data": {
      "text/html": [
       "<div>\n",
       "<style scoped>\n",
       "    .dataframe tbody tr th:only-of-type {\n",
       "        vertical-align: middle;\n",
       "    }\n",
       "\n",
       "    .dataframe tbody tr th {\n",
       "        vertical-align: top;\n",
       "    }\n",
       "\n",
       "    .dataframe thead th {\n",
       "        text-align: right;\n",
       "    }\n",
       "</style>\n",
       "<table border=\"1\" class=\"dataframe\">\n",
       "  <thead>\n",
       "    <tr style=\"text-align: right;\">\n",
       "      <th></th>\n",
       "      <th># records</th>\n",
       "      <th>reason</th>\n",
       "      <th>outcome</th>\n",
       "      <th>tags</th>\n",
       "      <th>main_file</th>\n",
       "      <th>avg\n",
       ". duration</th>\n",
       "    </tr>\n",
       "  </thead>\n",
       "  <tbody>\n",
       "    <tr>\n",
       "      <th>20200229-013019</th>\n",
       "      <td>20</td>\n",
       "      <td>sgd_test_cstI</td>\n",
       "      <td></td>\n",
       "      <td></td>\n",
       "      <td>../code/fsGIF/gradient_descent.py</td>\n",
       "      <td>5h 09m 27s</td>\n",
       "    </tr>\n",
       "    <tr>\n",
       "      <th>20200207-113346</th>\n",
       "      <td>100</td>\n",
       "      <td>fig_cstI_true-meso</td>\n",
       "      <td></td>\n",
       "      <td></td>\n",
       "      <td>../code/fsGIF/generate_activity.py</td>\n",
       "      <td>2h 03m 50s</td>\n",
       "    </tr>\n",
       "    <tr>\n",
       "      <th>20200207-112507</th>\n",
       "      <td>100</td>\n",
       "      <td>fig_cstI_true_meso_25-fits</td>\n",
       "      <td></td>\n",
       "      <td></td>\n",
       "      <td>../code/fsGIF/generate_activity.py</td>\n",
       "      <td>2h 04m 14s</td>\n",
       "    </tr>\n",
       "    <tr>\n",
       "      <th>20200204-114338</th>\n",
       "      <td>100</td>\n",
       "      <td>fig_cstI_true-micro</td>\n",
       "      <td></td>\n",
       "      <td></td>\n",
       "      <td>../code/fsGIF/generate_spikes.py</td>\n",
       "      <td>4h 49m 11s</td>\n",
       "    </tr>\n",
       "    <tr>\n",
       "      <th>20200202-140422</th>\n",
       "      <td>100</td>\n",
       "      <td>fig_cstI_inferred_meso_25-fits</td>\n",
       "      <td></td>\n",
       "      <td></td>\n",
       "      <td>../code/fsGIF/generate_activity.py</td>\n",
       "      <td>0h 54m 30s</td>\n",
       "    </tr>\n",
       "    <tr>\n",
       "      <th>20200202-140250</th>\n",
       "      <td>1</td>\n",
       "      <td>constant_input__0.5</td>\n",
       "      <td></td>\n",
       "      <td></td>\n",
       "      <td>../code/fsGIF/generate_input.py</td>\n",
       "      <td>0h 00m 05s</td>\n",
       "    </tr>\n",
       "    <tr>\n",
       "      <th>20200202-135810</th>\n",
       "      <td>1</td>\n",
       "      <td>constant_input__0.5</td>\n",
       "      <td></td>\n",
       "      <td></td>\n",
       "      <td>../code/fsGIF/generate_input.py</td>\n",
       "      <td>0h 00m 06s</td>\n",
       "    </tr>\n",
       "  </tbody>\n",
       "</table>\n",
       "</div>"
      ],
      "text/plain": [
       "                # records                          reason outcome tags  \\\n",
       "20200229-013019        20                   sgd_test_cstI                \n",
       "20200207-113346       100              fig_cstI_true-meso                \n",
       "20200207-112507       100      fig_cstI_true_meso_25-fits                \n",
       "20200204-114338       100             fig_cstI_true-micro                \n",
       "20200202-140422       100  fig_cstI_inferred_meso_25-fits                \n",
       "20200202-140250         1             constant_input__0.5                \n",
       "20200202-135810         1             constant_input__0.5                \n",
       "\n",
       "                                          main_file avg\\n. duration  \n",
       "20200229-013019   ../code/fsGIF/gradient_descent.py      5h 09m 27s  \n",
       "20200207-113346  ../code/fsGIF/generate_activity.py      2h 03m 50s  \n",
       "20200207-112507  ../code/fsGIF/generate_activity.py      2h 04m 14s  \n",
       "20200204-114338    ../code/fsGIF/generate_spikes.py      4h 49m 11s  \n",
       "20200202-140422  ../code/fsGIF/generate_activity.py      0h 54m 30s  \n",
       "20200202-140250     ../code/fsGIF/generate_input.py      0h 00m 05s  \n",
       "20200202-135810     ../code/fsGIF/generate_input.py      0h 00m 06s  "
      ]
     },
     "execution_count": 6,
     "metadata": {},
     "output_type": "execute_result"
    }
   ],
   "source": [
    "records.filter.any.reason((\"cstI\", \"constant\")).summary"
   ]
  },
  {
   "cell_type": "code",
   "execution_count": 120,
   "metadata": {},
   "outputs": [],
   "source": [
    "def get_psd(data, dt=0.001, transient=10., subsample=1):\n",
    "    \"\"\"\n",
    "    data: RecordList | RecordView | History\n",
    "    fmax, fmax: float\n",
    "    dt: float. Data will be subsampled to this dt before computing FFT\n",
    "    transient: float. Length of initial transient to discard (in seconds)\n",
    "    subsample: int\n",
    "        If >1, subsample by averaging neigbouring bins.\n",
    "    \"\"\"\n",
    "    if isinstance(data, (lib.RecordSet, lib.RecordList)):\n",
    "        data.list  # Allow calling length\n",
    "        Ntrials = len(data)\n",
    "        traceit = lib.trace_iterator(data, dt=dt)\n",
    "        trace = next(traceit)\n",
    "        psd, farr, rate = get_psd(trace, dt=dt,\n",
    "                                  transient=transient, subsample=subsample\n",
    "                                 ).values()\n",
    "        psd /= Ntrials\n",
    "        rate /= Ntrials\n",
    "        for trace in traceit:\n",
    "            _psd, _farr, _rate = get_psd(trace, dt=dt,\n",
    "                                         transient=transient, subsample=subsample\n",
    "                                        ).values()\n",
    "            assert np.all(np.isclose(farr, _farr))\n",
    "            psd += _psd/Ntrials\n",
    "            rate += _rate/Ntrials\n",
    "    elif isinstance(data, (lib.Record, lib.RecordView)):\n",
    "        psd, farr, rate = get_psd(load_trace(data, dt=dt), fmax, fmin).values()\n",
    "    else:\n",
    "        assert isinstance(data, histories.History)\n",
    "        Δi = data.index_interval(transient, allow_rounding=True)\n",
    "        trace = data.trace[Δi:]\n",
    "        rate = trace.mean(axis=0)\n",
    "        xF = np.fft.rfft(trace, axis=0)\n",
    "        farr = np.fft.rfftfreq(len(trace))[1:] / data.dt\n",
    "        psd = abs(xF[1:]**2) * data.dt/len(trace)\n",
    "        if subsample > 1:\n",
    "            farr = anlz.subsample(farr, amount=subsample)\n",
    "            psd  = anlz.subsample(psd,  amount=subsample)\n",
    "    return AttrDict(psd=psd, freqs=farr, rate=rate)"
   ]
  },
  {
   "cell_type": "code",
   "execution_count": 8,
   "metadata": {},
   "outputs": [],
   "source": [
    "def load(rec):\n",
    "    if not isinstance(rec, (ml.smttk.Record, ml.smttk.RecordView)):\n",
    "        rec = records.get(rec)\n",
    "    return lib.load_trace(rec, dt=0.001)"
   ]
  },
  {
   "cell_type": "code",
   "execution_count": 9,
   "metadata": {},
   "outputs": [],
   "source": [
    "labels = lib.AxAttrs(\n",
    "    true_micro = \"True – micro\",\n",
    "    true_meso  = \"Theory – meso\",\n",
    "    map_meso   = \"Inferred – meso\"\n",
    ")"
   ]
  },
  {
   "cell_type": "code",
   "execution_count": 10,
   "metadata": {},
   "outputs": [],
   "source": [
    "recsets = lib.AxAttrs(\n",
    "    true_micro = lib.RecordSet('20200204-114338'),\n",
    "    true_meso  = lib.RecordSet('20200207-113346'),\n",
    "    map_meso   = lib.RecordSet('20200202-140422')\n",
    ")"
   ]
  },
  {
   "cell_type": "code",
   "execution_count": 11,
   "metadata": {},
   "outputs": [
    {
     "data": {
      "text/html": [
       "<div>\n",
       "<style scoped>\n",
       "    .dataframe tbody tr th:only-of-type {\n",
       "        vertical-align: middle;\n",
       "    }\n",
       "\n",
       "    .dataframe tbody tr th {\n",
       "        vertical-align: top;\n",
       "    }\n",
       "\n",
       "    .dataframe thead th {\n",
       "        text-align: right;\n",
       "    }\n",
       "</style>\n",
       "<table border=\"1\" class=\"dataframe\">\n",
       "  <thead>\n",
       "    <tr style=\"text-align: right;\">\n",
       "      <th></th>\n",
       "      <th># runs</th>\n",
       "    </tr>\n",
       "  </thead>\n",
       "  <tbody>\n",
       "    <tr>\n",
       "      <th>map_meso</th>\n",
       "      <td>100</td>\n",
       "    </tr>\n",
       "    <tr>\n",
       "      <th>true_meso</th>\n",
       "      <td>66</td>\n",
       "    </tr>\n",
       "    <tr>\n",
       "      <th>true_micro</th>\n",
       "      <td>70</td>\n",
       "    </tr>\n",
       "  </tbody>\n",
       "</table>\n",
       "</div>"
      ],
      "text/plain": [
       "            # runs\n",
       "map_meso       100\n",
       "true_meso       66\n",
       "true_micro      70"
      ]
     },
     "execution_count": 11,
     "metadata": {},
     "output_type": "execute_result"
    }
   ],
   "source": [
    "df = pd.DataFrame({'# runs': {model: len(recset.list)\n",
    "                   for model, recset in recsets.items()}})\n",
    "df"
   ]
  },
  {
   "cell_type": "code",
   "execution_count": 116,
   "metadata": {},
   "outputs": [],
   "source": [
    "sampletraces = lib.AxAttrs({k: load(recs.earliest)\n",
    "                         for k,recs in recsets.items()})"
   ]
  },
  {
   "cell_type": "code",
   "execution_count": 13,
   "metadata": {},
   "outputs": [],
   "source": [
    "Ihist = ml.iotools.load(records.get('20200202-140250').outputpath[0])"
   ]
  },
  {
   "cell_type": "code",
   "execution_count": 68,
   "metadata": {},
   "outputs": [],
   "source": [
    "tracecolours = lib.AxAttrs(\n",
    "    true_micro = colours[2],\n",
    "    true_meso  = colours[1],\n",
    "    map_meso   = colours[0]\n",
    ")\n",
    "αs = lib.AxAttrs(\n",
    "    true_micro = 1.,\n",
    "    true_meso  = 0.85,\n",
    "    map_meso   = 0.75\n",
    ")\n",
    "zerolinegray = '#888888'"
   ]
  },
  {
   "cell_type": "code",
   "execution_count": 15,
   "metadata": {},
   "outputs": [],
   "source": [
    "try:\n",
    "    tqdm._instances.clear()\n",
    "except AttributeError:\n",
    "    pass"
   ]
  },
  {
   "cell_type": "code",
   "execution_count": 121,
   "metadata": {},
   "outputs": [
    {
     "name": "stderr",
     "output_type": "stream",
     "text": [
      "100%|██████████| 70/70 [00:00<00:00, 83.09it/s]\n",
      "100%|██████████| 66/66 [00:00<00:00, 106.64it/s]\n",
      "100%|██████████| 100/100 [00:00<00:00, 110.02it/s]\n"
     ]
    }
   ],
   "source": [
    "psds = AttrDict({k: get_psd(traces, transient=10., subsample=5)\n",
    "                 for k,traces in recsets.items()})"
   ]
  },
  {
   "cell_type": "code",
   "execution_count": 17,
   "metadata": {},
   "outputs": [],
   "source": [
    "def trimy(ax):\n",
    "    \"\"\"Copied from seaborn.despine.\"\"\"\n",
    "    yticks = ax.get_yticks()\n",
    "    if yticks.size:\n",
    "        firsttick = np.compress(yticks >= min(ax.get_ylim()),\n",
    "                                yticks)[0]\n",
    "        lasttick = np.compress(yticks <= max(ax.get_ylim()),\n",
    "                               yticks)[-1]\n",
    "        ax.spines['left'].set_bounds(firsttick, lasttick)\n",
    "        ax.spines['right'].set_bounds(firsttick, lasttick)\n",
    "        newticks = yticks.compress(yticks <= lasttick)\n",
    "        newticks = newticks.compress(newticks >= firsttick)\n",
    "        ax.set_yticks(newticks)"
   ]
  },
  {
   "cell_type": "code",
   "execution_count": 127,
   "metadata": {},
   "outputs": [
    {
     "data": {
      "image/png": "[encoded data removed]",
      "text/plain": [
       "<Figure size 690x285.718 with 4 Axes>"
      ]
     },
     "metadata": {
      "needs_background": "light"
     },
     "output_type": "display_data"
    }
   ],
   "source": [
    "fig = plt.figure(figsize=(textwidth, 0.67*figheight))\n",
    "\n",
    "gs = GridSpec(2,3)\n",
    "\n",
    "axes = AttrDict()\n",
    "axes.Etraces = plt.subplot(gs[:,0])\n",
    "axes.Itraces = plt.subplot(gs[:,1])\n",
    "axes.Epsd    = plt.subplot(gs[0,2])\n",
    "axes.Ipsd    = plt.subplot(gs[1,2])\n",
    "\n",
    "ax = axes.Etraces\n",
    "offset = 40\n",
    "for i, model in enumerate(['true_micro', 'true_meso', 'map_meso']):\n",
    "    trace = sampletraces[model]\n",
    "    c = tracecolours[model]\n",
    "    label = labels[model]\n",
    "    ax.axhline(i*offset, color=zerolinegray, zorder=-3, linestyle='dotted')\n",
    "    ax.plot(trace.time, trace.trace[:,0] + i*offset,\n",
    "            color=c, linewidth=1, alpha=0.7, label=label);\n",
    "ax.set_xlim(10, 10.2)\n",
    "ax.set_ylim(-0.75, 50+2*offset)\n",
    "ax.set_title(\"Excitatory\\npopulation\", pad=3,\n",
    "             fontweight='normal', fontsize=mpl.rcParams['axes.labelsize'])\n",
    "ml.plot.draw_xscale(0.05, \"50 ms\", offset=0, yshift=5, ax=ax)\n",
    "ml.plot.draw_yscale(20, \"20 Hz$/$neuron\", offset=0, xshift=10, ax=ax)\n",
    "\n",
    "ax = axes.Itraces\n",
    "offset = 40\n",
    "for i, model in enumerate(['true_micro', 'true_meso', 'map_meso']):\n",
    "    trace = sampletraces[model]\n",
    "    c = tracecolours[model]\n",
    "    label = labels[model]\n",
    "    ax.axhline(i*offset, color=zerolinegray, zorder=-3, linestyle='dotted')\n",
    "    ax.plot(trace.time, trace.trace[:,1] + i*offset,\n",
    "            color=c, linewidth=1, alpha=0.7, label=label);\n",
    "ax.set_xlim(10, 10.2)\n",
    "ax.set_ylim(-0.75, 50+2*offset)\n",
    "ax.set_title(\"Inhibitory\\npopulation\", pad=3,\n",
    "             fontweight='normal', fontsize=mpl.rcParams['axes.labelsize'])\n",
    "ml.plot.draw_xscale(0.05, \"50 ms\", offset=0, yshift=5, ax=ax)\n",
    "ml.plot.draw_yscale(20, \"20 Hz$/$neuron\", offset=0, xshift=10, ax=ax)\n",
    "#ax.spines['left'].set_visible(False)\n",
    "#ax.set_yticks([]);\n",
    "\n",
    "ax = axes.Epsd\n",
    "for model in ['true_micro', 'true_meso', 'map_meso']:\n",
    "    c = tracecolours[model]\n",
    "    psd = psds[model]\n",
    "    α = αs[model]\n",
    "    label = labels[model]\n",
    "    ax.plot(psd.freqs, psd.psd[:,0], color=c, alpha=α, label=label)\n",
    "ax.set_xscale('log')\n",
    "ax.set_xticks([])\n",
    "ax.set_ylim(0, 0.15)\n",
    "ax.set_yticks([0, 0.05, 0.1, 0.15])\n",
    "ax.set_yticklabels([\"0\", \"\", \"0.1\", \"\"])\n",
    "ax.set_ylabel(\"PSD\\nExc. population\")\n",
    "ax.yaxis.label.set_rotation('horizontal')\n",
    "ax.yaxis.label.set_ha('left')\n",
    "ax.yaxis.label.set_va('top')\n",
    "ax.yaxis.set_label_coords(0.03,1)\n",
    "#sns.despine(ax=ax, offset=2)\n",
    "#trimy(ax)\n",
    "    \n",
    "ax = axes.Ipsd\n",
    "for model in ['true_micro', 'true_meso', 'map_meso']:\n",
    "    c = tracecolours[model]\n",
    "    psd = psds[model]\n",
    "    α = αs[model]\n",
    "    ax.plot(psd.freqs, psd.psd[:,1], color=c, alpha=α)\n",
    "ax.set_xscale('log')\n",
    "ax.set_ylim(0, 0.4)\n",
    "ax.set_yticks([0, 0.1, 0.2, 0.3, 0.4])\n",
    "ax.set_yticklabels([\"0\", \"\", \"0.2\", \"\", \"0.4\"]);\n",
    "ax.set_xlabel(\"$f$ (Hz)\")\n",
    "ax.xaxis.set_label_coords(1,-0.12)\n",
    "ax.xaxis.label.set_ha('right')\n",
    "ax.set_ylabel(\"PSD\\n  Inh. population\")\n",
    "ax.yaxis.label.set_rotation('horizontal')\n",
    "ax.yaxis.label.set_ha('left')\n",
    "ax.yaxis.label.set_va('top')\n",
    "ax.yaxis.set_label_coords(0.03,1)\n",
    "#sns.despine(ax=ax, offset=2)\n",
    "#trimy(ax)\n",
    "\n",
    "gs.set_width_ratios([1,1,2.5])\n",
    "gs.update(left=0.04, right=0.96, top=0.88, bottom=0.17, wspace=0.22)\n",
    "\n",
    "# Legend\n",
    "#axes.Itraces.legend(ncol=3, loc='lower left', bbox_to_anchor=(1,1),\n",
    "#                    borderpad=1, handletextpad=0.5, columnspacing=1.45);\n",
    "#ml.plot.set_legend_linewidth(2.5, ax=axes.Itraces)\n",
    "axes.Epsd.legend(ncol=1, loc='upper right', bbox_to_anchor=(1,1.1))\n",
    "ml.plot.set_legend_linewidth(1.5, ax=axes.Epsd)\n",
    "\n",
    "# Panel labels\n",
    "ml.plot.subreflabel(axes.Etraces, \"a\", x=-0.13, y=1.055)\n",
    "ml.plot.subreflabel(axes.Epsd, \"b\", x=-0.08, y=1.12)\n",
    "\n",
    "assert(outputname=='Fig_cstI.pdf')\n",
    "if savefig:\n",
    "    plt.savefig(\"figures/\" + os.path.splitext(outputname)[0] + '.' + saveext.strip('.'))"
   ]
  },
  {
   "cell_type": "code",
   "execution_count": 128,
   "metadata": {},
   "outputs": [
    {
     "data": {
      "text/html": [
       "<div>\n",
       "<style scoped>\n",
       "    .dataframe tbody tr th:only-of-type {\n",
       "        vertical-align: middle;\n",
       "    }\n",
       "\n",
       "    .dataframe tbody tr th {\n",
       "        vertical-align: top;\n",
       "    }\n",
       "\n",
       "    .dataframe thead th {\n",
       "        text-align: right;\n",
       "    }\n",
       "</style>\n",
       "<table border=\"1\" class=\"dataframe\">\n",
       "  <thead>\n",
       "    <tr style=\"text-align: right;\">\n",
       "      <th></th>\n",
       "      <th>E</th>\n",
       "      <th>I</th>\n",
       "    </tr>\n",
       "  </thead>\n",
       "  <tbody>\n",
       "    <tr>\n",
       "      <th>true_micro</th>\n",
       "      <td>9.490209</td>\n",
       "      <td>14.340490</td>\n",
       "    </tr>\n",
       "    <tr>\n",
       "      <th>true_meso</th>\n",
       "      <td>9.282226</td>\n",
       "      <td>13.502666</td>\n",
       "    </tr>\n",
       "    <tr>\n",
       "      <th>map_meso</th>\n",
       "      <td>9.815982</td>\n",
       "      <td>15.701249</td>\n",
       "    </tr>\n",
       "  </tbody>\n",
       "</table>\n",
       "</div>"
      ],
      "text/plain": [
       "                   E          I\n",
       "true_micro  9.490209  14.340490\n",
       "true_meso   9.282226  13.502666\n",
       "map_meso    9.815982  15.701249"
      ]
     },
     "execution_count": 128,
     "metadata": {},
     "output_type": "execute_result"
    }
   ],
   "source": [
    "models = ['true_micro', 'true_meso', 'map_meso']\n",
    "firing_rates = pd.DataFrame([psds[model].rate for model in models],\n",
    "                             index=models, columns=['E', 'I'])\n",
    "firing_rates"
   ]
  }
 ],
 "metadata": {
  "kernelspec": {
   "display_name": "Python (meso inference paper plots)",
   "language": "python",
   "name": "meso_inference_paper_plots"
  },
  "language_info": {
   "codemirror_mode": {
    "name": "ipython",
    "version": 3
   },
   "file_extension": ".py",
   "mimetype": "text/x-python",
   "name": "python",
   "nbconvert_exporter": "python",
   "pygments_lexer": "ipython3",
   "version": "3.6.10"
  }
 },
 "nbformat": 4,
 "nbformat_minor": 4
}
