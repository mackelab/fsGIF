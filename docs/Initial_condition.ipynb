{
 "cells": [
  {
   "cell_type": "code",
   "execution_count": 1,
   "metadata": {
    "ExecuteTime": {
     "end_time": "2017-08-24T09:31:18.520568",
     "start_time": "2017-08-24T09:31:17.895443"
    },
    "collapsed": false
   },
   "outputs": [
    {
     "name": "stderr",
     "output_type": "stream",
     "text": [
      "2017-08-24 09:31:18,369 - sinn.analyze.stylelib.color_schemes - WARNING - [monochrome_palette]: value was greater than 1 and was clipped.\n"
     ]
    }
   ],
   "source": [
    "#import logging\n",
    "from nblogger import logger, logging\n",
    "from collections import OrderedDict, Iterable\n",
    "\n",
    "import numpy as np\n",
    "from scipy.optimize import root\n",
    "import matplotlib.pyplot as plt\n",
    "from matplotlib import patches\n",
    "import pandas\n",
    "\n",
    "from ipywidgets import interact\n",
    "import ipywidgets as widgets\n",
    "\n",
    "import theano_shim as shim\n",
    "import sinn\n",
    "import sinn.histories as histories\n",
    "from sinn.histories import Spiketrain, Series\n",
    "import sinn.iotools as io\n",
    "import sinn.analyze as anlz\n",
    "from sinn.analyze.heatmap import HeatMap\n",
    "import sinn.optimize.gradient_descent as gd\n",
    "\n",
    "import main as main\n",
    "import fsgif_model as fsgif\n",
    "\n",
    "logging.getLogger().setLevel(100)\n",
    "    # Remove output for final printout\n",
    "\n",
    "np.set_printoptions(precision=5, suppress=True)\n",
    "%matplotlib inline\n",
    "\n",
    "pandas.options.display.latex.repr = True"
   ]
  },
  {
   "cell_type": "code",
   "execution_count": null,
   "metadata": {
    "collapsed": true
   },
   "outputs": [],
   "source": [
    "%cd ..\n",
    "main.load_parameters(\"main.params\")\n",
    "\n",
    "spikemodel = main.generate_spikes(\n",
    "    20, filename='/home/alex/Recherche/data/mackelab/sim/fsGIF/short_adap/spikes/fsgif_no-input_20s_314seed')\n",
    "\n",
    "main.compute_spike_activity(20)\n",
    "None\n",
    "\n",
    "mfmodel = main.derive_mf_model_from_spikes()"
   ]
  },
  {
   "cell_type": "code",
   "execution_count": 7,
   "metadata": {
    "ExecuteTime": {
     "end_time": "2017-08-24T09:43:10.585986",
     "start_time": "2017-08-24T09:41:25.918225"
    },
    "collapsed": false,
    "scrolled": false
   },
   "outputs": [],
   "source": [
    "mfmodel.nbar.compute_up_to('end')"
   ]
  },
  {
   "cell_type": "markdown",
   "metadata": {},
   "source": [
    "# Solving for the stationary state"
   ]
  },
  {
   "cell_type": "markdown",
   "metadata": {},
   "source": [
    "Probably the most easily justifiable initial condition for our model would be to intialize in the stationary state. This state can be describe by the following self-consistency equation \n",
    "\n",
    "\\begin{multline}\n",
    "0 = 1 - A_{α}^{*} Δt \\left\\{\n",
    "        k_{ref,α} + 1 + \\sum_{i=k_{ref,α}}^{K-1} \\exp \\left[ - \\sum_{j=k_{ref,α}+1}^{i-1} f(a_{αj} + b_{αj}^{β} A_{β}^{*} - c_{αj} A_{α}^{*}) Δt \\right] \\right. \\\\\n",
    "        \\left. + \\frac {\\exp \\left[ - \\sum_{j=k_{ref,α}}^{K-1} f(a_{αj} + b_{αj}^{β} A_{β}^{*} - c_{αj} A_α^*) Δt \\right]}\n",
    "                {1 - \\exp \\left[ - f({a'}_α + {b'}_α^β - {c'}_α A_α^*) Δt \\right]}\n",
    "    \\right\\}\n",
    "\\end{multline}\n",
    "where\n",
    "\\begin{align}\n",
    "a_{αj} &= \n",
    "   e^{-(j-k_{ref,α}+1) Δt / τ_{m,α}} (u_{r,α} - u_{rest,α}) + u_{rest,α} - u_{th,α} - θ_{α,j} \\\\\n",
    "b_{αj}^β &=\n",
    "   (1 - e^{-(j-k_{ref,α}+1)Δt/τ_{m,α}}) \\frac{1 - e^{-Δt/τ_{m,β}}}{1 - e^{-Δt/τ_{m,α}}}τ_m p_{α}^{β} N^{β} w_{α}^{β} \\\\\n",
    "c_{αj} &= J_{θ,α} e^{-T/τ_{θ,α}} + Δt \\sum_{j'=j+1}^K \\tilde{θ}_{α,j'} \\\\\n",
    "a_{α}' &= u_{rest,α} - u_{th,α} \\\\\n",
    "b_{α}^{\\prime β} &= (1 - e^{-Δt/τ_m}) τ_m p_{α}^{β} N^{β} w_{α}^{β} \\\\\n",
    "c_{α}' &= J_{θ,α} e^{-T/τ_{θ,α}}  \\,.\n",
    "\\end{align}\n",
    "In the equations above, the sums over β are implicit, indicated by alternated raised and lowered symbols.\n",
    "\n",
    "Solving this $n$-d equation (where $n$ is the number of populations) for $A^*$ yields the stationary state activity in the case of no input and large $N$. While the result is exact in the $N=\\infty$, it should also serve as a suitable initializer in the case of finite $N$. Once we have the stationary activity $A^*$, we can compute all other state variables using the equations in the writeup. This allows us to initialize the system in a consistent state.\n",
    "\n",
    "This result also allows us to initialize the spiking model. A simple, and likely good enough approximation would be to treat them as decoupled Bernouilli neurons with effective firing rate $A^*$. If we want to make sure to respect the refractory effect, a slightly more involved approach would be to generate each neuron's first spike using $A^*$, and then use $\\lambda_i^*$ (which depends on the time of last spike) as a firing rate."
   ]
  },
  {
   "cell_type": "markdown",
   "metadata": {},
   "source": [
    "## Verification of the result"
   ]
  },
  {
   "cell_type": "markdown",
   "metadata": {},
   "source": [
    "We can check our result by comparing with a simulation that has relaxed to its stationary state. To ensure the initial condition is forgotten, we let it run for 18s simulation seconds, and then average over 1s (1000 bins) to remove the finite-size effect. We do this not only for $A^*$, but also for the state variables which are calculated from $A^*$."
   ]
  },
  {
   "cell_type": "code",
   "execution_count": 10,
   "metadata": {
    "ExecuteTime": {
     "end_time": "2017-08-24T09:45:48.460941",
     "start_time": "2017-08-24T09:45:48.430151"
    },
    "collapsed": true
   },
   "outputs": [],
   "source": [
    "params = mfmodel.params\n",
    "class F:\n",
    "    def __init__(self, model):\n",
    "        self.model = model\n",
    "    def __getitem__(self, α):\n",
    "        def _f(u):\n",
    "            if isinstance(u, Iterable):\n",
    "                return np.array([self.model.f(ui)[α] for ui in u])\n",
    "            else:\n",
    "                return self.model.f(u)[α]\n",
    "        return _f\n",
    "f = F(mfmodel)\n",
    "k_refs = np.rint(params.t_ref / mfmodel.dt).astype('int')\n",
    "jarrs = [np.arange(k0, mfmodel.K) for k0 in k_refs]\n",
    "\n",
    "def rhs(A):\n",
    "    a = lambda α: ( np.exp(-(jarrs[α]-k_refs[α]+1)*mfmodel.dt/params.τ_m[α]) * (params.u_r[α] - params.u_rest[α]) \n",
    "          + params.u_rest[α] - params.u_th[α] - mfmodel.θ_dis.get_trace()[k_refs[α]-1:mfmodel.K-1,α] )\n",
    "\n",
    "    b = lambda α: ( (1 - np.exp(-(jarrs[α]-k_refs[α]+1)*mfmodel.dt/params.τ_m[α]))[:,np.newaxis] \n",
    "          * params.τ_m[α] * params.p[α] * params.N * params.w[α] )\n",
    "\n",
    "    θtilde_dis = lambda α: mfmodel.θtilde_dis.get_trace()[k_refs[α]-1:mfmodel.K-1,α] * params.N[α] # starts at j+1, ends at K incl.\n",
    "    c = lambda α: params.J_θ[0,α] * np.exp(-mfmodel.memory_time/params.τ_θ[0,α]) + mfmodel.dt * np.cumsum(θtilde_dis(α)[::-1])[::-1]\n",
    "\n",
    "    ap = lambda α: params.u_rest[α] - params.u_th[α]\n",
    "\n",
    "    bp = lambda α: (1 - np.exp(-mfmodel.dt/params.τ_m[α])) * params.τ_m[α] * params.p[α] * params.N * params.w[α]\n",
    "\n",
    "    cp = lambda α: params.J_θ[0,α] * np.exp(-mfmodel.memory_time/params.τ_θ[0,α])\n",
    "\n",
    "    return ( (k_refs + 1).astype(float)\n",
    "             + np.array( [ np.exp(- f[α](a(α) + (b(α) * A).sum(axis=-1) - c(α)*A[α])[:-1].cumsum()*mfmodel.dt).sum()\n",
    "                          for α in range(len(params.N))])\n",
    "             + np.array( [ ( np.exp(- f[α](a(α) + (b(α) * A).sum(axis=-1) - c(α)*A[α]).sum()*mfmodel.dt) \n",
    "                           / (1 - np.exp(-f[α](ap(α) + (bp(α)*A).sum(axis=-1) - cp(α)*A[α])*mfmodel.dt)) )\n",
    "                         for α in range(len(params.N)) ] ).flatten()\n",
    "           ) * A * mfmodel.dt - 1\n",
    "        "
   ]
  },
  {
   "cell_type": "code",
   "execution_count": 4,
   "metadata": {
    "ExecuteTime": {
     "end_time": "2017-08-24T08:48:09.590997",
     "start_time": "2017-08-24T08:48:07.285582"
    },
    "collapsed": false
   },
   "outputs": [
    {
     "data": {
      "image/png": "[encoded data removed]",
      "text/plain": [
       "<matplotlib.figure.Figure at 0x7fdd327a0fd0>"
      ]
     },
     "metadata": {},
     "output_type": "display_data"
    }
   ],
   "source": [
    "plt.figure(figsize=(8,2.5))\n",
    "\n",
    "plt.subplot(1,2,1)\n",
    "A1arr = np.linspace(0, 30)\n",
    "Aarr = [np.array((A1, 12.536)) for A1 in A1arr]\n",
    "plt.plot(A1arr, [rhs(A) for A in Aarr])\n",
    "plt.axhline(0, color='#AAAAAA', zorder=-1)\n",
    "plt.xlabel(\"$A_1$\")\n",
    "plt.ylabel(\"rhs\")\n",
    "plt.title(\"Slice of rhs equation, at $A_2 = A_2^*$\")\n",
    "\n",
    "plt.subplot(1,2,2)\n",
    "plt.title(\"Simulated activity, no input, sync'ed initial conditial\")\n",
    "plt.xlabel(\"time (s)\")\n",
    "plt.ylabel(\"A (spikes/neuron/s)\")\n",
    "anlz.plot(anlz.smooth(mfmodel.A, 50), alpha=.9)\n",
    "plt.ylim((0,20))\n",
    "plt.gca().add_patch(\n",
    "    patches.Rectangle(\n",
    "        (18, 2),\n",
    "        1,\n",
    "        16,\n",
    "        fill=False,\n",
    "        color='#aa0036',\n",
    "        zorder=-1))\n",
    "\n",
    "plt.tight_layout()\n",
    "None"
   ]
  },
  {
   "cell_type": "markdown",
   "metadata": {},
   "source": [
    "We can solve this equation using SciPy's default root-finding method."
   ]
  },
  {
   "cell_type": "markdown",
   "metadata": {
    "ExecuteTime": {
     "end_time": "2017-08-24T08:48:21.598117",
     "start_time": "2017-08-24T08:48:21.199240"
    }
   },
   "source": [
    "Aguess = np.array([10, 10])\n",
    "res = root(rhs, Aguess)\n",
    "A = res.x\n",
    "print(A)"
   ]
  },
  {
   "cell_type": "code",
   "execution_count": 8,
   "metadata": {
    "ExecuteTime": {
     "end_time": "2017-08-24T09:45:15.872848",
     "start_time": "2017-08-24T09:45:15.870799"
    },
    "collapsed": true
   },
   "outputs": [],
   "source": [
    "i=18000"
   ]
  },
  {
   "cell_type": "code",
   "execution_count": 21,
   "metadata": {
    "ExecuteTime": {
     "end_time": "2017-08-24T09:52:35.960280",
     "start_time": "2017-08-24T09:52:35.954050"
    },
    "collapsed": false
   },
   "outputs": [],
   "source": [
    "htot = np.array([ (1 - np.exp(-mfmodel.dt/params.τ_m[α]))\n",
    "                   * ( (1-np.exp(-mfmodel.dt/params.τ_m)) / (1-np.exp(-mfmodel.dt/params.τ_m[α]))\n",
    "                       * params.τ_m[α] * params.p[α] * params.N * params.w[α] * Astar\n",
    "                     ).sum(axis=-1)\n",
    "                  for α in range(2)])\n",
    "varθfree = params.u_th + params.J_θ*np.exp(-mfmodel.memory_time/params.τ_θ.flatten())*Astar\n",
    "λfree = mfmodel.f(d['h'][0] - d['𝜗free'][0])\n",
    "θtilde_dis = lambda α: mfmodel.θtilde_dis.get_trace()[k_refs[α]-1:mfmodel.K-1,α] * params.N[α] # starts at j+1, ends at K incl."
   ]
  },
  {
   "cell_type": "code",
   "execution_count": 24,
   "metadata": {
    "ExecuteTime": {
     "end_time": "2017-08-24T09:54:00.092055",
     "start_time": "2017-08-24T09:54:00.081573"
    },
    "collapsed": true
   },
   "outputs": [],
   "source": [
    "α = 1\n",
    "a = lambda α: ( np.exp(-(jarrs[α]-k_refs[α]+1)*mfmodel.dt/params.τ_m[α]) * (params.u_r[α] - params.u_rest[α]) \n",
    "      + params.u_rest[α] - params.u_th[α] - mfmodel.θ_dis.get_trace()[k_refs[α]-1:mfmodel.K-1,α] )\n",
    "\n",
    "b = lambda α: ( (1 - np.exp(-(jarrs[α]-k_refs[α]+1)*mfmodel.dt/params.τ_m[α]))[:,np.newaxis] \n",
    "      * params.τ_m[α] * params.p[α] * params.N * params.w[α] )\n",
    "\n",
    "c = lambda α: params.J_θ[0,α] * np.exp(-mfmodel.memory_time/params.τ_θ[0,α]) + mfmodel.dt * np.cumsum(θtilde_dis(α)[::-1])[::-1]\n",
    "\n",
    "ap = lambda α: params.u_rest[α] - params.u_th[α]\n",
    "\n",
    "bp = lambda α: (1 - np.exp(-mfmodel.dt/params.τ_m[α])) * params.τ_m[α] * params.p[α] * params.N * params.w[α]\n",
    "\n",
    "cp = lambda α: params.J_θ[0,α] * np.exp(-mfmodel.memory_time/params.τ_θ[0,α])"
   ]
  },
  {
   "cell_type": "code",
   "execution_count": 3,
   "metadata": {
    "ExecuteTime": {
     "end_time": "2017-08-24T09:31:24.885212",
     "start_time": "2017-08-24T09:31:24.501479"
    },
    "collapsed": false
   },
   "outputs": [],
   "source": [
    "Astar = mfmodel.get_stationary_activity(mfmodel, mfmodel.K, \n",
    "                                        mfmodel.θ_dis, mfmodel.θtilde_dis)\n",
    "\n",
    "s_state = mfmodel.get_stationary_state(Astar)"
   ]
  },
  {
   "cell_type": "code",
   "execution_count": 35,
   "metadata": {
    "ExecuteTime": {
     "end_time": "2017-08-24T10:14:23.030920",
     "start_time": "2017-08-24T10:14:22.994261"
    },
    "collapsed": false
   },
   "outputs": [],
   "source": [
    "λprev = np.concatenate(\n",
    "            ( np.zeros((1,) + s_state.λ.shape[1:]),\n",
    "              s_state.λ[:-1] )  )\n",
    "P = 1 - np.exp(-(s_state.λ+λprev)/2 *mfmodel.dt)\n",
    "Pfree = 1 - np.exp(-s_state.λfree*mfmodel.dt)"
   ]
  },
  {
   "cell_type": "markdown",
   "metadata": {},
   "source": [
    "η = get_η_csts(mfmodel.params, mfmodel.dt, mfmodel.K,\n",
    "               mfmodel.θ_dis, mfmodel.θtilde_dis)"
   ]
  },
  {
   "cell_type": "markdown",
   "metadata": {
    "ExecuteTime": {
     "end_time": "2017-08-23T15:29:44.689892Z",
     "start_time": "2017-08-23T15:29:44.679420Z"
    }
   },
   "source": [
    "d = OrderedDict()\n",
    "d['A'] = [None, mfmodel.A[i:i+1000].mean(axis=0), Astar]\n",
    "\n",
    "d['h'] = [ np.array( [ params.u_rest[α] + (params.τ_m[α] * params.p[α] * params.N * params.w[α] * A).sum(axis=-1)\n",
    "                       for α in range(2)]),\n",
    "           mfmodel.h[i:i+1000].mean(axis=0),\n",
    "           params.u_rest + η[0].dot(Astar) ]\n",
    "\n",
    "d['htot'] = [ htot,\n",
    "              mfmodel.h_tot[i:i+1000].mean(axis=0) - params.u_rest,\n",
    "              η[1].dot(Astar) ]\n",
    "\n",
    "d[\"𝜗free\"] = [varθfree[0],\n",
    "              mfmodel.varθfree[i:i+1000].mean(axis=0),\n",
    "              params.u_th + η[6]*Astar ]\n",
    "\n",
    "d[\"λfree\"] = [ λfree,\n",
    "               mfmodel.λfree[i:i+100].mean(axis=0),\n",
    "               mfmodel.f( η[7] + η[0].dot(Astar) - η[6]*Astar) ]\n",
    "\n",
    "d[\"Pfree\"] = [ None,\n",
    "               mfmodel.Pfree[i:i+1000].mean(axis=0),\n",
    "               1 - np.exp(-d['λfree'][2]*mfmodel.dt) ]\n",
    "\n",
    "d[\"x\"] = [ None,\n",
    "           mfmodel.x[i:i+1000].mean(axis=0),\n",
    "           m_ss[-1] / d['Pfree'][2]]\n",
    "\n",
    "d[\"z\"] = [ None,\n",
    "           mfmodel.z[i:i+1000].mean(axis=0),\n",
    "           (d['x'][2] + v_ss[-1] / d['Pfree'][2]) / (2 - d['Pfree'][2]) ]"
   ]
  },
  {
   "cell_type": "code",
   "execution_count": 11,
   "metadata": {
    "ExecuteTime": {
     "end_time": "2017-08-24T09:45:55.254675",
     "start_time": "2017-08-24T09:45:55.246514"
    },
    "collapsed": false
   },
   "outputs": [],
   "source": [
    "d = OrderedDict()\n",
    "d['A'] = [Astar, mfmodel.A[i:i+1000].mean(axis=0)]\n",
    "\n",
    "d['h'] = [ s_state.h,\n",
    "           mfmodel.h[i:i+1000].mean(axis=0) ]\n",
    "\n",
    "d['htot'] = [ s_state.h_tot,\n",
    "              mfmodel.h_tot[i:i+1000].mean(axis=0) - params.u_rest ]\n",
    "\n",
    "d[\"𝜗free\"] = [ s_state.varθfree,\n",
    "              mfmodel.varθfree[i:i+1000].mean(axis=0) ]\n",
    "\n",
    "d[\"λfree\"] = [ s_state.λfree,\n",
    "               mfmodel.λfree[i:i+100].mean(axis=0) ]\n",
    "\n",
    "d[\"x\"] = [ s_state.x,\n",
    "           mfmodel.x[i:i+1000].mean(axis=0) ]\n",
    "\n",
    "d[\"z\"] = [ s_state.z,\n",
    "           mfmodel.z[i:i+1000].mean(axis=0) ]"
   ]
  },
  {
   "cell_type": "code",
   "execution_count": 12,
   "metadata": {
    "ExecuteTime": {
     "end_time": "2017-08-24T09:45:57.543423",
     "start_time": "2017-08-24T09:45:57.540850"
    },
    "collapsed": true
   },
   "outputs": [],
   "source": [
    "for key, val in d.items():\n",
    "    d[key] = [v.round(5) if v is not None else v for v in val]"
   ]
  },
  {
   "cell_type": "code",
   "execution_count": 15,
   "metadata": {
    "ExecuteTime": {
     "end_time": "2017-08-24T09:46:34.888032",
     "start_time": "2017-08-24T09:46:34.870521"
    },
    "collapsed": false
   },
   "outputs": [
    {
     "data": {
      "text/html": [
       "<div>\n",
       "<table border=\"1\" class=\"dataframe\">\n",
       "  <thead>\n",
       "    <tr style=\"text-align: right;\">\n",
       "      <th></th>\n",
       "      <th>theory</th>\n",
       "      <th>simulation</th>\n",
       "    </tr>\n",
       "  </thead>\n",
       "  <tbody>\n",
       "    <tr>\n",
       "      <th>A</th>\n",
       "      <td>[5.47605, 12.53551]</td>\n",
       "      <td>[5.668, 12.72]</td>\n",
       "    </tr>\n",
       "    <tr>\n",
       "      <th>h</th>\n",
       "      <td>[18.12284, 19.24632]</td>\n",
       "      <td>[18.23714, 19.3629]</td>\n",
       "    </tr>\n",
       "    <tr>\n",
       "      <th>htot</th>\n",
       "      <td>[-0.09755, -0.05441]</td>\n",
       "      <td>[-0.09215, -0.04904]</td>\n",
       "    </tr>\n",
       "    <tr>\n",
       "      <th>𝜗free</th>\n",
       "      <td>[[15.10757, 15.0]]</td>\n",
       "      <td>[15.11168, 15.0]</td>\n",
       "    </tr>\n",
       "    <tr>\n",
       "      <th>λfree</th>\n",
       "      <td>[[18.27694, 23.37923]]</td>\n",
       "      <td>[18.66139, 23.32279]</td>\n",
       "    </tr>\n",
       "    <tr>\n",
       "      <th>x</th>\n",
       "      <td>[[0.00943, 0.0]]</td>\n",
       "      <td>[0.00887, 0.0]</td>\n",
       "    </tr>\n",
       "    <tr>\n",
       "      <th>z</th>\n",
       "      <td>[[0.0096, 0.0]]</td>\n",
       "      <td>[0.00453, 0.0]</td>\n",
       "    </tr>\n",
       "  </tbody>\n",
       "</table>\n",
       "</div>"
      ],
      "text/latex": [
       "\\begin{tabular}{lll}\n",
       "\\toprule\n",
       "{} &                  theory &            simulation \\\\\n",
       "\\midrule\n",
       "A     &     [5.47605, 12.53551] &        [5.668, 12.72] \\\\\n",
       "h     &    [18.12284, 19.24632] &   [18.23714, 19.3629] \\\\\n",
       "htot  &    [-0.09755, -0.05441] &  [-0.09215, -0.04904] \\\\\n",
       "𝜗free &      [[15.10757, 15.0]] &      [15.11168, 15.0] \\\\\n",
       "λfree &  [[18.27694, 23.37923]] &  [18.66139, 23.32279] \\\\\n",
       "x     &        [[0.00943, 0.0]] &        [0.00887, 0.0] \\\\\n",
       "z     &         [[0.0096, 0.0]] &        [0.00453, 0.0] \\\\\n",
       "\\bottomrule\n",
       "\\end{tabular}\n"
      ],
      "text/plain": [
       "                       theory            simulation\n",
       "A         [5.47605, 12.53551]        [5.668, 12.72]\n",
       "h        [18.12284, 19.24632]   [18.23714, 19.3629]\n",
       "htot     [-0.09755, -0.05441]  [-0.09215, -0.04904]\n",
       "𝜗free      [[15.10757, 15.0]]      [15.11168, 15.0]\n",
       "λfree  [[18.27694, 23.37923]]  [18.66139, 23.32279]\n",
       "x            [[0.00943, 0.0]]        [0.00887, 0.0]\n",
       "z             [[0.0096, 0.0]]        [0.00453, 0.0]"
      ]
     },
     "execution_count": 15,
     "metadata": {},
     "output_type": "execute_result"
    }
   ],
   "source": [
    "df = pandas.DataFrame.from_dict(data=d, orient='index')\n",
    "df.columns = [\"theory\", \"simulation\"]\n",
    "df"
   ]
  },
  {
   "cell_type": "code",
   "execution_count": 79,
   "metadata": {
    "ExecuteTime": {
     "end_time": "2017-08-23T13:02:29.579559Z",
     "start_time": "2017-08-23T13:02:29.572366Z"
    },
    "collapsed": false
   },
   "outputs": [
    {
     "data": {
      "text/plain": [
       "ShimmedShared([ 0.008,  0.   ])"
      ]
     },
     "execution_count": 79,
     "metadata": {},
     "output_type": "execute_result"
    }
   ],
   "source": [
    "(vavg[-1] - mavg[-1]) / d['Pfree'][1] / (2 - d['Pfree'][1]) + d['x'][1]"
   ]
  },
  {
   "cell_type": "code",
   "execution_count": 44,
   "metadata": {
    "ExecuteTime": {
     "end_time": "2017-08-23T15:32:25.786668Z",
     "start_time": "2017-08-23T15:32:25.775946Z"
    },
    "collapsed": false
   },
   "outputs": [
    {
     "name": "stdout",
     "output_type": "stream",
     "text": [
      "[ 0.00014  0.     ]\n",
      "[ 0.00014  0.     ]\n"
     ]
    }
   ],
   "source": [
    "j = i\n",
    "print( (1 - mfmodel.Pfree[j+1])**2 * mfmodel.z[j] \n",
    "                + mfmodel.Pfree[j+1]*mfmodel.x[j] + mfmodel.v[j+1][-1] )\n",
    "\n",
    "print(mfmodel.z[j+1])"
   ]
  },
  {
   "cell_type": "code",
   "execution_count": 52,
   "metadata": {
    "ExecuteTime": {
     "end_time": "2017-08-23T15:39:58.840609Z",
     "start_time": "2017-08-23T15:39:58.616923Z"
    },
    "collapsed": false
   },
   "outputs": [
    {
     "data": {
      "text/plain": [
       "[<matplotlib.lines.Line2D at 0x7f107f4faef0>]"
      ]
     },
     "execution_count": 52,
     "metadata": {},
     "output_type": "execute_result"
    },
    {
     "data": {
      "image/png": "[encoded data removed]",
      "text/plain": [
       "<matplotlib.figure.Figure at 0x7f107f4fa668>"
      ]
     },
     "metadata": {},
     "output_type": "display_data"
    }
   ],
   "source": [
    "j = i\n",
    "zarr = np.linspace(0,0.01)\n",
    "plt.plot( zarr, ((1 - .99*d['Pfree'][1])**2 * zarr[:,np.newaxis]\n",
    "                 + .99*d['Pfree'][1]*d['x'][1] + vavg[-1] ))\n",
    "\n",
    "plt.plot(zarr, zarr)"
   ]
  },
  {
   "cell_type": "code",
   "execution_count": 66,
   "metadata": {
    "ExecuteTime": {
     "end_time": "2017-08-23T15:43:48.049947Z",
     "start_time": "2017-08-23T15:43:48.040269Z"
    },
    "collapsed": false
   },
   "outputs": [
    {
     "data": {
      "text/plain": [
       "0.0046938775510204081"
      ]
     },
     "execution_count": 66,
     "metadata": {},
     "output_type": "execute_result"
    }
   ],
   "source": [
    "imin = abs( ((1 - 1.3*d['Pfree'][1])**2 * zarr[:,np.newaxis]\n",
    "                 + .7*d['Pfree'][1]*d['x'][1] + 0.7*vavg[-1] )[:,0] - zarr ).argmin()\n",
    "zarr[imin]"
   ]
  },
  {
   "cell_type": "code",
   "execution_count": 127,
   "metadata": {
    "ExecuteTime": {
     "end_time": "2017-08-23T15:19:34.744679Z",
     "start_time": "2017-08-23T15:19:34.573046Z"
    },
    "collapsed": false
   },
   "outputs": [
    {
     "data": {
      "text/plain": [
       "(999, 2)"
      ]
     },
     "execution_count": 127,
     "metadata": {},
     "output_type": "execute_result"
    }
   ],
   "source": [
    "np.array([mfmodel.z[i:i+nel].mean(axis=0) for nel in range(1,1000)]).shape"
   ]
  },
  {
   "cell_type": "code",
   "execution_count": 128,
   "metadata": {
    "ExecuteTime": {
     "end_time": "2017-08-23T15:19:43.388264Z",
     "start_time": "2017-08-23T15:19:43.080909Z"
    },
    "collapsed": false
   },
   "outputs": [
    {
     "data": {
      "text/plain": [
       "[<matplotlib.lines.Line2D at 0x7fb024951588>,\n",
       " <matplotlib.lines.Line2D at 0x7fb024951630>]"
      ]
     },
     "execution_count": 128,
     "metadata": {},
     "output_type": "execute_result"
    },
    {
     "data": {
      "image/png": "[encoded data removed]",
      "text/plain": [
       "<matplotlib.figure.Figure at 0x7fb0249d7588>"
      ]
     },
     "metadata": {},
     "output_type": "display_data"
    }
   ],
   "source": [
    "plt.plot([mfmodel.z[i:i+nel].mean(axis=0) for nel in range(1,1000)])"
   ]
  },
  {
   "cell_type": "code",
   "execution_count": 26,
   "metadata": {
    "ExecuteTime": {
     "end_time": "2017-08-24T09:54:36.343429",
     "start_time": "2017-08-24T09:54:36.292147"
    },
    "collapsed": false
   },
   "outputs": [],
   "source": [
    "red_factor = lambda α: np.exp(-(jarrs[α]-k_refs[α]+1)*mfmodel.dt/params.τ_m[α])\n",
    "u = np.transpose( [ 0 + red_factor(α) * params.u_r[α] \n",
    "                          + (1 - red_factor(α)) * params.u_rest[α]\n",
    "                          + (1 - red_factor(α)) / (1 - np.exp(-mfmodel.dt/params.τ_m[α])) * htot[α]\n",
    "                        for α in range(2) ] )\n",
    "\n",
    "varθ = np.transpose([ params.u_th[α] + mfmodel.θ_dis.get_trace()[k_refs[α]-1:mfmodel.K-1,α]\n",
    "            + ( params.J_θ[0,α] * np.exp(-mfmodel.memory_time/params.τ_θ[0,α]) \n",
    "                + mfmodel.dt * np.cumsum(θtilde_dis(α)[::-1])[::-1] \n",
    "              ) * Astar[α]\n",
    "            for α in range(2) ])\n",
    "\n",
    "λ = np.transpose([ [f[α](umv) for umv in (a(α) + (b(α) * Astar).sum(axis=-1) - c(α)*Astar[α])[:-1]]\n",
    "                         for α in range(2)])\n",
    "\n",
    "m = np.transpose([ np.exp(- f[α](a(α) + (b(α) * Astar).sum(axis=-1) - c(α)*Astar[α])[:-1].cumsum()*mfmodel.dt) * Astar[α] * mfmodel.dt * params.N[α]\n",
    "                         for α in range(2)])"
   ]
  },
  {
   "cell_type": "code",
   "execution_count": 29,
   "metadata": {
    "ExecuteTime": {
     "end_time": "2017-08-24T09:55:24.168502",
     "start_time": "2017-08-24T09:55:24.165796"
    },
    "collapsed": true
   },
   "outputs": [],
   "source": [
    "u = s_state.u\n",
    "varθ = s_state.varθ\n",
    "λ = s_state.λ\n",
    "m = s_state.m"
   ]
  },
  {
   "cell_type": "code",
   "execution_count": 30,
   "metadata": {
    "ExecuteTime": {
     "end_time": "2017-08-24T09:55:25.667860",
     "start_time": "2017-08-24T09:55:24.774080"
    },
    "collapsed": false
   },
   "outputs": [
    {
     "data": {
      "image/png": "[encoded data removed]",
      "text/plain": [
       "<matplotlib.figure.Figure at 0x7fde8ffd3208>"
      ]
     },
     "metadata": {},
     "output_type": "display_data"
    }
   ],
   "source": [
    "plt.figure(figsize=(10, 9))\n",
    "\n",
    "plt.subplot(2,2,1)\n",
    "plt.plot( u, label=\"theory\")\n",
    "plt.plot(np.transpose( [(mfmodel.u.get_trace()[i:i+1000, k_refs[α]:,α]).mean(axis=0)\n",
    "                        for α in range(2)] ),\n",
    "         label=\"simulation\")\n",
    "plt.title(\"Membrane potential ($u$)\")\n",
    "plt.xlabel(\"lag index\")\n",
    "plt.ylabel(\"$u$\")\n",
    "plt.legend()\n",
    "#plt.ylim((15,20))\n",
    "None\n",
    "\n",
    "plt.subplot(2,2,2)\n",
    "plt.plot( varθ, label=\"theory\")\n",
    "plt.plot( np.transpose([(mfmodel.varθ.get_trace()[i:i+1000,k_refs[α]:,α]).mean(axis=0) for α in range(2)]),\n",
    "          label=\"simulation\")\n",
    "plt.ylabel(\"$\\\\vartheta$\")\n",
    "plt.title(\"Membrane threshold ($\\\\vartheta$)\")\n",
    "plt.xlabel(\"lag index\")\n",
    "plt.legend()\n",
    "None\n",
    "\n",
    "plt.subplot(2,2,3)\n",
    "plt.plot(λ, label=\"theory\")\n",
    "plt.plot(np.transpose([(mfmodel.λ.get_trace()[i:i+1000,k_refs[α]:,α]).mean(axis=0)\n",
    "                       for α in range(2)]),\n",
    "         label=\"simulation\")\n",
    "plt.ylabel(\"$\\\\lambda$\")\n",
    "plt.title(\"Firing rate\")\n",
    "plt.xlabel(\"lag index\")\n",
    "plt.legend()\n",
    "None\n",
    "\n",
    "plt.subplot(2,2,4)\n",
    "plt.plot(m, label=\"theory\")\n",
    "plt.plot(np.transpose([ mfmodel.m[i:i+1000][:,k_refs[α]:,α].mean(axis=0)\n",
    "                        for α in range(2)]),\n",
    "         label=\"simulation\")\n",
    "plt.title(\"Number of neurons in each lag bin\")\n",
    "plt.xlabel(\"lag index\")\n",
    "plt.ylabel(\"m\")\n",
    "plt.legend()\n",
    "\n",
    "plt.tight_layout()"
   ]
  },
  {
   "cell_type": "markdown",
   "metadata": {},
   "source": [
    "## State variable equations"
   ]
  },
  {
   "cell_type": "markdown",
   "metadata": {},
   "source": [
    "$\\newcommand{\\ac}[1]{{}_{#1}{η}}$\n",
    "$\\newcommand{\\coloneqq}{:=}$\n",
    "\\begin{align}\n",
    "    h^{*}_{α} &= u_{rest,α} + \\ac{1}_{α}^{β} A_{αβ}^{*} \\\\\n",
    "    h_{tot,α}^{*} &= \\ac{2}_{α}^{β} A_{αβ}^{*} \\qquad \\text{(see below)} \\\\\n",
    "    u_{α,i}^{*} &= \\ac{3}_{α,i} + \\ac{4}_{α,i} \\ac{2}_{α}^{β} A_{αβ}^{*} \\\\\n",
    "    \\vartheta_{α,i}^{*} &= \\ac{5}_{α,i} + \\ac{6}_{α,i} A_{α}^{*}  \\\\\n",
    "    \\vartheta_{free,α}^{*} &= u_{th,α} + \\ac{7}_{α} A_{α}^{*}  \\\\\n",
    "    λ_{free,α}^{*} &= f(\\ac{8}_{α} + \\ac{1}^{β} A_{αβ}^{*} - \\ac{7}_{α} A_{α}^{*}) \\\\\n",
    "    λ_{α,i}^{*} &= f(\\ac{9}_{α,i} + \\ac{10}_{α,i}^{β} A_{αβ}^{*} - \\ac{6}_{α,i} A_{α}^{*}) \\\\\n",
    "    P_{free,α}^{*} &= 1 - e^{-λ^{*}_{free,α} Δt} \\\\\n",
    "    P_{α,i}^{*} &= 1 - e^{-λ_{α,i}^{*} Δt} \\\\\n",
    "    \\bar{m}_{α,i}^{*} &= \n",
    "    \\begin{cases}\n",
    "      A_{α}^{*} \\, N_{α}\\, dt & i = 0 \\\\\n",
    "      [1 - P_{α,i}^{*}] \\bar{m}_{α,i-1}^{*} & 0 < i \\leq K\n",
    "    \\end{cases} \\\\\n",
    "    v_{α,i}^{*} &= \n",
    "    \\begin{cases}\n",
    "      0 & i = 0 \\\\\n",
    "      [1 - P_{α,i}^{*}]^2 v_{α,i-1}^{*} + P_{α,i}^{*} & 0 < i \\leq K\n",
    "    \\end{cases} \\\\\n",
    "    x_{α}^{*} &= \\sum_{j=0}^{\\infty} (1-P_{free}^{*})^{j} \\bar{m}_{α,K}^{*} = \\frac{\\bar{m}_{α,K}^{*}}{P_{free}^{*}} \\\\\n",
    "    z_{α}^{*} &= \\frac{v_{α,K}^{*} - m_{α,K}^{*}}{P_{free,α}^{*} (2 - P_{free,α}^{*})} + x_{α}^{*}\n",
    "\\end{align}\n",
    "\n",
    "Tensor constants:\n",
    "\\begin{align}\n",
    "    \\ac{1}_{α}^{β} &\\coloneqq τ_{m,α} p_{α}^β N^{β} w_{α}^β \\\\\n",
    "    \\ac{2}_{α}^{β} &\\coloneqq (1 - e^{-Δt/τ_{m,α}}) \\ac{1}_{α}^{β}\\\\\n",
    "    \\ac{3}_{α,i} &\\coloneqq\n",
    "        \\begin{cases}\n",
    "           u_{r,α}  & 0 \\leq i < k_{ref,α} \\\\\n",
    "           e^{-(i-k_{ref,α}+1) Δt / τ_{m,α}} (u_{r,α} - u_{rest,α}) + u_{rest,α}  & i \\geq k_{ref,α}\n",
    "        \\end{cases} \\\\\n",
    "    \\ac{4}_{α,i} &\\coloneqq\n",
    "         \\begin{cases}\n",
    "           0  & 0 \\leq i < k_{ref,α} \\\\\n",
    "           \\frac{1 - e^{-(i-k_{ref,α}+1)Δt/τ_{m,α}}}{1 - e^{-Δt/τ_{m,α}}} &  i \\geq k_{ref,α}\n",
    "        \\end{cases} \\\\\n",
    "    \\ac{5}_{α,i} &= u_{th,α} + θ_{α,i} \\\\\n",
    "    \\ac{6}_{α,i} &= J_{θ,α} e^{-T/τ_{θ,α}} + Δt \\sum_{j=i+1}^K \\tilde{θ}_{α,j} \\\\\n",
    "    \\ac{7}_{α} &= J_{θ,α} e^{-T/τ_{θ,α}} \\\\\n",
    "    \\ac{8}_{α} &\\coloneqq u_{rest,α} - u_{th,α} \\\\\n",
    "    \\ac{9}_{αi} &\\coloneqq \\ac{3}_{αi} - \\ac{5}_{αi} \\\\\n",
    "    \\ac{10}_{αi}^{β} &\\coloneqq \\ac{4}_{αi} \\ac{2}_{α}^{β}\n",
    "\\end{align}\n",
    "\n",
    "where $T \\coloneqq K Δt$.\n",
    "\n",
    "Finally, following the pseudocode implementation in [cite:Schwalger2016], in our code we actually have\n",
    "\n",
    "$$h_{tot,α}^{*} = u_{rest,α} + \\ac{2}_{α}^{β} A_{αβ}^{*} \\,.$$"
   ]
  },
  {
   "cell_type": "code",
   "execution_count": 25,
   "metadata": {
    "ExecuteTime": {
     "end_time": "2017-08-23T15:30:38.940142Z",
     "start_time": "2017-08-23T15:30:38.924231Z"
    },
    "collapsed": false
   },
   "outputs": [
    {
     "data": {
      "text/plain": [
       "array([[ 0.88386,  0.88386,  0.93865,  0.93865],\n",
       "       [ 1.72462,  1.72462,  1.83153,  1.83153],\n",
       "       [ 2.52437,  2.52437,  2.68086,  2.68086],\n",
       "       [ 3.28511,  3.28511,  3.48877,  3.48877],\n",
       "       [ 4.00876,  4.00876,  4.25727,  4.25727],\n",
       "       [ 4.69711,  4.69711,  4.98829,  4.98829],\n",
       "       [ 5.35189,  5.35189,  5.68367,  5.68367],\n",
       "       [ 5.97474,  5.97474,  6.34512,  6.34512],\n",
       "       [ 6.56721,  6.56721,  6.97432,  6.97432],\n",
       "       [ 7.13078,  7.13078,  7.57283,  7.57283]])"
      ]
     },
     "execution_count": 25,
     "metadata": {},
     "output_type": "execute_result"
    }
   ],
   "source": [
    "u_theory = η[2] + η[9].dot(Astar)\n",
    "\n",
    "ucmp = np.empty((u.shape[0], 2*u.shape[1]))\n",
    "ucmp[:,::2] = u\n",
    "ucmp[:, 1::2] = u_theory[3:u.shape[0]+3]\n",
    "ucmp[:10]"
   ]
  },
  {
   "cell_type": "code",
   "execution_count": 26,
   "metadata": {
    "ExecuteTime": {
     "end_time": "2017-08-23T15:30:39.396867Z",
     "start_time": "2017-08-23T15:30:39.381415Z"
    },
    "collapsed": false
   },
   "outputs": [
    {
     "data": {
      "text/plain": [
       "array([[ 24.36898,  24.36953,  15.     ,  15.     ],\n",
       "       [ 24.32674,  24.32728,  15.     ,  15.     ],\n",
       "       [ 24.28467,  24.28521,  15.     ,  15.     ],\n",
       "       [ 24.24277,  24.24331,  15.     ,  15.     ],\n",
       "       [ 24.20105,  24.20159,  15.     ,  15.     ],\n",
       "       [ 24.1595 ,  24.16004,  15.     ,  15.     ],\n",
       "       [ 24.11812,  24.11866,  15.     ,  15.     ],\n",
       "       [ 24.07691,  24.07746,  15.     ,  15.     ],\n",
       "       [ 24.03588,  24.03642,  15.     ,  15.     ],\n",
       "       [ 23.99501,  23.99556,  15.     ,  15.     ]])"
      ]
     },
     "execution_count": 26,
     "metadata": {},
     "output_type": "execute_result"
    }
   ],
   "source": [
    "varθ_theory = η[4] + η[5]*Astar\n",
    "\n",
    "varθcmp = np.empty((varθ.shape[0], 2*varθ.shape[1]))\n",
    "varθcmp[:,::2] = varθ\n",
    "varθcmp[:, 1::2] = varθ_theory[3:varθ.shape[0]+3]\n",
    "varθcmp[:10]"
   ]
  },
  {
   "cell_type": "code",
   "execution_count": 27,
   "metadata": {
    "ExecuteTime": {
     "end_time": "2017-08-23T15:30:39.854745Z",
     "start_time": "2017-08-23T15:30:39.848732Z"
    },
    "collapsed": false
   },
   "outputs": [
    {
     "data": {
      "text/plain": [
       "ShimmedShared([[     -inf,      -inf],\n",
       "               [     -inf,      -inf],\n",
       "               [     -inf,      -inf],\n",
       "               [-19.01859, -14.00693],\n",
       "               [-18.06011, -13.0623 ],\n",
       "               [-17.14728, -12.16374],\n",
       "               [-16.27788, -11.309  ]])"
      ]
     },
     "execution_count": 27,
     "metadata": {},
     "output_type": "execute_result"
    }
   ],
   "source": [
    "η[8][:7]"
   ]
  },
  {
   "cell_type": "code",
   "execution_count": 24,
   "metadata": {
    "ExecuteTime": {
     "end_time": "2017-08-23T12:25:53.773537Z",
     "start_time": "2017-08-23T12:25:53.766894Z"
    },
    "collapsed": false
   },
   "outputs": [
    {
     "data": {
      "text/plain": [
       "array([[ 0.   ,  0.   ],\n",
       "       [ 0.   ,  0.   ],\n",
       "       [ 0.   ,  0.   ],\n",
       "       [ 0.981,  0.993],\n",
       "       [ 1.915,  1.938],\n",
       "       [ 2.803,  2.836],\n",
       "       [ 3.648,  3.691]])"
      ]
     },
     "execution_count": 24,
     "metadata": {},
     "output_type": "execute_result"
    }
   ],
   "source": [
    "η[2][:7]"
   ]
  },
  {
   "cell_type": "code",
   "execution_count": 25,
   "metadata": {
    "ExecuteTime": {
     "end_time": "2017-08-23T12:25:53.975249Z",
     "start_time": "2017-08-23T12:25:53.968810Z"
    },
    "collapsed": false
   },
   "outputs": [
    {
     "data": {
      "text/plain": [
       "ShimmedShared([[    inf,     inf],\n",
       "               [    inf,     inf],\n",
       "               [    inf,     inf],\n",
       "               [ 20.   ,  15.   ],\n",
       "               [ 19.975,  15.   ],\n",
       "               [ 19.95 ,  15.   ],\n",
       "               [ 19.926,  15.   ]])"
      ]
     },
     "execution_count": 25,
     "metadata": {},
     "output_type": "execute_result"
    }
   ],
   "source": [
    "η[4][:7]"
   ]
  },
  {
   "cell_type": "code",
   "execution_count": 26,
   "metadata": {
    "ExecuteTime": {
     "end_time": "2017-08-23T12:25:54.229869Z",
     "start_time": "2017-08-23T12:25:54.223201Z"
    },
    "collapsed": false
   },
   "outputs": [
    {
     "data": {
      "text/plain": [
       "array([[   inf,    inf],\n",
       "       [   inf,    inf],\n",
       "       [   inf,    inf],\n",
       "       [ 5.   ,  0.   ],\n",
       "       [ 4.975,  0.   ],\n",
       "       [ 4.95 ,  0.   ],\n",
       "       [ 4.926,  0.   ]])"
      ]
     },
     "execution_count": 26,
     "metadata": {},
     "output_type": "execute_result"
    }
   ],
   "source": [
    "mfmodel.θ_dis.get_trace()[:7]"
   ]
  },
  {
   "cell_type": "code",
   "execution_count": 28,
   "metadata": {
    "ExecuteTime": {
     "end_time": "2017-08-23T15:30:48.326069Z",
     "start_time": "2017-08-23T15:30:48.278318Z"
    },
    "collapsed": false
   },
   "outputs": [
    {
     "data": {
      "text/plain": [
       "array([[ 0.09122,  0.09121,  0.60069,  0.60069],\n",
       "       [ 0.10884,  0.10883,  0.71813,  0.71813],\n",
       "       [ 0.1288 ,  0.12879,  0.85108,  0.85108],\n",
       "       [ 0.15123,  0.15121,  1.00034,  1.00034],\n",
       "       [ 0.17625,  0.17623,  1.16654,  1.16654],\n",
       "       [ 0.20395,  0.20393,  1.35019,  1.35019],\n",
       "       [ 0.23442,  0.23439,  1.55165,  1.55165],\n",
       "       [ 0.26771,  0.26768,  1.77112,  1.77112],\n",
       "       [ 0.30387,  0.30384,  2.00862,  2.00862],\n",
       "       [ 0.34292,  0.34288,  2.26404,  2.26404]])"
      ]
     },
     "execution_count": 28,
     "metadata": {},
     "output_type": "execute_result"
    }
   ],
   "source": [
    "λ_theory = np.stack( [ mfmodel.f(u) for u in η[8] + η[9].dot(Astar) - η[5]*Astar ] )\n",
    "\n",
    "λcmp = np.empty((λ.shape[0], 2*λ.shape[1]))\n",
    "λcmp[:,::2] = λ\n",
    "λcmp[:, 1::2] = λ_theory[3:-2]\n",
    "λcmp[:10]"
   ]
  },
  {
   "cell_type": "code",
   "execution_count": 24,
   "metadata": {
    "ExecuteTime": {
     "end_time": "2017-08-23T00:25:23.392369",
     "start_time": "2017-08-23T00:25:23.259807"
    },
    "collapsed": false
   },
   "outputs": [
    {
     "data": {
      "text/plain": [
       "[<matplotlib.lines.Line2D at 0x7f7eb6b0e828>,\n",
       " <matplotlib.lines.Line2D at 0x7f7eb52dda90>]"
      ]
     },
     "execution_count": 24,
     "metadata": {},
     "output_type": "execute_result"
    },
    {
     "data": {
      "image/png": "[encoded data removed]",
      "text/plain": [
       "<matplotlib.figure.Figure at 0x7f7eb6b0e320>"
      ]
     },
     "metadata": {},
     "output_type": "display_data"
    }
   ],
   "source": [
    "plt.plot(λ)\n",
    "plt.plot(λ_theory)"
   ]
  },
  {
   "cell_type": "code",
   "execution_count": 29,
   "metadata": {
    "ExecuteTime": {
     "end_time": "2017-08-23T15:30:57.807969Z",
     "start_time": "2017-08-23T15:30:57.775122Z"
    },
    "collapsed": false
   },
   "outputs": [
    {
     "data": {
      "text/plain": [
       "array([[ 0.     ,  0.     ,  0.     ,  0.     ],\n",
       "       [ 0.     ,  0.     ,  0.     ,  0.     ],\n",
       "       [ 0.     ,  0.     ,  0.     ,  0.     ],\n",
       "       [ 0.0611 ,  0.04561,  0.42692,  0.3003 ],\n",
       "       [ 0.13292,  0.10002,  0.92921,  0.65919],\n",
       "       [ 0.15563,  0.1188 ,  1.08861,  0.7843 ],\n",
       "       [ 0.18089,  0.13999,  1.2656 ,  0.92528],\n",
       "       [ 0.20881,  0.16371,  1.46062,  1.08285],\n",
       "       [ 0.23945,  0.19006,  1.67399,  1.25757],\n",
       "       [ 0.27287,  0.21913,  1.90585,  1.44987]])"
      ]
     },
     "execution_count": 29,
     "metadata": {},
     "output_type": "execute_result"
    }
   ],
   "source": [
    "λprev = np.concatenate(\n",
    "            ( np.zeros((1,) + λ_theory.shape[1:]),\n",
    "              λ_theory[:-1] ) )\n",
    "λbar = (λ_theory + λprev)/2\n",
    "P_theory = 1 - np.exp(-λbar*mfmodel.dt)\n",
    "\n",
    "i=18000\n",
    "K = P_theory.shape[0]\n",
    "Pcmp = np.empty((K,2*P_theory.shape[1]))\n",
    "Pavg = mfmodel.P_λ[i:i+1000].mean(axis=0)\n",
    "Pcmp[:, ::2] = Pavg\n",
    "Pcmp[:, 1::2] = P_theory\n",
    "Pcmp[:10] * 1000"
   ]
  },
  {
   "cell_type": "code",
   "execution_count": 30,
   "metadata": {
    "ExecuteTime": {
     "end_time": "2017-08-23T15:30:59.269318Z",
     "start_time": "2017-08-23T15:30:59.068208Z"
    },
    "collapsed": false
   },
   "outputs": [
    {
     "data": {
      "text/plain": [
       "[<matplotlib.lines.Line2D at 0x7f107f6ee2e8>,\n",
       " <matplotlib.lines.Line2D at 0x7f107f6eecf8>,\n",
       " <matplotlib.lines.Line2D at 0x7f107f6ee748>,\n",
       " <matplotlib.lines.Line2D at 0x7f107f6f0668>]"
      ]
     },
     "execution_count": 30,
     "metadata": {},
     "output_type": "execute_result"
    },
    {
     "data": {
      "image/png": "[encoded data removed]",
      "text/plain": [
       "<matplotlib.figure.Figure at 0x7f107f6dc8d0>"
      ]
     },
     "metadata": {},
     "output_type": "display_data"
    }
   ],
   "source": [
    "plt.plot(Pcmp)"
   ]
  },
  {
   "cell_type": "code",
   "execution_count": 31,
   "metadata": {
    "ExecuteTime": {
     "end_time": "2017-08-23T15:31:02.541059Z",
     "start_time": "2017-08-23T15:31:02.498989Z"
    },
    "collapsed": true
   },
   "outputs": [],
   "source": [
    "K = s_state.m.shape[0]\n",
    "m_ss = np.empty(P_theory.shape)\n",
    "v_ss = np.empty(P_theory.shape)\n",
    "\n",
    "mavg = mfmodel.m[i:i+1000].mean(axis=0)\n",
    "vavg = mfmodel.v[i:i+1000].mean(axis=0)\n",
    "\n",
    "m_ss[0] = Astar * params.N * mfmodel.dt\n",
    "v_ss[0, :] = 0\n",
    "vavg[0, :] = 0\n",
    "for i in range(1, K):\n",
    "    m_ss[i] = (1 - P_theory[i])*m_ss[i-1]\n",
    "    v_ss[i] = (1 - P_theory[i])**2 * v_ss[i-1] + P_theory[i] * m_ss[i-1]"
   ]
  },
  {
   "cell_type": "code",
   "execution_count": 38,
   "metadata": {
    "ExecuteTime": {
     "end_time": "2017-08-24T10:15:47.553510",
     "start_time": "2017-08-24T10:15:47.323516"
    },
    "collapsed": false
   },
   "outputs": [
    {
     "data": {
      "text/plain": [
       "array([[ 2.845  ,  2.73803,  1.222  ,  1.25355],\n",
       "       [ 2.847  ,  2.73803,  1.221  ,  1.25355],\n",
       "       [ 2.845  ,  2.73803,  1.222  ,  1.25355],\n",
       "       [ 2.84283,  2.7379 ,  1.22348,  1.25317],\n",
       "       [ 2.85245,  2.73763,  1.22435,  1.25235],\n",
       "       [ 2.856  ,  2.7373 ,  1.22302,  1.25137],\n",
       "       [ 2.85448,  2.73692,  1.22148,  1.25021],\n",
       "       [ 2.85788,  2.73647,  1.22071,  1.24885],\n",
       "       [ 2.8572 ,  2.73595,  1.21769,  1.24728],\n",
       "       [ 2.85741,  2.73535,  1.2134 ,  1.24548]])"
      ]
     },
     "execution_count": 38,
     "metadata": {},
     "output_type": "execute_result"
    }
   ],
   "source": [
    "mcmp = np.empty((s_state.m.shape[0],2*P.shape[1]))\n",
    "mcmp[:, ::2] = mfmodel.m[i:i+1000].mean(axis=0)\n",
    "mcmp[:, 1::2] = s_state.m\n",
    "mcmp[:10]"
   ]
  },
  {
   "cell_type": "code",
   "execution_count": 39,
   "metadata": {
    "ExecuteTime": {
     "end_time": "2017-08-24T10:15:51.015645",
     "start_time": "2017-08-24T10:15:50.885067"
    },
    "collapsed": false
   },
   "outputs": [
    {
     "data": {
      "text/plain": [
       "[<matplotlib.lines.Line2D at 0x7fde959ca518>,\n",
       " <matplotlib.lines.Line2D at 0x7fde959ca048>,\n",
       " <matplotlib.lines.Line2D at 0x7fde959caef0>,\n",
       " <matplotlib.lines.Line2D at 0x7fde959ca860>]"
      ]
     },
     "execution_count": 39,
     "metadata": {},
     "output_type": "execute_result"
    },
    {
     "data": {
      "image/png": "[encoded data removed]",
      "text/plain": [
       "<matplotlib.figure.Figure at 0x7fde8ffe9710>"
      ]
     },
     "metadata": {},
     "output_type": "display_data"
    }
   ],
   "source": [
    "plt.plot(mcmp)"
   ]
  },
  {
   "cell_type": "code",
   "execution_count": 36,
   "metadata": {
    "ExecuteTime": {
     "end_time": "2017-08-24T10:14:37.375174",
     "start_time": "2017-08-24T10:14:36.966502"
    },
    "collapsed": false
   },
   "outputs": [
    {
     "data": {
      "text/plain": [
       "array([[  0.     ,   0.     ,   0.     ,   0.     ],\n",
       "       [  0.     ,   0.     ,   0.     ,   0.     ],\n",
       "       [  0.     ,   0.     ,   0.     ,   0.     ],\n",
       "       [  0.17403,   0.12487,   0.51988,   0.37644],\n",
       "       [  0.55452,   0.39868,   1.65217,   1.20202],\n",
       "       [  1.00056,   0.72383,   2.97319,   2.18235],\n",
       "       [  1.51733,   1.10683,   4.50313,   3.33618],\n",
       "       [  2.11688,   1.55452,   6.26655,   4.68275],\n",
       "       [  2.80146,   2.07402,   8.26775,   6.2415 ],\n",
       "       [  3.58213,   2.67265,  10.52293,   8.03181]])"
      ]
     },
     "execution_count": 36,
     "metadata": {},
     "output_type": "execute_result"
    }
   ],
   "source": [
    "vcmp = np.empty((s_state.v.shape[0],2*P.shape[1]))\n",
    "vcmp[:, ::2] = mfmodel.v[i:i+1000].mean(axis=0)\n",
    "vcmp[:, 1::2] = s_state.v\n",
    "vcmp[:10]*1000"
   ]
  },
  {
   "cell_type": "code",
   "execution_count": 35,
   "metadata": {
    "ExecuteTime": {
     "end_time": "2017-08-23T15:31:06.234249Z",
     "start_time": "2017-08-23T15:31:06.228837Z"
    },
    "collapsed": false
   },
   "outputs": [
    {
     "data": {
      "text/plain": [
       "array([ 0.00016,  0.00017,  0.     ,  0.     ])"
      ]
     },
     "execution_count": 35,
     "metadata": {},
     "output_type": "execute_result"
    }
   ],
   "source": [
    "mcmp[-1]"
   ]
  },
  {
   "cell_type": "code",
   "execution_count": 37,
   "metadata": {
    "ExecuteTime": {
     "end_time": "2017-08-24T10:14:46.131495",
     "start_time": "2017-08-24T10:14:43.782762"
    },
    "collapsed": false
   },
   "outputs": [
    {
     "data": {
      "text/plain": [
       "[<matplotlib.lines.Line2D at 0x7fde8fff62b0>,\n",
       " <matplotlib.lines.Line2D at 0x7fde8fff6550>,\n",
       " <matplotlib.lines.Line2D at 0x7fde8fff6748>,\n",
       " <matplotlib.lines.Line2D at 0x7fde8fff6940>]"
      ]
     },
     "execution_count": 37,
     "metadata": {},
     "output_type": "execute_result"
    },
    {
     "data": {
      "image/png": "[encoded data removed]",
      "text/plain": [
       "<matplotlib.figure.Figure at 0x7fde95a1a940>"
      ]
     },
     "metadata": {},
     "output_type": "display_data"
    }
   ],
   "source": [
    "plt.plot(vcmp)"
   ]
  },
  {
   "cell_type": "code",
   "execution_count": null,
   "metadata": {
    "collapsed": true
   },
   "outputs": [],
   "source": []
  },
  {
   "cell_type": "code",
   "execution_count": 13,
   "metadata": {
    "ExecuteTime": {
     "end_time": "2017-08-23T15:29:37.976563Z",
     "start_time": "2017-08-23T15:29:37.838731Z"
    },
    "collapsed": true
   },
   "outputs": [],
   "source": [
    "def get_η_csts(params, dt, K, θ, θtilde):\n",
    "    \"\"\"\n",
    "    Returns the tensor constants which, along with the stationary activity,\n",
    "    allow calculating the stationary value of each state variable. See the notebook\n",
    "    'docs/Initial_condition.ipynb' for their definitions.\n",
    "\n",
    "    Parameters\n",
    "    ----------\n",
    "    params: Parameters instance\n",
    "        Must be compatible with GIF_mean_field.Parameters\n",
    "    dt: float\n",
    "        Time step. Typically [mean field model].dt\n",
    "    K: int\n",
    "        Size of the memory vector. Typically [mean field model].K\n",
    "    θ, θtilde: Series\n",
    "        Discretized kernels θ and θtilde.\n",
    "    \"\"\"\n",
    "    Npop = len(params.N)\n",
    "    τm = params.τ_m.flatten()\n",
    "    τmT = τm[:,np.newaxis]  # transposed τ_m\n",
    "    k_refs = np.rint(params.t_ref / dt).astype('int')\n",
    "    jarrs = [np.arange(k0, K+1) for k0 in k_refs]\n",
    "    memory_time = K*dt\n",
    "    η = []\n",
    "    η.append(τmT * params.p * params.N * params.w)  # η1\n",
    "    η.append( (1 - np.exp(-dt/τmT)) * η[0] )        # η2\n",
    "    η3 = np.empty((K, Npop))\n",
    "    for α in range(Npop):\n",
    "        red_factor = np.exp(-(jarrs[α]-k_refs[α]+1)*dt/params.τ_m[α])\n",
    "        η3[:k_refs[α]-1, α] = params.u_r[α]\n",
    "        η3[k_refs[α]-1:, α] = red_factor * (params.u_r[α] - params.u_rest[α]) + params.u_rest[α]\n",
    "    η.append(η3)\n",
    "    η4 = np.zeros((K, Npop))\n",
    "    for α in range(Npop):\n",
    "        η4[k_refs[α]-1:, α] = (1 - np.exp(- (jarrs[α] - k_refs[α] + 1)*dt / τm[α])) / (1 - np.exp(- dt / τm[α]))\n",
    "    η.append(η4)\n",
    "    η.append( params.u_th + θ.get_trace()[:K] )   # η5\n",
    "    # TODO: remove params.N factor once it's removed in model\n",
    "    η.append( params.J_θ * np.exp(-memory_time/params.τ_θ.flatten()) \n",
    "              + dt * params.N*np.cumsum(θtilde.get_trace()[K-1::-1], axis=0)[::-1] )   # η6\n",
    "    η.append( params.J_θ * np.exp(-memory_time/params.τ_θ.flatten()) )  # η7\n",
    "    η.append( params.u_rest - params.u_th )  # η8\n",
    "    η.append( η[2] - η[4] )  # η9\n",
    "    η.append( η[3][..., np.newaxis] * η[1] )  # η10\n",
    "\n",
    "    return η"
   ]
  },
  {
   "cell_type": "code",
   "execution_count": 124,
   "metadata": {
    "ExecuteTime": {
     "end_time": "2017-08-21T10:43:45.000672Z",
     "start_time": "2017-08-21T10:43:44.992255Z"
    },
    "collapsed": false
   },
   "outputs": [
    {
     "data": {
      "text/plain": [
       "(786, 2)"
      ]
     },
     "execution_count": 124,
     "metadata": {},
     "output_type": "execute_result"
    }
   ],
   "source": [
    "( params.u_th + mfmodel.θ_dis.get_trace()[:mfmodel.K] ).shape"
   ]
  },
  {
   "cell_type": "code",
   "execution_count": 130,
   "metadata": {
    "ExecuteTime": {
     "end_time": "2017-08-21T10:46:02.301528Z",
     "start_time": "2017-08-21T10:46:02.295041Z"
    },
    "collapsed": false
   },
   "outputs": [
    {
     "data": {
      "text/plain": [
       "array([6, 5, 4, 3, 2, 1, 0])"
      ]
     },
     "execution_count": 130,
     "metadata": {},
     "output_type": "execute_result"
    }
   ],
   "source": [
    "np.arange(10)[:7][::-1]"
   ]
  },
  {
   "cell_type": "code",
   "execution_count": 132,
   "metadata": {
    "ExecuteTime": {
     "end_time": "2017-08-21T10:46:29.929471Z",
     "start_time": "2017-08-21T10:46:29.923242Z"
    },
    "collapsed": false
   },
   "outputs": [
    {
     "data": {
      "text/plain": [
       "array([6, 5, 4, 3, 2, 1, 0])"
      ]
     },
     "execution_count": 132,
     "metadata": {},
     "output_type": "execute_result"
    }
   ],
   "source": [
    "np.arange(10)[6::-1]"
   ]
  }
 ],
 "metadata": {
  "kernelspec": {
   "display_name": "Python (mackelab)",
   "language": "python",
   "name": "mackelab"
  },
  "language_info": {
   "codemirror_mode": {
    "name": "ipython",
    "version": 3
   },
   "file_extension": ".py",
   "mimetype": "text/x-python",
   "name": "python",
   "nbconvert_exporter": "python",
   "pygments_lexer": "ipython3",
   "version": "3.4.6"
  }
 },
 "nbformat": 4,
 "nbformat_minor": 2
}
